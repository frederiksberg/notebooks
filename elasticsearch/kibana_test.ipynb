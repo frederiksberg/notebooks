{
 "cells": [
  {
   "cell_type": "code",
   "execution_count": 1,
   "metadata": {},
   "outputs": [
    {
     "name": "stderr",
     "output_type": "stream",
     "text": [
      "/Users/andersbarfod/anaconda/envs/plandata/lib/python3.6/site-packages/requests/__init__.py:91: RequestsDependencyWarning: urllib3 (1.23) or chardet (2.3.0) doesn't match a supported version!\n",
      "  RequestsDependencyWarning)\n"
     ]
    }
   ],
   "source": [
    "from elasticsearch import Elasticsearch"
   ]
  },
  {
   "cell_type": "code",
   "execution_count": 4,
   "metadata": {},
   "outputs": [],
   "source": [
    "import sys\n",
    "sys.path.append('/Users/andersbarfod/Documents/python/')\n",
    "import connections as con"
   ]
  },
  {
   "cell_type": "code",
   "execution_count": 12,
   "metadata": {},
   "outputs": [],
   "source": [
    "df = con.sql_to_dataframe('DISTRIBUTION', 'select device_id, pressure, temperature ,battery, left(timestamp::text, 19) ts from \"DecentFrames\"')"
   ]
  },
  {
   "cell_type": "code",
   "execution_count": 13,
   "metadata": {},
   "outputs": [
    {
     "name": "stdout",
     "output_type": "stream",
     "text": [
      "<class 'pandas.core.frame.DataFrame'>\n",
      "RangeIndex: 17287 entries, 0 to 17286\n",
      "Data columns (total 5 columns):\n",
      "device_id      17287 non-null int64\n",
      "pressure       17287 non-null float64\n",
      "temperature    17287 non-null float64\n",
      "battery        17287 non-null float64\n",
      "ts             17287 non-null object\n",
      "dtypes: float64(3), int64(1), object(1)\n",
      "memory usage: 675.4+ KB\n"
     ]
    }
   ],
   "source": [
    "df.info()"
   ]
  },
  {
   "cell_type": "code",
   "execution_count": 14,
   "metadata": {},
   "outputs": [
    {
     "data": {
      "text/html": [
       "<div>\n",
       "<style scoped>\n",
       "    .dataframe tbody tr th:only-of-type {\n",
       "        vertical-align: middle;\n",
       "    }\n",
       "\n",
       "    .dataframe tbody tr th {\n",
       "        vertical-align: top;\n",
       "    }\n",
       "\n",
       "    .dataframe thead th {\n",
       "        text-align: right;\n",
       "    }\n",
       "</style>\n",
       "<table border=\"1\" class=\"dataframe\">\n",
       "  <thead>\n",
       "    <tr style=\"text-align: right;\">\n",
       "      <th></th>\n",
       "      <th>device_id</th>\n",
       "      <th>pressure</th>\n",
       "      <th>temperature</th>\n",
       "      <th>battery</th>\n",
       "      <th>ts</th>\n",
       "    </tr>\n",
       "  </thead>\n",
       "  <tbody>\n",
       "    <tr>\n",
       "      <th>0</th>\n",
       "      <td>878</td>\n",
       "      <td>0.272217</td>\n",
       "      <td>17.3438</td>\n",
       "      <td>2.956</td>\n",
       "      <td>2018-08-29 10:14:54</td>\n",
       "    </tr>\n",
       "    <tr>\n",
       "      <th>1</th>\n",
       "      <td>878</td>\n",
       "      <td>0.272156</td>\n",
       "      <td>17.3406</td>\n",
       "      <td>2.956</td>\n",
       "      <td>2018-08-29 10:16:54</td>\n",
       "    </tr>\n",
       "    <tr>\n",
       "      <th>2</th>\n",
       "      <td>878</td>\n",
       "      <td>0.272095</td>\n",
       "      <td>17.3500</td>\n",
       "      <td>2.956</td>\n",
       "      <td>2018-08-29 10:17:56</td>\n",
       "    </tr>\n",
       "    <tr>\n",
       "      <th>3</th>\n",
       "      <td>878</td>\n",
       "      <td>0.272186</td>\n",
       "      <td>17.3625</td>\n",
       "      <td>2.956</td>\n",
       "      <td>2018-08-29 10:18:58</td>\n",
       "    </tr>\n",
       "    <tr>\n",
       "      <th>4</th>\n",
       "      <td>878</td>\n",
       "      <td>0.272156</td>\n",
       "      <td>17.3125</td>\n",
       "      <td>2.954</td>\n",
       "      <td>2018-08-29 10:19:56</td>\n",
       "    </tr>\n",
       "  </tbody>\n",
       "</table>\n",
       "</div>"
      ],
      "text/plain": [
       "   device_id  pressure  temperature  battery                   ts\n",
       "0        878  0.272217      17.3438    2.956  2018-08-29 10:14:54\n",
       "1        878  0.272156      17.3406    2.956  2018-08-29 10:16:54\n",
       "2        878  0.272095      17.3500    2.956  2018-08-29 10:17:56\n",
       "3        878  0.272186      17.3625    2.956  2018-08-29 10:18:58\n",
       "4        878  0.272156      17.3125    2.954  2018-08-29 10:19:56"
      ]
     },
     "execution_count": 14,
     "metadata": {},
     "output_type": "execute_result"
    }
   ],
   "source": [
    "df.head()"
   ]
  },
  {
   "cell_type": "markdown",
   "metadata": {},
   "source": [
    "# ES"
   ]
  },
  {
   "cell_type": "code",
   "execution_count": 15,
   "metadata": {},
   "outputs": [],
   "source": [
    "es = Elasticsearch([{'host': '178.128.199.231', 'port': 9200}])"
   ]
  },
  {
   "cell_type": "code",
   "execution_count": 17,
   "metadata": {},
   "outputs": [],
   "source": [
    "mapping = {\n",
    "  \"mappings\": {\n",
    "    \"vandstand\": { \n",
    "      \"properties\": { \n",
    "        \"device_id\": { \"type\": \"integer\"  }, \n",
    "        \"pressure\": { \"type\": \"float\"  },\n",
    "        \"temperature\": { \"type\": \"float\"  }, \n",
    "        \"battery\": { \"type\": \"float\"  },\n",
    "        \"timestamp\": { \n",
    "            \"type\": \"date\",\n",
    "            \"format\": \"yyyy-MM-dd HH:mm:ss\"\n",
    "        }\n",
    "      }\n",
    "    }\n",
    "  }\n",
    "}"
   ]
  },
  {
   "cell_type": "code",
   "execution_count": 18,
   "metadata": {},
   "outputs": [
    {
     "data": {
      "text/plain": [
       "{'acknowledged': True, 'shards_acknowledged': True, 'index': 'klima'}"
      ]
     },
     "execution_count": 18,
     "metadata": {},
     "output_type": "execute_result"
    }
   ],
   "source": [
    "# ignore 400 cause by IndexAlreadyExistsException when creating an index\n",
    "es.indices.create(index='klima', ignore=400, body=mapping)"
   ]
  },
  {
   "cell_type": "code",
   "execution_count": 21,
   "metadata": {},
   "outputs": [],
   "source": [
    "def df_to_es(row):\n",
    "    \n",
    "    data = {\n",
    "        \"device_id\": row['device_id'],\n",
    "        \"pressure\": row['pressure'],\n",
    "        \"temperature\": row['temperature'], \n",
    "        \"battery\": row['battery'],\n",
    "        \"timestamp\": row['ts']\n",
    "    }\n",
    "    \n",
    "    res = es.index(index='klima', doc_type='vandstand', body=data)"
   ]
  },
  {
   "cell_type": "code",
   "execution_count": 22,
   "metadata": {},
   "outputs": [
    {
     "data": {
      "text/plain": [
       "0        None\n",
       "1        None\n",
       "2        None\n",
       "3        None\n",
       "4        None\n",
       "5        None\n",
       "6        None\n",
       "7        None\n",
       "8        None\n",
       "9        None\n",
       "10       None\n",
       "11       None\n",
       "12       None\n",
       "13       None\n",
       "14       None\n",
       "15       None\n",
       "16       None\n",
       "17       None\n",
       "18       None\n",
       "19       None\n",
       "20       None\n",
       "21       None\n",
       "22       None\n",
       "23       None\n",
       "24       None\n",
       "25       None\n",
       "26       None\n",
       "27       None\n",
       "28       None\n",
       "29       None\n",
       "         ... \n",
       "17257    None\n",
       "17258    None\n",
       "17259    None\n",
       "17260    None\n",
       "17261    None\n",
       "17262    None\n",
       "17263    None\n",
       "17264    None\n",
       "17265    None\n",
       "17266    None\n",
       "17267    None\n",
       "17268    None\n",
       "17269    None\n",
       "17270    None\n",
       "17271    None\n",
       "17272    None\n",
       "17273    None\n",
       "17274    None\n",
       "17275    None\n",
       "17276    None\n",
       "17277    None\n",
       "17278    None\n",
       "17279    None\n",
       "17280    None\n",
       "17281    None\n",
       "17282    None\n",
       "17283    None\n",
       "17284    None\n",
       "17285    None\n",
       "17286    None\n",
       "Length: 17287, dtype: object"
      ]
     },
     "execution_count": 22,
     "metadata": {},
     "output_type": "execute_result"
    }
   ],
   "source": [
    "df.apply(df_to_es, axis=1)"
   ]
  },
  {
   "cell_type": "code",
   "execution_count": 16,
   "metadata": {},
   "outputs": [
    {
     "data": {
      "text/plain": [
       "{'acknowledged': True}"
      ]
     },
     "execution_count": 16,
     "metadata": {},
     "output_type": "execute_result"
    }
   ],
   "source": [
    "es.indices.delete(index='klima', ignore=[400, 404])"
   ]
  }
 ],
 "metadata": {
  "kernelspec": {
   "display_name": "Python 3",
   "language": "python",
   "name": "python3"
  },
  "language_info": {
   "codemirror_mode": {
    "name": "ipython",
    "version": 3
   },
   "file_extension": ".py",
   "mimetype": "text/x-python",
   "name": "python",
   "nbconvert_exporter": "python",
   "pygments_lexer": "ipython3",
   "version": "3.6.6"
  }
 },
 "nbformat": 4,
 "nbformat_minor": 2
}
