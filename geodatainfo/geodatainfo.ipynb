{
 "cells": [
  {
   "cell_type": "markdown",
   "metadata": {},
   "source": [
    "# Metadata fra Geodata-info.dk\n",
    "Denne notebook er tænkt til at hente data fra [geodata-info.dk](https://www.geodata-info.dk) (GDI) så egne geodata kan beriges udfra den nøgle (Identifikator) GDI tildeler deres datasæt. Det kræver således at man selv har tagget sine geodata med den nøglen og at disse kan udstilles, så data kan beriges med metadata. Vi arbejder med [Mapcentias GeoCloud2](http://www.mapcentia.com/dk/produkt/) som bruger [PostgreSQL](https://www.postgresql.org/), så derfor vil denne notebook være rettet mod at snakke med denne platform.\n",
    "    \n",
    "### Om Geodata-info.dk\n",
    "Geodata-info.dk er den danske geoportal, der gør det muligt for professionelle brugere samt borgere med interesse for geodata at søge efter geodatasæt og geodatatjenester. Geodata-info.dk omfatter desuden den danske søgetjeneste i henhold til INSPIRE-direktivet (Forordning nr. 976/2009 for så vidt angår nettjenesterne)."
   ]
  },
  {
   "cell_type": "code",
   "execution_count": 2,
   "metadata": {},
   "outputs": [],
   "source": [
    "import requests\n",
    "import xml.etree.ElementTree as ET\n",
    "import json\n",
    "import sys\n",
    "import pandas as pd\n",
    "sys.path.append('/python/')\n",
    "import connections as con"
   ]
  },
  {
   "cell_type": "code",
   "execution_count": 3,
   "metadata": {},
   "outputs": [],
   "source": [
    "class Geometadata:\n",
    "    \"\"\"\n",
    "    Henter metadata om tabeller fra geodata-info.dk\n",
    "    \"\"\"\n",
    "    def __init__(self):\n",
    "        self.fileIdentifier_path = \"gmd:fileIdentifier/gco:CharacterString\"\n",
    "        self.title_path = \"gmd:identificationInfo/gmd:MD_DataIdentification/gmd:citation/gmd:CI_Citation/gmd:title/gco:CharacterString\"\n",
    "        self.abstract_path = \"gmd:identificationInfo/gmd:MD_DataIdentification/gmd:abstract/gco:CharacterString\"\n",
    "        self.organisationName_path = \"gmd:contact/gmd:CI_ResponsibleParty/gmd:organisationName/gco:CharacterString\"\n",
    "    \n",
    "    def get_xml(self,  gid):\n",
    "        url = f\"https://geodata-info.dk/srv/api/records/{gid}/formatters/xml\"\n",
    "        r = requests.request(\"GET\", url)\n",
    "        root = ET.fromstring(r.text)\n",
    "        \n",
    "        return root\n",
    "    \n",
    "    def get_property(self, xml, xml_path):\n",
    "        \n",
    "        namespaces = {\n",
    "            'gmd': 'http://www.isotc211.org/2005/gmd',\n",
    "            'gco': 'http://www.isotc211.org/2005/gco'\n",
    "        }\n",
    "               \n",
    "        prop = xml.find(xml_path, namespaces)\n",
    "        \n",
    "        return prop.text\n",
    "        \n",
    "    def get_meta_data(self, gid, properties=['fileIdentifier', 'title', 'abstract', 'organisationName']):\n",
    "    \n",
    "        \"\"\"\n",
    "        Henter metadata udfra metadata id fra geodata-info.dk\n",
    "        fileIdentifier\n",
    "        title\n",
    "        abstract\n",
    "        organisationName  \n",
    "        \"\"\"\n",
    "        \n",
    "        root = self.get_xml(gid)\n",
    "        \n",
    "        props = {}\n",
    "\n",
    "        for prop in properties:\n",
    "            prop = str(prop).lower()\n",
    "            \n",
    "            if prop == \"fileidentifier\":\n",
    "                props.update({\"fileIdentifier\" : self.get_property(root, self.fileIdentifier_path)})\n",
    "            elif prop == \"title\":\n",
    "                props.update({\"title\" : self.get_property(root, self.title_path)})\n",
    "            elif prop == \"abstract\":\n",
    "                props.update({\"abstract\" : self.get_property(root, self.abstract_path)})\n",
    "            elif prop == \"organisationname\":\n",
    "                props.update({\"organisationName\" : self.get_property(root, self.organisationName_path)})\n",
    "                \n",
    "        return props"
   ]
  },
  {
   "cell_type": "markdown",
   "metadata": {},
   "source": [
    "# Berig tabeller med metadata fra Geodata-info"
   ]
  },
  {
   "cell_type": "code",
   "execution_count": 4,
   "metadata": {},
   "outputs": [],
   "source": [
    "meta = Geometadata()"
   ]
  },
  {
   "cell_type": "code",
   "execution_count": 17,
   "metadata": {},
   "outputs": [
    {
     "data": {
      "text/plain": [
       "{'title': 'Beskyttede naturtyper',\n",
       " 'abstract': 'Registrering af naturtyper, som er beskyttet efter naturbeskyttelseslovens § 3.\\n\\nDisse er:\\n·          søer og vandhuller med et areal på mindst 100 m2, \\n·          moser, enge, strandenge, strandsumpe, heder og overdrev med et areal på mindst 2500 m2,\\n·          \"mosaikker\" af ovennævnte naturtyper med et areal på mindst 2500 m2,\\n·          visse udpegede vandløb  & \\n·          alle moser i f. m. beskyttede vandhuller, søer eller vandløb.\\nBeskyttelsen gælder uanset om der er en eller flere ejere. Tilstandsændring af beskyttet natur kræver tilladelse (dispensation).\\nEt beskyttet areal kan i årenes løb ændre sig så meget, at det ikke længere er beskyttet. Omvendt kan et areal som i dag ikke er beskyttet, ændre sig, så det bliver det.\\nDet er de faktiske forhold på arealet (størrelse, botanik, omlægningshyppighed m. m.) der afgør, om det er beskyttet eller ej. Registreringen er derfor vejledende\\nHvorvidt et areal er beskyttet eller ej, vil i tvivlstilfælde blive afgjort ved en besigtigelse og vurdering af arealet.\\nLov om naturbeskyttelse, §3, lovbekendtgørelse nr. 933 af 24. september 2009',\n",
       " 'organisationName': 'Danmarks Miljøportal'}"
      ]
     },
     "execution_count": 17,
     "metadata": {},
     "output_type": "execute_result"
    }
   ],
   "source": [
    "meta.get_meta_data('fb9e06dc-9f02-42ac-bf1c-e0d662b81f4f', ['title', 'abstract', 'organisationName'])"
   ]
  },
  {
   "cell_type": "code",
   "execution_count": 5,
   "metadata": {},
   "outputs": [],
   "source": [
    "query = \"\"\"\n",
    "    select table_name id\n",
    "    from gc2_io_wfs_management.wfs_schema_table_names\n",
    "    \"\"\""
   ]
  },
  {
   "cell_type": "code",
   "execution_count": 6,
   "metadata": {},
   "outputs": [],
   "source": [
    "df = con.sql_to_dataframe('production', query)"
   ]
  },
  {
   "cell_type": "code",
   "execution_count": 8,
   "metadata": {},
   "outputs": [],
   "source": [
    "properties=['title', 'abstract', 'organisationName']"
   ]
  },
  {
   "cell_type": "code",
   "execution_count": 9,
   "metadata": {},
   "outputs": [
    {
     "ename": "ParseError",
     "evalue": "no element found: line 1, column 0 (<string>)",
     "output_type": "error",
     "traceback": [
      "Traceback \u001b[1;36m(most recent call last)\u001b[0m:\n",
      "  File \u001b[0;32m\"C:\\ProgramData\\Anaconda3\\lib\\site-packages\\IPython\\core\\interactiveshell.py\"\u001b[0m, line \u001b[0;32m2963\u001b[0m, in \u001b[0;35mrun_code\u001b[0m\n    exec(code_obj, self.user_global_ns, self.user_ns)\n",
      "  File \u001b[0;32m\"<ipython-input-9-39e4c2655dfb>\"\u001b[0m, line \u001b[0;32m1\u001b[0m, in \u001b[0;35m<module>\u001b[0m\n    df[properties] = df['id'].apply(lambda x: pd.Series(meta.get_meta_data(x, properties).values()))\n",
      "  File \u001b[0;32m\"C:\\ProgramData\\Anaconda3\\lib\\site-packages\\pandas\\core\\series.py\"\u001b[0m, line \u001b[0;32m3192\u001b[0m, in \u001b[0;35mapply\u001b[0m\n    mapped = lib.map_infer(values, f, convert=convert_dtype)\n",
      "  File \u001b[0;32m\"pandas/_libs/src\\inference.pyx\"\u001b[0m, line \u001b[0;32m1472\u001b[0m, in \u001b[0;35mpandas._libs.lib.map_infer\u001b[0m\n",
      "  File \u001b[0;32m\"<ipython-input-9-39e4c2655dfb>\"\u001b[0m, line \u001b[0;32m1\u001b[0m, in \u001b[0;35m<lambda>\u001b[0m\n    df[properties] = df['id'].apply(lambda x: pd.Series(meta.get_meta_data(x, properties).values()))\n",
      "  File \u001b[0;32m\"<ipython-input-3-a03c3ab1ecdf>\"\u001b[0m, line \u001b[0;32m39\u001b[0m, in \u001b[0;35mget_meta_data\u001b[0m\n    root = self.get_xml(gid)\n",
      "  File \u001b[0;32m\"<ipython-input-3-a03c3ab1ecdf>\"\u001b[0m, line \u001b[0;32m14\u001b[0m, in \u001b[0;35mget_xml\u001b[0m\n    root = ET.fromstring(r.text)\n",
      "\u001b[1;36m  File \u001b[1;32m\"C:\\ProgramData\\Anaconda3\\lib\\xml\\etree\\ElementTree.py\"\u001b[1;36m, line \u001b[1;32m1315\u001b[1;36m, in \u001b[1;35mXML\u001b[1;36m\u001b[0m\n\u001b[1;33m    return parser.close()\u001b[0m\n",
      "\u001b[1;36m  File \u001b[1;32m\"<string>\"\u001b[1;36m, line \u001b[1;32munknown\u001b[0m\n\u001b[1;31mParseError\u001b[0m\u001b[1;31m:\u001b[0m no element found: line 1, column 0\n"
     ]
    }
   ],
   "source": [
    "df[properties] = df['id'].apply(lambda x: pd.Series(meta.get_meta_data(x, properties).values()))"
   ]
  },
  {
   "cell_type": "code",
   "execution_count": null,
   "metadata": {},
   "outputs": [],
   "source": [
    "df['title'] = df.title.apply(lambda x: list(x)[0]) \n",
    "df['abstract'] = df.abstract.apply(lambda x: list(x)[1]) \n",
    "df['organisationName'] = df.organisationName.apply(lambda x: list(x)[2]) "
   ]
  },
  {
   "cell_type": "markdown",
   "metadata": {},
   "source": [
    "# To PostgreSQL"
   ]
  },
  {
   "cell_type": "code",
   "execution_count": null,
   "metadata": {},
   "outputs": [],
   "source": [
    "df.to_sql('geodatainfo_meta')"
   ]
  },
  {
   "cell_type": "markdown",
   "metadata": {},
   "source": [
    "# Gammelt"
   ]
  },
  {
   "cell_type": "code",
   "execution_count": null,
   "metadata": {},
   "outputs": [],
   "source": [
    "query = \"\"\"\n",
    "    select \"_key_\", RIGHT(value, length(value) - 5) id\n",
    "    from SETTINGS.GEOMETRY_COLUMNS_JOIN, jsonb_array_elements_text(tags)\n",
    "    where value like '_gdi:%%'\n",
    "\"\"\""
   ]
  },
  {
   "cell_type": "code",
   "execution_count": null,
   "metadata": {},
   "outputs": [],
   "source": [
    "def add_metadata(gid, properties, df):\n",
    "    \"\"\"\n",
    "    Add metadata columns to dataframe\n",
    "    \"\"\"\n",
    "    data = meta.get_meta_data(gid, properties)\n",
    "    print(data)\n",
    "   \n",
    "    for key in data:\n",
    "        #print(df[key], data[key])\n",
    "        df[key] = data[key]"
   ]
  },
  {
   "cell_type": "code",
   "execution_count": null,
   "metadata": {},
   "outputs": [],
   "source": [
    "url = \"https://geodata-info.dk/srv/api/records/fb9e06dc-9f02-42ac-bf1c-e0d662b81f4f/formatters/xml\"\n",
    "r = requests.request(\"GET\", url)"
   ]
  },
  {
   "cell_type": "code",
   "execution_count": null,
   "metadata": {},
   "outputs": [],
   "source": [
    "root = ET.fromstring(r.text)"
   ]
  },
  {
   "cell_type": "code",
   "execution_count": null,
   "metadata": {},
   "outputs": [],
   "source": []
  },
  {
   "cell_type": "code",
   "execution_count": null,
   "metadata": {},
   "outputs": [],
   "source": [
    "namespaces = {\n",
    "    'gmd': 'http://www.isotc211.org/2005/gmd',\n",
    "    'gco': 'http://www.isotc211.org/2005/gco'\n",
    "}"
   ]
  },
  {
   "cell_type": "code",
   "execution_count": null,
   "metadata": {},
   "outputs": [],
   "source": [
    "base = \"gmd:identificationInfo/gmd:MD_DataIdentification/\"\n",
    "abs_path = f\"{base}gmd:abstract/gco:CharacterString\""
   ]
  },
  {
   "cell_type": "code",
   "execution_count": null,
   "metadata": {},
   "outputs": [],
   "source": [
    "abs_path"
   ]
  },
  {
   "cell_type": "code",
   "execution_count": null,
   "metadata": {},
   "outputs": [],
   "source": [
    "abstact = root.find(path, namespaces)"
   ]
  },
  {
   "cell_type": "code",
   "execution_count": null,
   "metadata": {},
   "outputs": [],
   "source": [
    "abstact.text"
   ]
  },
  {
   "cell_type": "markdown",
   "metadata": {},
   "source": [
    "# HENT DATA WFS"
   ]
  },
  {
   "cell_type": "markdown",
   "metadata": {},
   "source": [
    "Tabelnavn (typename) fra WFS'er GC2 scheduler jobs udtrækkes"
   ]
  },
  {
   "cell_type": "code",
   "execution_count": null,
   "metadata": {},
   "outputs": [],
   "source": [
    "wfs = pd.read_csv('data/wfs.csv')"
   ]
  },
  {
   "cell_type": "code",
   "execution_count": null,
   "metadata": {},
   "outputs": [],
   "source": [
    "def typename(url):\n",
    "    for item in url.split('&'):\n",
    "        if item.split('=')[0].lower() == 'typename':\n",
    "            return (item.split('=')[1])"
   ]
  },
  {
   "cell_type": "code",
   "execution_count": null,
   "metadata": {},
   "outputs": [],
   "source": [
    "wfs['typename'] = wfs['url'].apply(lambda x: typename(x))"
   ]
  },
  {
   "cell_type": "code",
   "execution_count": null,
   "metadata": {},
   "outputs": [],
   "source": [
    "wfs.head()"
   ]
  },
  {
   "cell_type": "markdown",
   "metadata": {},
   "source": [
    "## FIND uuid for hver typename"
   ]
  },
  {
   "cell_type": "code",
   "execution_count": 14,
   "metadata": {},
   "outputs": [],
   "source": [
    "def get_uuid(typename):\n",
    "    url = \"https://www.geodata-info.dk/srv/dan/q\"\n",
    "\n",
    "    querystring = {\n",
    "        \"_content_type\":\"json\",\n",
    "        \"any\":typename,\n",
    "        \"bucket\":\"s101\",\n",
    "        \"facet.q\":\"\",\n",
    "        \"fast\":\"index\",\n",
    "        \"from\":\"1\",\n",
    "        \"resultType\":\"details\",\n",
    "        \"sortBy\":\"relevance\",\n",
    "        \"to\":\"20\"\n",
    "    }\n",
    "\n",
    "    headers = {\n",
    "        'Cache-Control': \"no-cache\"\n",
    "        }\n",
    "\n",
    "    response = requests.request(\"GET\", url, headers=headers, params=querystring)\n",
    "    j = response.json()\n",
    "    print(j)\n",
    "    \n",
    "#    try:\n",
    "#        return j['metadata']['geonet:info']['uuid']\n",
    "#    except Exception as e:\n",
    "#        print(e)"
   ]
  },
  {
   "cell_type": "code",
   "execution_count": 15,
   "metadata": {},
   "outputs": [
    {
     "name": "stdout",
     "output_type": "stream",
     "text": [
      "{'@from': '1', '@to': '3', '@selected': '0', 'summary': {'@count': '3', '@type': 'local', 'dimension': [{'@name': 'type', '@label': 'types', 'category': [{'@value': 'service', '@label': 'Service', '@count': '2'}, {'@value': 'service-ERSTAT MED view ELLER download', '@label': 'service-ERSTAT MED view ELLER download', '@count': '2'}, {'@value': 'dataset', '@label': 'Datasæt', '@count': '1'}]}, {'@name': 'topicCat', '@label': 'topicCats', 'category': {'@value': 'environment', '@label': 'Miljø', '@count': '1'}}, {'@name': 'inspireThemeURI', '@label': 'inspireThemesURI', 'category': [{'@value': 'http://rdfdata.eionet.europa.eu/inspirethemes/themes/17', '@label': 'http://rdfdata.eionet.europa.eu/inspirethemes/themes/17', '@count': '1'}, {'@value': 'http://rdfdata.eionet.europa.eu/inspirethemes/themes/9', '@label': 'http://rdfdata.eionet.europa.eu/inspirethemes/themes/9', '@count': '1'}]}, {'@name': 'inspireThemeCluster', '@label': 'inspireThemeCluster', 'category': [{'@value': 'bioManagementAreas', '@label': 'Biodiversitet og arealforvaltning', '@count': '1'}, {'@value': 'landCoverUsage', '@label': 'Arealdække og arealanvendelse', '@count': '1'}]}, {'@name': 'keyword', '@label': 'keywords', 'category': [{'@value': 'mim2geodatainfo', '@label': 'mim2geodatainfo', '@count': '2'}, {'@value': 'INSPIRE', '@label': 'INSPIRE', '@count': '2'}, {'@value': '(SLET ELLER ERSTAT MED KEYWORDS FRA ORDLISTER)', '@label': '(SLET ELLER ERSTAT MED KEYWORDS FRA ORDLISTER)', '@count': '2'}, {'@value': 'Miljø', '@label': 'Miljø', '@count': '1'}, {'@value': 'Arealanvendelse', '@label': 'Arealanvendelse', '@count': '1'}, {'@value': 'Beskyttede lokaliteter', '@label': 'Beskyttede lokaliteter', '@count': '1'}, {'@value': 'infoMapAccessService', '@label': 'infoMapAccessService', '@count': '1'}, {'@value': 'infoFeatureAccessService', '@label': 'infoFeatureAccessService', '@count': '1'}, {'@value': 'WFS', '@label': 'WFS', '@count': '1'}, {'@value': 'WMS', '@label': 'WMS', '@count': '1'}]}, {'@name': 'orgName', '@label': 'orgNames', 'category': [{'@value': 'Danmarks Miljøportal', '@label': 'Danmarks Miljøportal', '@count': '3'}, {'@value': 'Organisation ansvarlig for metadata (ERSTAT)', '@label': 'Organisation ansvarlig for metadata (ERSTAT)', '@count': '2'}, {'@value': 'de danske kommuner', '@label': 'de danske kommuner', '@count': '1'}]}, {'@name': 'sourceCatalog', '@label': 'sourceCatalog', 'category': [{'@value': '10e690dd-e193-4ce0-bd44-f6477c42aea5', '@label': 'Miljøministeriets portal', '@count': '2'}, {'@value': '2f97c07a-057a-44e9-95c0-2f9c3e502872', '@label': '2f97c07a-057a-44e9-95c0-2f9c3e502872', '@count': '1'}]}, {'@name': 'createDateYear', '@label': 'createDateYears'}, {'@name': 'format', '@label': 'formats', 'category': [{'@value': 'Format (ERSTAT)', '@label': 'Format (ERSTAT)', '@count': '2'}, {'@value': 'MapInfo, Shape, GML', '@label': 'MapInfo, Shape, GML', '@count': '1'}]}, {'@name': 'spatialRepresentationType', '@label': 'spatialRepresentationTypes'}, {'@name': 'maintenanceAndUpdateFrequency', '@label': 'maintenanceAndUpdateFrequencies'}, {'@name': 'status', '@label': 'status'}, {'@name': 'serviceType', '@label': 'serviceTypes', 'category': {'@value': 'ERSTAT MED view ELLER download', '@label': 'ERSTAT MED view ELLER download', '@count': '2'}}, {'@name': 'denominator', '@label': 'denominators', 'category': {'@value': '70000', '@label': '70000', '@count': '1'}}, {'@name': 'resolution', '@label': 'resolutions'}]}, 'metadata': [{'title': 'DaiDB WFS', 'abstract': 'DaiDB WFS', 'serviceType': 'ERSTAT MED view ELLER download', 'resourceConstraints': 'Ingen betingelser (ERSTAT EVT. MED Betingelser ukendte ELLER BETINGELSER)', 'responsibleParty': ['Ejer|resource|Danmarks Miljøportal||support@miljoeportal.dk|Danmarks Miljøportal|Faglig ansvarlig|Haraldsgade 53, København Ø, 2100, Denmark|72 54 64 64||1', 'Kontaktpunkt|metadata|Organisation ansvarlig for metadata (ERSTAT)||email-adresse (ERSTAT)|Person ansvarlig for metadata (ERSTAT)|Persons titel (ERSTAT)|Vejnavn og husnummer (ERSTAT), By (ERSTAT), Postnummer (ERSTAT), Danmark|Telefonnummer (ERSTAT)||1'], 'type': ['service-ERSTAT MED view ELLER download', 'service'], 'legalConstraints': 'Ingen restriktioner (ERSTAT EVT. MED RESTRIKTIONER)', 'isHarvested': 'y', 'displayOrder': '0', 'docLocale': 'dan', 'popularity': '0', 'keyword': ['infoFeatureAccessService', 'INSPIRE', 'WFS', 'mim2geodatainfo', '(SLET ELLER ERSTAT MED KEYWORDS FRA ORDLISTER)'], 'publishedForGroup': ['1', '13'], 'identifier': 'https://envi.data.gov.dk/3173780f-cb40-4bb2-8a22-38ce61fc868b', 'tempExtentBegin': '2010-02-28t23:00:00.000z', 'mdLanguage': 'dan', 'crsDetails': {'code': 'ETRS89 / UTM zone 32N (EPSG:25832)', 'codeSpace': 'EPSG', 'name': '', 'url': ''}, 'format': 'Format (ERSTAT)', 'root': 'gmd:MD_Metadata', 'isTemplate': 'n', 'valid': '-1', 'tempExtentEnd': '2011-03-16t23:00:00.000z', 'rating': '0', 'source': '10e690dd-e193-4ce0-bd44-f6477c42aea5', 'geoBox': '8.00|54.50|15.50|58.00', 'owner': '1', 'link': ['||URL, fx med GetCapabilities-request (ERSTAT)||text/plain|1', '||URL, fx med dokumentation (ERSTAT)||text/plain|2', 'BES_VANDLOEB, BES_NATURTYPER, FUGLE_BES_OMR, HABITAT_OMR, RAMSAR_OMR, NATUR_VILDT_RESERVAT, SOE_BES_LINJER, AA_BES_LINJER, SKOVBYGGELINJER, KIRKEBYGGELINJER, BES_STEN_JORDDIGER, FREDEDE_OMR, FREDEDE_OMR_FORSLAG, OMR_KLASSIFICERING, RAASTOFOMR, KYSTNAERHEDSZONE, BNBO, HNV, PAABUD_JFL, Overfladevandslinjer, INDSATSPLANER|Link|https://arealinformation.miljoeportal.dk/gis/rest/services/DAIdb/MapServer|WWW:LINK-1.0-http--partners|text/html|3', 'BES_VANDLOEB, BES_NATURTYPER, FUGLE_BES_OMR, HABITAT_OMR, RAMSAR_OMR, NATUR_VILDT_RESERVAT, SOE_BES_LINJER, AA_BES_LINJER, SKOVBYGGELINJER, KIRKEBYGGELINJER, BES_STEN_JORDDIGER, FREDEDE_OMR, FREDEDE_OMR_FORSLAG, OMR_KLASSIFICERING, RAASTOFOMR, KYSTNAERHEDSZONE, BNBO, HNV, PAABUD_JFL, Overfladevandslinjer, INDSATSPLANER|WFS|https://arealinformation.miljoeportal.dk/gis/services/DAIdb/MapServer/WFSServer?request=GetCapabilities&service=WFS|OGC:WFS|OGC:WFS|4'], 'defaultTitle': 'DaiDB WFS', 'userinfo': 'admin|admin|admin|Administrator', 'publicationDate': '2014-07-31', 'standardName': 'ISO19119', 'crs': 'ETRS89 / UTM zone 32N (EPSG:25832)::EPSG', 'parentId': '536944b5-4053-44c1-92bb-094ad450277d', 'keywordGroup': {'keywords': ['INSPIRE', 'WFS', 'mim2geodatainfo', '(SLET ELLER ERSTAT MED KEYWORDS FRA ORDLISTER)'], 'ISO 19119': ['infoFeatureAccessService']}, 'identifierWithCodespace': 'https://envi.data.gov.dk/3173780f-cb40-4bb2-8a22-38ce61fc868b', 'groupOwner': '13', '_locale': 'dan', 'specificationInfo': ['true|2010-03-16|publication|BES_VANDLOEB, BES_NATURTYPER, FUGLE_BES_OMR, HABITAT_OMR, RAMSAR_OMR, NATUR_VILDT_RESERVAT, SOE_BES_LINJER, AA_BES_LINJER, SKOVBYGGELINJER, KIRKEBYGGELINJER, BES_STEN_JORDDIGER, FREDEDE_OMR, FREDEDE_OMR_FORSLAG, OMR_KLASSIFICERING, RAASTOFOMR, KYSTNAERHEDSZONE, BNBO, HNV, PAABUD_JFL, Overfladevandslinjer, INDSATSPLANER', 'true|2009-10-19|publication|KOMMISSIONENS FORORDNING (EF) Nr. 976/2009 af 19. oktober 2009 om gennemførelse af Europa-Parlamentets og Rådets direktiv 2007/2/EF for så vidt angår nettjenesterne'], 'geonet:info': {'@xmlns:geonet': 'http://www.fao.org/geonetwork', 'id': '6388564', 'uuid': '3173780f-cb40-4bb2-8a22-38ce61fc868b', 'schema': 'iso19139', 'createDate': '2018-04-24T11:14:42', 'changeDate': '2018-08-01T10:58:33', 'source': '10e690dd-e193-4ce0-bd44-f6477c42aea5', 'isPublishedToAll': 'true', 'view': 'true', 'notify': 'false', 'download': 'true', 'dynamic': 'true', 'featured': 'false', 'selected': 'false'}}, {'title': 'DaiDB WMS', 'abstract': 'DaiDB WMS', 'serviceType': 'ERSTAT MED view ELLER download', 'resourceConstraints': 'Ingen betingelser (ERSTAT EVT. MED Betingelser ukendte ELLER BETINGELSER)', 'responsibleParty': ['Ejer|resource|Danmarks Miljøportal||support@miljoeportal.dk|Danmarks Miljøportal|Faglig ansvarlig|Haraldsgade 53, København Ø, 2100, Denmark|72 54 64 64||1', 'Kontaktpunkt|metadata|Organisation ansvarlig for metadata (ERSTAT)||email-adresse (ERSTAT)|Person ansvarlig for metadata (ERSTAT)|Persons titel (ERSTAT)|Vejnavn og husnummer (ERSTAT), By (ERSTAT), Postnummer (ERSTAT), Danmark|Telefonnummer (ERSTAT)||1'], 'type': ['service-ERSTAT MED view ELLER download', 'service'], 'legalConstraints': 'Ingen restriktioner (ERSTAT EVT. MED RESTRIKTIONER)', 'isHarvested': 'y', 'displayOrder': '0', 'docLocale': 'dan', 'popularity': '0', 'keyword': ['infoMapAccessService', 'INSPIRE', 'WMS', 'mim2geodatainfo', '(SLET ELLER ERSTAT MED KEYWORDS FRA ORDLISTER)'], 'publishedForGroup': ['1', '13'], 'identifier': 'https://envi.data.gov.dk/2068ef4c-628e-4e8a-866e-3181230ef810', 'tempExtentBegin': '2010-02-28t23:00:00.000z', 'mdLanguage': 'dan', 'crsDetails': {'code': 'ETRS89 / UTM zone 32N (EPSG:25832)', 'codeSpace': 'EPSG', 'name': '', 'url': ''}, 'format': 'Format (ERSTAT)', 'root': 'gmd:MD_Metadata', 'isTemplate': 'n', 'valid': '-1', 'tempExtentEnd': '2011-03-16t23:00:00.000z', 'rating': '0', 'source': '10e690dd-e193-4ce0-bd44-f6477c42aea5', 'geoBox': '8.00|54.50|15.50|58.00', 'owner': '1', 'link': ['||URL, fx med GetCapabilities-request (ERSTAT)||text/plain|1', '||URL, fx med dokumentation (ERSTAT)||text/plain|2', 'BES_VANDLOEB, BES_NATURTYPER, FUGLE_BES_OMR, HABITAT_OMR, RAMSAR_OMR, NATUR_VILDT_RESERVAT, SOE_BES_LINJER, AA_BES_LINJER, SKOVBYGGELINJER, KIRKEBYGGELINJER, BES_STEN_JORDDIGER, FREDEDE_OMR, FREDEDE_OMR_FORSLAG, OMR_KLASSIFICERING, RAASTOFOMR, KYSTNAERHEDSZONE, BNBO, HNV, PAABUD_JFL, Overfladevandslinjer, INDSATSPLANER|Link|https://arealinformation.miljoeportal.dk/gis/rest/services/DAIdb/MapServer|WWW:LINK-1.0-http--partners|text/html|3', 'BES_VANDLOEB, BES_NATURTYPER, FUGLE_BES_OMR, HABITAT_OMR, RAMSAR_OMR, NATUR_VILDT_RESERVAT, SOE_BES_LINJER, AA_BES_LINJER, SKOVBYGGELINJER, KIRKEBYGGELINJER, BES_STEN_JORDDIGER, FREDEDE_OMR, FREDEDE_OMR_FORSLAG, OMR_KLASSIFICERING, RAASTOFOMR, KYSTNAERHEDSZONE, BNBO, HNV, PAABUD_JFL, Overfladevandslinjer, INDSATSPLANER|WFS|https://arealinformation.miljoeportal.dk/gis/services/DAIdb/MapServer/WMSServer?request=GetCapabilities&service=WMS|OGC:WMS|application/vnd.ogc.wms_xml|4', 'BES_VANDLOEB, BES_NATURTYPER, FUGLE_BES_OMR, HABITAT_OMR, RAMSAR_OMR, NATUR_VILDT_RESERVAT, SOE_BES_LINJER, AA_BES_LINJER, SKOVBYGGELINJER, KIRKEBYGGELINJER, BES_STEN_JORDDIGER, FREDEDE_OMR, FREDEDE_OMR_FORSLAG, OMR_KLASSIFICERING, RAASTOFOMR, KYSTNAERHEDSZONE, BNBO, HNV, PAABUD_JFL, Overfladevandslinjer, INDSATSPLANER|WFS|../../srv/en/google.kml?uuid=2068ef4c-628e-4e8a-866e-3181230ef810&layers=BES_VANDLOEB, BES_NATURTYPER, FUGLE_BES_OMR, HABITAT_OMR, RAMSAR_OMR, NATUR_VILDT_RESERVAT, SOE_BES_LINJER, AA_BES_LINJER, SKOVBYGGELINJER, KIRKEBYGGELINJER, BES_STEN_JORDDIGER, FREDEDE_OMR, FREDEDE_OMR_FORSLAG, OMR_KLASSIFICERING, RAASTOFOMR, KYSTNAERHEDSZONE, BNBO, HNV, PAABUD_JFL, Overfladevandslinjer, INDSATSPLANER|application/vnd.google-earth.kml+xml|application/vnd.google-earth.kml+xml|4'], 'defaultTitle': 'DaiDB WMS', 'userinfo': 'admin|admin|admin|Administrator', 'publicationDate': '2014-07-31', 'standardName': 'ISO19119', 'crs': 'ETRS89 / UTM zone 32N (EPSG:25832)::EPSG', 'parentId': '536944b5-4053-44c1-92bb-094ad450277d', 'keywordGroup': {'keywords': ['INSPIRE', 'WMS', 'mim2geodatainfo', '(SLET ELLER ERSTAT MED KEYWORDS FRA ORDLISTER)'], 'ISO 19119': ['infoMapAccessService']}, 'identifierWithCodespace': 'https://envi.data.gov.dk/2068ef4c-628e-4e8a-866e-3181230ef810', 'groupOwner': '13', '_locale': 'dan', 'specificationInfo': ['true|2010-03-16|publication|BES_VANDLOEB, BES_NATURTYPER, FUGLE_BES_OMR, HABITAT_OMR, RAMSAR_OMR, NATUR_VILDT_RESERVAT, SOE_BES_LINJER, AA_BES_LINJER, SKOVBYGGELINJER, KIRKEBYGGELINJER, BES_STEN_JORDDIGER, FREDEDE_OMR, FREDEDE_OMR_FORSLAG, OMR_KLASSIFICERING, RAASTOFOMR, KYSTNAERHEDSZONE, BNBO, HNV, PAABUD_JFL, Overfladevandslinjer, INDSATSPLANER', 'true|2009-10-19|publication|KOMMISSIONENS FORORDNING (EF) Nr. 976/2009 af 19. oktober 2009 om gennemførelse af Europa-Parlamentets og Rådets direktiv 2007/2/EF for så vidt angår nettjenesterne'], 'geonet:info': {'@xmlns:geonet': 'http://www.fao.org/geonetwork', 'id': '6388565', 'uuid': '2068ef4c-628e-4e8a-866e-3181230ef810', 'schema': 'iso19139', 'createDate': '2018-04-24T11:15:36', 'changeDate': '2018-08-01T11:12:38', 'source': '10e690dd-e193-4ce0-bd44-f6477c42aea5', 'isPublishedToAll': 'true', 'view': 'true', 'notify': 'false', 'download': 'true', 'dynamic': 'true', 'featured': 'false', 'selected': 'false'}}, {'title': 'Beskyttede naturtyper', 'abstract': 'Registrering af naturtyper, som er beskyttet efter naturbeskyttelseslovens § 3.\\n\\nDisse er:\\n·          søer og vandhuller med et areal på mindst 100 m2, \\n·          moser, enge, strandenge, strandsumpe, heder og overdrev med et areal på mindst 2500 m2,\\n·          \"mosaikker\" af ovennævnte naturtyper med et areal på mindst 2500 m2,\\n·          visse udpegede vandløb  & \\n·          alle moser i f. m. beskyttede vandhuller, søer eller vandløb.\\nBeskyttelsen gælder uanset om der er en eller flere ejere. Tilstandsændring af beskyttet natur kræver tilladelse (dispensation).\\nEt beskyttet areal kan i årenes løb ændre sig så meget, at det ikke længere er beskyttet. Omvendt kan et areal som i dag ikke er beskyttet, ændre sig, så det bliver det.\\nDet er de faktiske forhold på arealet (størrelse, botanik, omlægningshyppighed m. m.) der afgør, om det er beskyttet eller ej. Registreringen er derfor vejledende\\nHvorvidt et areal er beskyttet eller ej, vil i tvivlstilfælde blive afgjort ved en besigtigelse og vurdering af arealet.\\nLov om naturbeskyttelse, §3, lovbekendtgørelse nr. 933 af 24. september 2009', 'lineage': 'Datasættet er tilvejebragt gennem Danmarks Miljøportals samling og harmonisering af beskyttede naturtyper fra de danske amter i 2007.\\nEfter 2007 opdateres datasættet af kommunerne.', 'resourceConstraints': 'Tema på Danmarks Arealinformation', 'responsibleParty': ['Ejer|resource|de danske kommuner||kl@kl.dk||||||1', 'Kontaktpunkt|metadata|Danmarks Miljøportal||support@miljoeportal.dk||||||1'], 'type': 'dataset', 'legalConstraints': 'Ingen restriktioner', 'isHarvested': 'n', 'docLocale': 'dan', 'popularity': '193', 'keyword': ['Arealanvendelse', 'Beskyttede lokaliteter', 'Miljø'], 'publishedForGroup': ['1', '30'], 'valid_xsd': '1', 'identifier': 'BES_NATURTYPER', 'mdLanguage': 'dan', 'valid_schematron-rules-iso': '1', 'valid_schematron-rules-geonetwork': '1', 'format': 'MapInfo, Shape, GML', 'inspirethemewithac': ['lu|Arealanvendelse', 'ps|Beskyttede lokaliteter'], 'denominator': '70000', 'root': 'gmd:MD_Metadata', 'isTemplate': 'n', 'valid_schematron-rules-inspire': '1', 'valid': '0', 'rating': '0', 'source': '2f97c07a-057a-44e9-95c0-2f9c3e502872', 'geoBox': '8.00|54.50|15.50|58.00', 'owner': '29', 'link': '||https://arealinformation.miljoeportal.dk|WWW:LINK-1.0-http--link|text/html|1', 'defaultTitle': 'Beskyttede naturtyper', 'datasetLang': 'dan', 'userinfo': 'gdi_danmarksmiljoepo|Klok|Danmarks Miljøportal|Reviewer', 'topicCat': 'environment', 'publicationDate': '2007-01-01', 'logo': '/images/logos/2f97c07a-057a-44e9-95c0-2f9c3e502872.png', 'keywordGroup': {'GEMET - INSPIRE themes, version 1.0': ['Arealanvendelse', 'Beskyttede lokaliteter']}, 'identifierWithCodespace': 'BES_NATURTYPER', 'groupOwner': '30', '_locale': 'dan', 'specificationInfo': 'false|2010-01-07|publication|bes_naturtyper', 'geonet:info': {'@xmlns:geonet': 'http://www.fao.org/geonetwork', 'id': '935', 'uuid': 'fb9e06dc-9f02-42ac-bf1c-e0d662b81f4f', 'schema': 'iso19139', 'createDate': '2012-01-19T11:09:26', 'changeDate': '2018-07-26T13:33:32', 'source': '2f97c07a-057a-44e9-95c0-2f9c3e502872', 'isPublishedToAll': 'true', 'view': 'true', 'notify': 'false', 'download': 'true', 'dynamic': 'true', 'featured': 'true', 'selected': 'false'}}]}\n"
     ]
    }
   ],
   "source": [
    "get_uuid('bes_naturtyper')"
   ]
  },
  {
   "cell_type": "code",
   "execution_count": null,
   "metadata": {},
   "outputs": [],
   "source": [
    "wfs['uuid'] = wfs.typename.apply(get_uuid)"
   ]
  },
  {
   "cell_type": "code",
   "execution_count": null,
   "metadata": {},
   "outputs": [],
   "source": [
    "wfs[wfs.uuid != 'None']"
   ]
  },
  {
   "cell_type": "code",
   "execution_count": null,
   "metadata": {},
   "outputs": [],
   "source": [
    "def get_uuid(typename):\n",
    "    url = \"https://www.geodata-info.dk/srv/dan/q\"\n",
    "\n",
    "    querystring = {\n",
    "        \"_content_type\":\"json\",\n",
    "        \"any\":typename,\n",
    "        \"bucket\":\"s101\",\n",
    "        \"facet.q\":\"\",\n",
    "        \"fast\":\"index\",\n",
    "        \"from\":\"1\",\n",
    "        \"resultType\":\"details\",\n",
    "        \"sortBy\":\"relevance\",\n",
    "        \"to\":\"20\"\n",
    "    }\n",
    "\n",
    "    headers = {\n",
    "        'Cache-Control': \"no-cache\"\n",
    "        }\n",
    "\n",
    "    response = requests.request(\"GET\", url, headers=headers, params=querystring)\n",
    "    j = response.json()\n",
    "    \n",
    "    return j"
   ]
  },
  {
   "cell_type": "code",
   "execution_count": null,
   "metadata": {},
   "outputs": [],
   "source": [
    "get_uuid('dmp:AA_BES_LINJER')"
   ]
  }
 ],
 "metadata": {
  "kernelspec": {
   "display_name": "Python 3",
   "language": "python",
   "name": "python3"
  },
  "language_info": {
   "codemirror_mode": {
    "name": "ipython",
    "version": 3
   },
   "file_extension": ".py",
   "mimetype": "text/x-python",
   "name": "python",
   "nbconvert_exporter": "python",
   "pygments_lexer": "ipython3",
   "version": "3.6.5"
  }
 },
 "nbformat": 4,
 "nbformat_minor": 2
}
