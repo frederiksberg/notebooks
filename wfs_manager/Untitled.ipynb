{
 "cells": [
  {
   "cell_type": "code",
   "execution_count": 1,
   "metadata": {},
   "outputs": [],
   "source": [
    "import requests"
   ]
  },
  {
   "cell_type": "code",
   "execution_count": 2,
   "metadata": {},
   "outputs": [],
   "source": [
    "url = 'http://gc2.frederiksberg.dk/api/v1/session/start'"
   ]
  },
  {
   "cell_type": "code",
   "execution_count": 3,
   "metadata": {},
   "outputs": [],
   "source": [
    "user = 'frederiksberg'\n",
    "pw = '1234'"
   ]
  },
  {
   "cell_type": "code",
   "execution_count": 27,
   "metadata": {},
   "outputs": [
    {
     "name": "stdout",
     "output_type": "stream",
     "text": [
      "\n"
     ]
    }
   ],
   "source": [
    "import requests\n",
    "\n",
    "url = \"http://gc2.frederiksberg.dk/api/v1/session/start\"\n",
    "\n",
    "url2 = 'http://gc2.frederiksberg.dk/user/login'\n",
    "\n",
    "payload = \"{u: 'frederiksberg', p: '1234'}\"\n",
    "headers = {\n",
    "    'Content-Type': \"application/json\",\n",
    "    'cache-control': \"no-cache\"\n",
    "    }\n",
    "\n",
    "response = requests.request(\"POST\", url, data=payload, headers=headers)\n",
    "\n",
    "print(response.text)"
   ]
  },
  {
   "cell_type": "code",
   "execution_count": 28,
   "metadata": {},
   "outputs": [
    {
     "data": {
      "text/plain": [
       "''"
      ]
     },
     "execution_count": 28,
     "metadata": {},
     "output_type": "execute_result"
    }
   ],
   "source": [
    "response.text"
   ]
  },
  {
   "cell_type": "code",
   "execution_count": 33,
   "metadata": {},
   "outputs": [
    {
     "name": "stdout",
     "output_type": "stream",
     "text": [
      "\n"
     ]
    }
   ],
   "source": [
    "with requests.Session() as s:\n",
    "    data = \"{u: 'frederiksberg', p: '1234'}\"\n",
    "    #p = s.get('http://gc2.frederiksberg.dk/api/v1/session/start', data=data)\n",
    "    \n",
    "    #print(p.text)\n",
    "\n",
    "    # An authorised request.\n",
    "    r = s.get('http://gc2.frederiksberg.dk/controllers/table/depend/gc2_io_wfs_management.wfs_schema_table_names')\n",
    "    print(r.text)"
   ]
  }
 ],
 "metadata": {
  "kernelspec": {
   "display_name": "Python 3",
   "language": "python",
   "name": "python3"
  },
  "language_info": {
   "codemirror_mode": {
    "name": "ipython",
    "version": 3
   },
   "file_extension": ".py",
   "mimetype": "text/x-python",
   "name": "python",
   "nbconvert_exporter": "python",
   "pygments_lexer": "ipython3",
   "version": "3.6.4"
  }
 },
 "nbformat": 4,
 "nbformat_minor": 2
}
