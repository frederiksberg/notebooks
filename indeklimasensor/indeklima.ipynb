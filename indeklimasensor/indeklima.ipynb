{
 "cells": [
  {
   "cell_type": "code",
   "execution_count": null,
   "metadata": {},
   "outputs": [],
   "source": [
    "import pandas as pd\n",
    "import numpy as np\n",
    "import requests\n",
    "import psycopg2\n",
    "import sqlalchemy\n",
    "from sqlalchemy import create_engine"
   ]
  },
  {
   "cell_type": "code",
   "execution_count": null,
   "metadata": {},
   "outputs": [],
   "source": [
    "import matplotlib\n",
    "import matplotlib.pyplot as plt\n",
    "import seaborn as sns\n",
    "from datetime import datetime\n",
    "\n",
    "%matplotlib inline\n",
    "#%matplotlib nbagg\n",
    "#%matplotlib notebook\n",
    "\n",
    "sns.set()"
   ]
  },
  {
   "cell_type": "markdown",
   "metadata": {},
   "source": [
    "# Input \n",
    "### PostgreSQL\n",
    "Henter bilernes registreringsnummer fra flådestyrings tabel"
   ]
  },
  {
   "cell_type": "code",
   "execution_count": null,
   "metadata": {},
   "outputs": [],
   "source": [
    "user = 'xx'\n",
    "pw = 'xx'\n",
    "port = 5432\n",
    "host = 'xx.xx.com'\n",
    "db = 'xx'"
   ]
  },
  {
   "cell_type": "code",
   "execution_count": null,
   "metadata": {},
   "outputs": [],
   "source": [
    "con = create_engine('postgresql://{0}:{1}@{2}:{3}/{4}'.format(user, pw, host, port, db))"
   ]
  },
  {
   "cell_type": "code",
   "execution_count": null,
   "metadata": {},
   "outputs": [],
   "source": [
    "query = \"\"\"\n",
    "    SELECT * \n",
    "    FROM loriot.indeklima_dekodet\n",
    "    WHERE eui = 'A81758FFFE030D78'\n",
    "    \"\"\""
   ]
  },
  {
   "cell_type": "code",
   "execution_count": null,
   "metadata": {},
   "outputs": [],
   "source": [
    "df = pd.read_sql_query(query,con=con)"
   ]
  },
  {
   "cell_type": "code",
   "execution_count": null,
   "metadata": {},
   "outputs": [],
   "source": [
    "df.describe()"
   ]
  },
  {
   "cell_type": "markdown",
   "metadata": {},
   "source": [
    "### Moving avarage and pct change"
   ]
  },
  {
   "cell_type": "code",
   "execution_count": null,
   "metadata": {},
   "outputs": [],
   "source": [
    "periods = 3\n",
    "window = 3"
   ]
  },
  {
   "cell_type": "code",
   "execution_count": null,
   "metadata": {},
   "outputs": [],
   "source": [
    "df['co2_change'] = df.co2.pct_change(periods=periods)\n",
    "df['temp_change'] = df.temp.pct_change(periods=periods)\n",
    "df['humidity_change'] = df.humidity.pct_change(periods=periods)\n",
    "df['co2_mva'] = df.co2.rolling(window=20).mean()\n",
    "df['temp_mva'] = df.temp.rolling(window=window).mean()\n",
    "df['humidity_mva'] = df.humidity.rolling(window=window).mean()\n",
    "df['co2_mva_change'] = df.co2_mva.pct_change(periods=periods)\n",
    "df['motion_bool'] = df.motion.apply(lambda x: True if x > 0 else False)"
   ]
  },
  {
   "cell_type": "markdown",
   "metadata": {},
   "source": [
    "### MOTION AND LIMITED DATARANGE"
   ]
  },
  {
   "cell_type": "code",
   "execution_count": null,
   "metadata": {},
   "outputs": [],
   "source": [
    "motion = df[\n",
    "    (df.ts > '2018-07-13 09:00:00') & \n",
    "    (df.ts < '2018-07-23 16:00:00') \n",
    "]"
   ]
  },
  {
   "cell_type": "code",
   "execution_count": null,
   "metadata": {},
   "outputs": [],
   "source": [
    "plt.figure(figsize=(20,15))\n",
    "plt.subplot(511)\n",
    "plt.plot(motion.ts, motion.motion, 'o', color='g')\n",
    "plt.title('motion')\n",
    "plt.subplot(512)\n",
    "plt.plot(motion.ts, motion.co2, 'o')\n",
    "plt.title('co2')\n",
    "plt.ylabel('ppm')\n",
    "plt.subplot(513)\n",
    "plt.plot(motion.ts, motion.temp, '-', color='y')\n",
    "plt.title('temp')\n",
    "plt.ylabel('grader')\n",
    "plt.subplot(514)\n",
    "plt.plot(motion.ts, motion.co2_mva, 'o', color='c')\n",
    "plt.title('CO2 moving avarage')\n",
    "plt.ylabel('ppm')\n",
    "plt.subplot(515)\n",
    "plt.plot(motion[motion.motion_bool == False].ts, motion[motion.motion_bool == False].co2_mva_change, 'o', color='c')\n",
    "plt.plot(motion[motion.motion_bool == True].ts, motion[motion.motion_bool == True].co2_mva_change, 'o', color='m')\n",
    "plt.title('CO2 moving avarage pct change')\n",
    "plt.ylabel('pct')"
   ]
  },
  {
   "cell_type": "markdown",
   "metadata": {},
   "source": [
    "### DATERANGE"
   ]
  },
  {
   "cell_type": "code",
   "execution_count": null,
   "metadata": {},
   "outputs": [],
   "source": [
    "pd.date_range(df.ts.min(), df.ts.max(), freq='10min', normalize=True)"
   ]
  },
  {
   "cell_type": "markdown",
   "metadata": {},
   "source": [
    "### RESAMPLING\n",
    "http://benalexkeen.com/resampling-time-series-data-with-pandas/"
   ]
  },
  {
   "cell_type": "code",
   "execution_count": null,
   "metadata": {},
   "outputs": [],
   "source": [
    "motion.set_index('ts', inplace=True)"
   ]
  },
  {
   "cell_type": "markdown",
   "metadata": {},
   "source": [
    "Create empty DF for resampling"
   ]
  },
  {
   "cell_type": "code",
   "execution_count": null,
   "metadata": {},
   "outputs": [],
   "source": [
    "resample = pd.DataFrame()"
   ]
  },
  {
   "cell_type": "markdown",
   "metadata": {},
   "source": [
    "Set interval"
   ]
  },
  {
   "cell_type": "code",
   "execution_count": null,
   "metadata": {},
   "outputs": [],
   "source": [
    "rule = '5Min'"
   ]
  },
  {
   "cell_type": "markdown",
   "metadata": {},
   "source": [
    "Resample cols and add time and date for pivot"
   ]
  },
  {
   "cell_type": "code",
   "execution_count": null,
   "metadata": {},
   "outputs": [],
   "source": [
    "resample['eui'] = motion['eui'].resample(rule).first()\n",
    "resample['temp'] = motion['temp'].resample(rule).mean()\n",
    "resample['humidity'] = motion['humidity'].resample(rule).mean()\n",
    "resample['motion'] = motion['motion'].resample(rule).sum()\n",
    "resample['co2'] = motion['co2'].resample(rule).mean()\n",
    "resample['motion_bool'] = resample.motion.apply(lambda x: 1 if x > 0 else 0)\n",
    "resample['time'] = resample.index.time\n",
    "resample['date'] = resample.index.date\n"
   ]
  },
  {
   "cell_type": "markdown",
   "metadata": {},
   "source": [
    "\n",
    "https://codereview.stackexchange.com/a/155133"
   ]
  },
  {
   "cell_type": "code",
   "execution_count": null,
   "metadata": {},
   "outputs": [],
   "source": [
    "resample['motion_bool'].diff()"
   ]
  },
  {
   "cell_type": "code",
   "execution_count": null,
   "metadata": {},
   "outputs": [],
   "source": [
    "# find when the state changes\n",
    "run_change = resample['motion_interval'] = resample['motion_bool'].diff().fillna(0)\n",
    "\n",
    "# get the step lengths\n",
    "step_length = resample.reset_index().ts.diff()\n",
    "\n",
    "# loop and get the change since last state change\n",
    "since_change = []\n",
    "current_delta = 0\n",
    "for is_change, delta in zip(run_change, step_length):\n",
    "    current_delta = 0 if is_change != 0 else \\\n",
    "        current_delta + delta.total_seconds() / 60.0\n",
    "    since_change.append(current_delta)\n",
    "\n",
    "# add this data to the data frame\n",
    "resample['time_since_change'] = pd.Series(since_change).fillna(0).values"
   ]
  },
  {
   "cell_type": "markdown",
   "metadata": {},
   "source": [
    "Only show business hours mon-fri, 9-16"
   ]
  },
  {
   "cell_type": "code",
   "execution_count": null,
   "metadata": {},
   "outputs": [],
   "source": [
    "bday = resample[(~resample.index.dayofweek.isin([5,6])) ].between_time('9:00', '16:00')"
   ]
  },
  {
   "cell_type": "code",
   "execution_count": null,
   "metadata": {},
   "outputs": [],
   "source": [
    "bday"
   ]
  },
  {
   "cell_type": "code",
   "execution_count": null,
   "metadata": {},
   "outputs": [],
   "source": [
    "pivot = bday.pivot(\n",
    "    index = 'time', \n",
    "    columns = 'date', \n",
    "    values = 'motion_bool'\n",
    ")"
   ]
  },
  {
   "cell_type": "code",
   "execution_count": null,
   "metadata": {},
   "outputs": [],
   "source": [
    "plt.figure(figsize=(20,10))\n",
    "sns.heatmap(pivot, cbar=False, cmap='Reds')"
   ]
  },
  {
   "cell_type": "code",
   "execution_count": null,
   "metadata": {},
   "outputs": [],
   "source": [
    "motion[motion.index >= '2018-07-19 09:45:00'][['eui', 'temp', 'humidity', 'motion', 'co2']].head(20)"
   ]
  },
  {
   "cell_type": "markdown",
   "metadata": {},
   "source": [
    "# Viz"
   ]
  },
  {
   "cell_type": "code",
   "execution_count": null,
   "metadata": {},
   "outputs": [],
   "source": [
    "sns.pairplot(motion[['temp', 'co2', 'humidity', 'motion_bool', 'co2_mva_change']], diag_kind='kde', hue='motion_bool')"
   ]
  },
  {
   "cell_type": "code",
   "execution_count": null,
   "metadata": {},
   "outputs": [],
   "source": [
    "d = datetime.now() \n",
    "d = d.replace(month=d.month - 1 if d.month > 1 else 12)"
   ]
  },
  {
   "cell_type": "code",
   "execution_count": null,
   "metadata": {},
   "outputs": [],
   "source": [
    "lm = df[df['ts'] > '2018-07-12']"
   ]
  },
  {
   "cell_type": "code",
   "execution_count": null,
   "metadata": {},
   "outputs": [],
   "source": [
    "from plotly.offline import download_plotlyjs, init_notebook_mode, iplot\n",
    "import plotly.graph_objs as go\n",
    "\n",
    "import cufflinks as cf\n",
    "\n",
    "init_notebook_mode(connected=True)"
   ]
  },
  {
   "cell_type": "code",
   "execution_count": null,
   "metadata": {},
   "outputs": [],
   "source": [
    "iplot(motion)"
   ]
  },
  {
   "cell_type": "code",
   "execution_count": null,
   "metadata": {},
   "outputs": [],
   "source": [
    "from math import cos\n",
    "from IPython.display import SVG, HTML\n",
    "xy_chart = pygal.XY()\n",
    "xy_chart.title = 'XY Cosinus'\n",
    "xy_chart.add('x = cos(y)', [(cos(x / 10.), x / 10.) for x in range(-50, 50, 5)])\n",
    "xy_chart.add('y = cos(x)', [(x / 10., cos(x / 10.)) for x in range(-50, 50, 5)])\n",
    "xy_chart.add('x = 1',  [(1, -5), (1, 5)])\n",
    "xy_chart.add('x = -1', [(-1, -5), (-1, 5)])\n",
    "xy_chart.add('y = 1',  [(-5, 1), (5, 1)])\n",
    "xy_chart.add('y = -1', [(-5, -1), (5, -1)])\n",
    "HTML(html_pygal.format(pygal_render=line_chart.render()))\n"
   ]
  },
  {
   "cell_type": "code",
   "execution_count": null,
   "metadata": {},
   "outputs": [],
   "source": [
    "plt.figure(figsize=(10,8))\n",
    "plt.plot(last_month.ts, last_month.temp)"
   ]
  },
  {
   "cell_type": "code",
   "execution_count": null,
   "metadata": {},
   "outputs": [],
   "source": [
    "lm"
   ]
  },
  {
   "cell_type": "code",
   "execution_count": null,
   "metadata": {},
   "outputs": [],
   "source": [
    "change.co2.describe()"
   ]
  },
  {
   "cell_type": "code",
   "execution_count": null,
   "metadata": {},
   "outputs": [],
   "source": [
    "import sys"
   ]
  },
  {
   "cell_type": "code",
   "execution_count": null,
   "metadata": {},
   "outputs": [],
   "source": [
    "sys.path.append('/Users/andersbarfod/Documents/git/')"
   ]
  },
  {
   "cell_type": "code",
   "execution_count": null,
   "metadata": {},
   "outputs": [],
   "source": [
    "import connections as con"
   ]
  },
  {
   "cell_type": "code",
   "execution_count": null,
   "metadata": {},
   "outputs": [],
   "source": [
    "con.sql_to_dataframe('DISTRIBUTION', 'select * from proj_belysning.belysning limit 10')"
   ]
  }
 ],
 "metadata": {
  "kernelspec": {
   "display_name": "Python 3",
   "language": "python",
   "name": "python3"
  },
  "language_info": {
   "codemirror_mode": {
    "name": "ipython",
    "version": 3
   },
   "file_extension": ".py",
   "mimetype": "text/x-python",
   "name": "python",
   "nbconvert_exporter": "python",
   "pygments_lexer": "ipython3",
   "version": "3.6.5"
  }
 },
 "nbformat": 4,
 "nbformat_minor": 2
}
