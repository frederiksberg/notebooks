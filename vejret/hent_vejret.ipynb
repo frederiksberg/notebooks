{
 "cells": [
  {
   "cell_type": "markdown",
   "metadata": {},
   "source": [
    "# Hent historiske vejrdata\n",
    "Download daglige historiske vejrdatadata i et angivet interval fra [Wunderground API](http://api.wunderground.com/weather/api/d/docs?d=data/history&MR=1)"
   ]
  },
  {
   "cell_type": "markdown",
   "metadata": {},
   "source": [
    "http://frederiksberg-vejret.dk/\n",
    "\n",
    "https://www.wunderground.com/personal-weather-station/dashboard?ID=IFREDERI180"
   ]
  },
  {
   "cell_type": "code",
   "execution_count": 18,
   "metadata": {
    "collapsed": true
   },
   "outputs": [],
   "source": [
    "import requests\n",
    "import json\n",
    "import time\n",
    "from datetime import datetime, date\n",
    "from dateutil.rrule import rrule, DAILY"
   ]
  },
  {
   "cell_type": "code",
   "execution_count": 59,
   "metadata": {},
   "outputs": [],
   "source": [
    "class Weather:\n",
    "    \n",
    "    def __init__(self, api_key):\n",
    "        self.api_key = api_key\n",
    "\n",
    "    def get_weather(self, date, city):\n",
    "        \"\"\"\n",
    "        Get historic weather data from Wunderground API.\n",
    "        \"\"\"\n",
    "        url = f\"http://api.wunderground.com/api/{self.api_key}/history_{date}/q/Denmark/{city}.json\"\n",
    "        response = requests.get(url)\n",
    "        data = response.json()\n",
    "        \n",
    "        return data, date\n",
    "    \n",
    "    def save_data(self, path, data, file_name):\n",
    "        \"\"\"\n",
    "        Save json to disk\n",
    "        \"\"\"\n",
    "        with open(path + str(file_name) + '.json', 'w') as f:\n",
    "            json.dump(data, f)\n",
    "            \n",
    "    def save_weather_period(self, path, city, start_date, end_date, sleep=6):\n",
    "        \"\"\"\n",
    "        Saves weather data as json files to disk for each day in a historic period of time. \n",
    "        Sleem param is used to adjust request frequency (max 10 requests/min and 500 requests/day)\n",
    "        \"\"\"\n",
    "        \n",
    "        s_date = datetime.strptime(start_date, '%Y-%m-%d').date()\n",
    "        e_date = datetime.strptime(end_date, '%Y-%m-%d').date()\n",
    "        \n",
    "        for dt in rrule(DAILY, dtstart=s_date, until=e_date):\n",
    "            data, date = self.get_weather(dt.strftime(\"%Y%m%d\"), city)\n",
    "            self.save_data(path, data, date)\n",
    "            time.sleep(sleep)"
   ]
  },
  {
   "cell_type": "markdown",
   "metadata": {},
   "source": [
    "## Hent Data\n",
    "Wunderground tillader max 10 kald/min / 500 kald/dag, derfor bruges time.sleep"
   ]
  },
  {
   "cell_type": "code",
   "execution_count": 60,
   "metadata": {},
   "outputs": [],
   "source": [
    "api_key = '507f25f482fd4dc7'\n",
    "weather = Weather(api_key)"
   ]
  },
  {
   "cell_type": "code",
   "execution_count": 61,
   "metadata": {},
   "outputs": [],
   "source": [
    "path = 'data/weather/'\n",
    "city = 'Copenhagen'\n",
    "start_date = '2018-10-02'\n",
    "end_date = '2018-10-03'"
   ]
  },
  {
   "cell_type": "code",
   "execution_count": 62,
   "metadata": {},
   "outputs": [],
   "source": [
    "weather.save_weather_period(path, city, start_date, end_date)"
   ]
  }
 ],
 "metadata": {
  "kernelspec": {
   "display_name": "Python 3",
   "language": "python",
   "name": "python3"
  },
  "language_info": {
   "codemirror_mode": {
    "name": "ipython",
    "version": 3
   },
   "file_extension": ".py",
   "mimetype": "text/x-python",
   "name": "python",
   "nbconvert_exporter": "python",
   "pygments_lexer": "ipython3",
   "version": "3.6.4"
  }
 },
 "nbformat": 4,
 "nbformat_minor": 2
}
