{
 "cells": [
  {
   "cell_type": "markdown",
   "metadata": {},
   "source": [
    "# Hent historiske vejrdata\n",
    "Download daglige historiske vejrdatadata i et angivet interval fra [Wunderground API](http://api.wunderground.com/weather/api/d/docs?d=data/history&MR=1)"
   ]
  },
  {
   "cell_type": "code",
   "execution_count": 7,
   "metadata": {
    "collapsed": true
   },
   "outputs": [],
   "source": [
    "import requests\n",
    "import json\n",
    "import time\n",
    "from datetime import date\n",
    "from dateutil.rrule import rrule, DAILY"
   ]
  },
  {
   "cell_type": "code",
   "execution_count": 22,
   "metadata": {},
   "outputs": [],
   "source": [
    "class Weather:\n",
    "\n",
    "    def get_weather(self, date, place, api_key):\n",
    "        \"\"\"\n",
    "        Get weather data from Wunderground API.\n",
    "        \"\"\"\n",
    "        url = f\"http://api.wunderground.com/api/{api_key}/history_{date}/q/Denmark/{place}.json\"\n",
    "        response = requests.get(url)\n",
    "        data = response.json()\n",
    "        \n",
    "        return data, date\n",
    "    \n",
    "    def save_data(self, path, data, date):\n",
    "        with open(path + str(date) + '.json', 'w') as f:\n",
    "            json.dump(data, f)"
   ]
  },
  {
   "cell_type": "code",
   "execution_count": 23,
   "metadata": {},
   "outputs": [],
   "source": [
    "w = Weather()"
   ]
  },
  {
   "cell_type": "code",
   "execution_count": 24,
   "metadata": {},
   "outputs": [],
   "source": [
    "api_key = '507f25f482fd4dc7'\n",
    "path = 'data/weather/'\n",
    "place = 'Copenhagen'\n",
    "date = '20180901'"
   ]
  },
  {
   "cell_type": "code",
   "execution_count": 25,
   "metadata": {},
   "outputs": [],
   "source": [
    "obs, date = w.get_weather(date, place, api_key)"
   ]
  },
  {
   "cell_type": "code",
   "execution_count": 26,
   "metadata": {},
   "outputs": [],
   "source": [
    "w.save_data('test', obs, date)"
   ]
  },
  {
   "cell_type": "markdown",
   "metadata": {},
   "source": [
    "http://frederiksberg-vejret.dk/\n",
    "\n",
    "https://www.wunderground.com/personal-weather-station/dashboard?ID=IFREDERI180"
   ]
  },
  {
   "cell_type": "markdown",
   "metadata": {},
   "source": [
    "## Hent Data\n",
    "Wunderground tillader max 10 kald/min / 500 kald/dag, derfor bruges time.sleep"
   ]
  },
  {
   "cell_type": "code",
   "execution_count": 14,
   "metadata": {
    "collapsed": true
   },
   "outputs": [],
   "source": [
    "#Angiv start og slutdato for daglig historiske vejrdata\n",
    "a = date(2018, 9, 1)\n",
    "b = date(2018, 9, 19)\n",
    "\n",
    "for dt in rrule(DAILY, dtstart=a, until=b):\n",
    "    get_weather(dt.strftime(\"%Y%m%d\"))\n",
    "    time.sleep(6)"
   ]
  },
  {
   "cell_type": "markdown",
   "metadata": {},
   "source": [
    "# Gammelt"
   ]
  },
  {
   "cell_type": "code",
   "execution_count": 13,
   "metadata": {
    "collapsed": true
   },
   "outputs": [],
   "source": [
    "def get_weather(date):\n",
    "    url = \"http://api.wunderground.com/api/{}/history_{}/q/Denmark/{}.json\".format(API_KEY, date, PLACE)\n",
    "    weather = requests.get(url)\n",
    "    data = weather.json()\n",
    "    with open(PATH + str(date) + '.json', 'w') as f:\n",
    "        json.dump(data, f)"
   ]
  },
  {
   "cell_type": "code",
   "execution_count": 3,
   "metadata": {},
   "outputs": [],
   "source": [
    "d = date(2018, 10, 1)"
   ]
  },
  {
   "cell_type": "code",
   "execution_count": 5,
   "metadata": {},
   "outputs": [],
   "source": [
    "r = get_weather(d)"
   ]
  },
  {
   "cell_type": "code",
   "execution_count": 6,
   "metadata": {},
   "outputs": [],
   "source": [
    "r"
   ]
  }
 ],
 "metadata": {
  "kernelspec": {
   "display_name": "Python 3",
   "language": "python",
   "name": "python3"
  },
  "language_info": {
   "codemirror_mode": {
    "name": "ipython",
    "version": 3
   },
   "file_extension": ".py",
   "mimetype": "text/x-python",
   "name": "python",
   "nbconvert_exporter": "python",
   "pygments_lexer": "ipython3",
   "version": "3.6.6"
  }
 },
 "nbformat": 4,
 "nbformat_minor": 2
}
