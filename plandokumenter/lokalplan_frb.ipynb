{
 "cells": [
  {
   "cell_type": "markdown",
   "metadata": {},
   "source": [
    "# Udtræk tekst fra Lokalplaner\n",
    "Henter tekst ud af PDF'er fra plansystem og lægger det i en PostgreSQL tabel."
   ]
  },
  {
   "cell_type": "code",
   "execution_count": 1,
   "metadata": {},
   "outputs": [],
   "source": [
    "import requests\n",
    "import io\n",
    "import PyPDF2\n",
    "import logging\n",
    "import psycopg2\n",
    "from sqlalchemy import create_engine, Table, MetaData, update, select"
   ]
  },
  {
   "cell_type": "code",
   "execution_count": 2,
   "metadata": {},
   "outputs": [],
   "source": [
    "import sys\n",
    "sys.path.append('/python/')\n",
    "import connections as con"
   ]
  },
  {
   "cell_type": "markdown",
   "metadata": {},
   "source": [
    "https://medium.com/@rqaiserr/how-to-convert-pdfs-into-searchable-key-words-with-python-85aab86c544f"
   ]
  },
  {
   "cell_type": "code",
   "execution_count": 8,
   "metadata": {
    "collapsed": true
   },
   "outputs": [],
   "source": [
    "def get_document(url):\n",
    "    try:\n",
    "        r = requests.get(url)\n",
    "    except Exception as e:\n",
    "        print(e.message, e.args)\n",
    "        logging.exception(e.message)\n",
    "    pdf_file = io.BytesIO(r.content)\n",
    "    pdfReader = PyPDF2.PdfFileReader(pdf_file)\n",
    "\n",
    "    #discerning the number of pages will allow us to parse through all #the pages\n",
    "    num_pages = pdfReader.numPages\n",
    "    count = 0\n",
    "    text = \"\"\n",
    "    #The while loop will read each page\n",
    "    while count < num_pages:\n",
    "        pageObj = pdfReader.getPage(count)\n",
    "        count +=1\n",
    "        text += pageObj.extractText()\n",
    "# Nedenfor bruges OCR til scanning af dokumenter der ikke er maskinlæsbare. Skal lige kigges igennem.\n",
    "#    if text != \"\":\n",
    "#       text = text\n",
    "#    #If the above returns as False, we run the OCR library textract to #convert scanned/image based PDF files into text\n",
    "#    else:\n",
    "#       text = textract.process(pdf_file, method='tesseract', language='eng')\n",
    "    return text"
   ]
  },
  {
   "cell_type": "code",
   "execution_count": 9,
   "metadata": {
    "collapsed": true
   },
   "outputs": [],
   "source": [
    "engine = con.engine('production')"
   ]
  },
  {
   "cell_type": "code",
   "execution_count": 10,
   "metadata": {
    "collapsed": true
   },
   "outputs": [],
   "source": [
    "connection = engine.connect()"
   ]
  },
  {
   "cell_type": "code",
   "execution_count": 11,
   "metadata": {
    "collapsed": true
   },
   "outputs": [],
   "source": [
    "metadata = MetaData()"
   ]
  },
  {
   "cell_type": "code",
   "execution_count": 9,
   "metadata": {
    "collapsed": true
   },
   "outputs": [],
   "source": [
    "plan = Table('lokalplan_dokument', metadata, autoload=True, autoload_with=engine, schema='plandatadk')"
   ]
  },
  {
   "cell_type": "code",
   "execution_count": 10,
   "metadata": {
    "collapsed": true
   },
   "outputs": [],
   "source": [
    "def update_table(komkode):\n",
    "    sql = '''\n",
    "        select PLANID, STATUS, doklink\n",
    "        FROM plandatadk.lokalplan_mv\n",
    "        where STATUS in ('V', 'F') and AKTUEL = true and komnr = {} and doklink is not null\n",
    "        '''.format(komkode)\n",
    "    result_set = connection.execute(sql)  \n",
    "    for r in result_set:  \n",
    "        plan_update = plan.update().values(document=get_document(r['doklink'])).where(plan.c.planid == r['planid'] and plan.c.status == r['status'])\n",
    "        engine.execute(plan_update)\n",
    "        logging.info('Indlæst: %s', plan.c.planid)"
   ]
  },
  {
   "cell_type": "code",
   "execution_count": 11,
   "metadata": {},
   "outputs": [
    {
     "name": "stderr",
     "output_type": "stream",
     "text": [
      "PdfReadWarning: Xref table not zero-indexed. ID numbers for objects will be corrected. [pdf.py:1736]\n"
     ]
    }
   ],
   "source": [
    "if __name__ == \"__main__\":\n",
    "    update_table(147)"
   ]
  },
  {
   "cell_type": "markdown",
   "metadata": {},
   "source": [
    "# Gammelt"
   ]
  },
  {
   "cell_type": "code",
   "execution_count": null,
   "metadata": {
    "collapsed": true
   },
   "outputs": [],
   "source": [
    "class Plandokument():\n",
    "    def get_document(self, url):\n",
    "        try:\n",
    "            r = requests.get(url)\n",
    "        except Exception as e:\n",
    "            print(e.message, e.args)\n",
    "        pdf_file = io.BytesIO(r.content)\n",
    "        pdfReader = PyPDF2.PdfFileReader(pdf_file)\n",
    "\n",
    "        #discerning the number of pages will allow us to parse through all #the pages\n",
    "        num_pages = pdfReader.numPages\n",
    "        count = 0\n",
    "        text = \"\"\n",
    "        #The while loop will read each page\n",
    "        while count < num_pages:\n",
    "            pageObj = pdfReader.getPage(count)\n",
    "            count +=1\n",
    "            text += pageObj.extractText()\n",
    "\n",
    "        return text\n",
    "    \n",
    "    def connect_to_db(self, user, pw, host, port, db):\n",
    "        engine = create_engine('postgresql://{0}:{1}@{2}:{3}/{4}'.format(self.user, self.pw, self.host, self.port, self.db))\n",
    "        \n",
    "    "
   ]
  },
  {
   "cell_type": "code",
   "execution_count": null,
   "metadata": {
    "collapsed": true
   },
   "outputs": [],
   "source": [
    "import logging\n",
    "logging.info('Test')"
   ]
  },
  {
   "cell_type": "code",
   "execution_count": null,
   "metadata": {
    "scrolled": true
   },
   "outputs": [],
   "source": [
    "plan = Table('lokalplan_dokument', metadata, autoload=True, autoload_with=engine)"
   ]
  },
  {
   "cell_type": "code",
   "execution_count": null,
   "metadata": {},
   "outputs": [],
   "source": [
    "fileurl = 'pdf/noocr.pdf'\n",
    "text = textract.process(fileurl, method='tesseract', language='eng')"
   ]
  },
  {
   "cell_type": "code",
   "execution_count": null,
   "metadata": {},
   "outputs": [],
   "source": [
    "print(text)"
   ]
  }
 ],
 "metadata": {
  "kernelspec": {
   "display_name": "Python 3",
   "language": "python",
   "name": "python3"
  },
  "language_info": {
   "codemirror_mode": {
    "name": "ipython",
    "version": 3
   },
   "file_extension": ".py",
   "mimetype": "text/x-python",
   "name": "python",
   "nbconvert_exporter": "python",
   "pygments_lexer": "ipython3",
   "version": "3.6.6"
  }
 },
 "nbformat": 4,
 "nbformat_minor": 2
}
