{
 "cells": [
  {
   "cell_type": "code",
<<<<<<< HEAD
   "execution_count": 5,
   "metadata": {},
   "outputs": [],
=======
   "execution_count": 1,
   "metadata": {},
   "outputs": [
    {
     "name": "stderr",
     "output_type": "stream",
     "text": [
      "/Users/andersbarfod/anaconda/envs/plandata/lib/python3.6/site-packages/requests/__init__.py:91: RequestsDependencyWarning: urllib3 (1.23) or chardet (2.3.0) doesn't match a supported version!\n",
      "  RequestsDependencyWarning)\n"
     ]
    }
   ],
>>>>>>> 3ad46f3e01a644e08a379089bb6fcf655b82c167
   "source": [
    "import pandas as pd\n",
    "import requests\n",
    "import io\n",
<<<<<<< HEAD
    "import PyPDF2\n",
    "#import textract\n",
=======
    "import os\n",
    "import PyPDF2\n",
    "import textract\n",
>>>>>>> 3ad46f3e01a644e08a379089bb6fcf655b82c167
    "import logging\n",
    "from elasticsearch import Elasticsearch"
   ]
  },
  {
   "cell_type": "code",
   "execution_count": 2,
   "metadata": {},
   "outputs": [],
   "source": [
    "logging.basicConfig(filename='lokalplan.log', filemode='w')"
   ]
  },
  {
   "cell_type": "code",
   "execution_count": 10,
   "metadata": {},
   "outputs": [],
   "source": [
    "es = Elasticsearch([{'host': 'localhost', 'port': 9200}])"
   ]
  },
  {
   "cell_type": "markdown",
   "metadata": {},
   "source": [
    "# Create index"
   ]
  },
  {
   "cell_type": "code",
   "execution_count": 4,
   "metadata": {},
   "outputs": [],
   "source": [
    "mapping = {\n",
    "  \"mappings\": {\n",
    "    \"plan\": { \n",
    "      \"properties\": { \n",
    "        \"planid\": { \"type\": \"text\"  }, \n",
    "        \"dokument\": { \"type\": \"text\"  }, \n",
    "      }\n",
    "    }\n",
    "  }\n",
    "}"
   ]
  },
  {
   "cell_type": "code",
   "execution_count": 5,
   "metadata": {},
   "outputs": [
    {
     "data": {
      "text/plain": [
       "{'acknowledged': True, 'shards_acknowledged': True, 'index': 'plandata'}"
      ]
     },
     "execution_count": 5,
     "metadata": {},
     "output_type": "execute_result"
    }
   ],
   "source": [
    "# ignore 400 cause by IndexAlreadyExistsException when creating an index\n",
    "es.indices.create(index='plandata', ignore=400, body=mapping)"
   ]
  },
  {
   "cell_type": "markdown",
   "metadata": {},
   "source": [
    "# Add data"
   ]
  },
  {
   "cell_type": "markdown",
   "metadata": {},
   "source": [
    "http://nitin-panwar.github.io/Elasticsearch-tutorial-for-beginners-using-Python/"
   ]
  },
  {
   "cell_type": "code",
<<<<<<< HEAD
   "execution_count": 3,
   "metadata": {},
   "outputs": [],
   "source": [
    "df = pd.read_csv('data/lokalplan.csv')"
   ]
  },
  {
   "cell_type": "code",
=======
>>>>>>> 3ad46f3e01a644e08a379089bb6fcf655b82c167
   "execution_count": 4,
   "metadata": {},
   "outputs": [],
   "source": [
<<<<<<< HEAD
    "df_test = df[df.komnr != 151]"
   ]
  },
  {
   "cell_type": "markdown",
   "metadata": {},
   "source": [
    "https://medium.com/@rqaiserr/how-to-convert-pdfs-into-searchable-key-words-with-python-85aab86c544f"
   ]
  },
  {
   "cell_type": "code",
   "execution_count": 22,
   "metadata": {},
   "outputs": [],
   "source": [
    "def download_pdf(folder, url):\n",
=======
    "def download_pdf(url, folder):\n",
    "    \"\"\"\n",
    "    Download pdf from url to folder\n",
    "    \"\"\"\n",
>>>>>>> 3ad46f3e01a644e08a379089bb6fcf655b82c167
    "    try:\n",
    "        r = requests.get(url)\n",
    "    except Exception as e:\n",
    "        print(e)\n",
    "        logging.warning(e)\n",
    "    pdf_name = url.split('/')[-1]\n",
    "    path = folder + pdf_name\n",
    "    with open(path, 'wb') as file:\n",
    "        file.write(r.content)\n",
    "    return pdf_name"
   ]
  },
  {
   "cell_type": "code",
<<<<<<< HEAD
   "execution_count": 21,
   "metadata": {},
   "outputs": [],
   "source": [
    "download_pdf('tmp/', 'https://dokument.plandata.dk/20_1205768_APPROVED_1246955790825.pdf')"
   ]
  },
  {
   "cell_type": "code",
   "execution_count": 24,
=======
   "execution_count": 5,
>>>>>>> 3ad46f3e01a644e08a379089bb6fcf655b82c167
   "metadata": {
    "collapsed": true
   },
   "outputs": [],
   "source": [
<<<<<<< HEAD
    "def get_document(url):\n",
=======
    "def get_document(url, temp_folder='./', language='dan'):\n",
    "    \"\"\"\n",
    "    Get pdf documents from URL and extract the text. \n",
    "    If the pdf doesn't contain text textract is used to \n",
    "    OCR scan the document, which entails temporary downloads of pdf's.\n",
    "    The function uses logging of exceptions, so make sure to setop logging basic config.\n",
    "    \n",
    "    logging.basicConfig(filename='logfile.log', filemode='w')\n",
    "    \"\"\"\n",
>>>>>>> 3ad46f3e01a644e08a379089bb6fcf655b82c167
    "    try:\n",
    "        r = requests.get(url)\n",
    "    except Exception as e:\n",
    "        print(e)\n",
    "        logging.warning(e)\n",
<<<<<<< HEAD
    "    pdf_file = io.BytesIO(r.content)\n",
    "    pdfReader = PyPDF2.PdfFileReader(pdf_file)\n",
    "\n",
    "    #discerning the number of pages will allow us to parse through all #the pages\n",
    "    num_pages = pdfReader.numPages\n",
    "    count = 0\n",
    "    text = \"\"\n",
    "    #The while loop will read each page\n",
=======
    "    # Convert to in-memory binary streams and read pdf\n",
    "    pdf_file = io.BytesIO(r.content)\n",
    "    pdfReader = PyPDF2.PdfFileReader(pdf_file, strict=False)\n",
    "\n",
    "    # Discerning the number of pages will allow us to parse through all the pages\n",
    "    num_pages = pdfReader.numPages\n",
    "    count = 0\n",
    "    text = \"\"\n",
    "    # The while loop will read each page\n",
>>>>>>> 3ad46f3e01a644e08a379089bb6fcf655b82c167
    "    while count < num_pages:\n",
    "        try:\n",
    "            pageObj = pdfReader.getPage(count)\n",
    "            count +=1\n",
    "            text += pageObj.extractText()\n",
    "        except Exception as e:\n",
    "            logging.warning(e)\n",
    "            print(e, url)\n",
<<<<<<< HEAD
    "            \n",
    "    if text != \"\":\n",
    "        text = text\n",
    "    #If the above returns as False, we run the OCR library textract to #convert scanned/image based PDF files into text\n",
    "    else:\n",
    "        try:\n",
    "            filename = download_pdf('tmp/', url)\n",
    "            text = textract.process(filename, method='tesseract', language='dan')\n",
=======
    "    #If the belov returns as False, we run the OCR library textract to \n",
    "    # convert scanned/image based PDF files into text         \n",
    "    if text != \"\":\n",
    "        text = text\n",
    "    else:\n",
    "        try:\n",
    "            # Download pdf to disk in order to use textract (might be possible to do in-memory)\n",
    "            filename = download_pdf(url, temp_folder)\n",
    "            text = textract.process(temp_folder + filename, method='tesseract', language=language)\n",
    "            text = text.decode('utf-8')\n",
    "            if os.path.exists(filename):\n",
    "                os.remove(filename)\n",
>>>>>>> 3ad46f3e01a644e08a379089bb6fcf655b82c167
    "        except Exception as e:\n",
    "            logging.warning(e)\n",
    "            print(e, url)\n",
    "\n",
    "    return text"
   ]
  },
  {
   "cell_type": "code",
<<<<<<< HEAD
   "execution_count": 25,
   "metadata": {},
   "outputs": [
    {
     "name": "stderr",
     "output_type": "stream",
     "text": [
      "WARNING:root:name 'textract' is not defined\n"
     ]
    },
    {
     "name": "stdout",
     "output_type": "stream",
     "text": [
      "name 'textract' is not defined https://dokument.plandata.dk/20_1205768_APPROVED_1246955790825.pdf\n"
     ]
    },
    {
     "data": {
      "text/plain": [
       "''"
      ]
     },
     "execution_count": 25,
     "metadata": {},
     "output_type": "execute_result"
    }
   ],
   "source": [
    "get_document('https://dokument.plandata.dk/20_1205768_APPROVED_1246955790825.pdf')"
=======
   "execution_count": 4,
   "metadata": {},
   "outputs": [],
   "source": [
    "df = pd.read_csv('data/lokalplan.csv')"
   ]
  },
  {
   "cell_type": "code",
   "execution_count": 5,
   "metadata": {},
   "outputs": [],
   "source": [
    "df_test = df.head(5)\n",
    "#df_test = df[df.komnr == 240]"
   ]
  },
  {
   "cell_type": "markdown",
   "metadata": {},
   "source": [
    "https://medium.com/@rqaiserr/how-to-convert-pdfs-into-searchable-key-words-with-python-85aab86c544f"
>>>>>>> 3ad46f3e01a644e08a379089bb6fcf655b82c167
   ]
  },
  {
   "cell_type": "code",
<<<<<<< HEAD
   "execution_count": 6,
=======
   "execution_count": 18,
>>>>>>> 3ad46f3e01a644e08a379089bb6fcf655b82c167
   "metadata": {
    "collapsed": true
   },
   "outputs": [
    {
     "name": "stderr",
     "output_type": "stream",
     "text": [
<<<<<<< HEAD
      "PdfReadWarning: Xref table not zero-indexed. ID numbers for objects will be corrected. [pdf.py:1736]\n"
     ]
    },
    {
     "name": "stdout",
     "output_type": "stream",
     "text": [
      "stat: path should be string, bytes, os.PathLike or integer, not _io.BytesIO https://dokument.plandata.dk/20_1205769_APPROVED_1246956184440.pdf\n",
      "'/Contents' https://dokument.plandata.dk/20_9418969_1539174991434.pdf\n",
      "'/Contents' https://dokument.plandata.dk/20_9418969_1539174991434.pdf\n",
      "'/Contents' https://dokument.plandata.dk/20_3964663_1539177357749.pdf\n",
      "'/Contents' https://dokument.plandata.dk/20_3964663_1539177357749.pdf\n",
      "'/Contents' https://dokument.plandata.dk/20_3964663_1539177357749.pdf\n",
      "'/Contents' https://dokument.plandata.dk/20_3964663_1539177357749.pdf\n",
      "'/Contents' https://dokument.plandata.dk/20_3964663_1539177357749.pdf\n",
      "stat: path should be string, bytes, os.PathLike or integer, not _io.BytesIO https://dokument.plandata.dk/20_1085053_APPROVED_1214566570346.pdf\n",
      "stat: path should be string, bytes, os.PathLike or integer, not _io.BytesIO https://dokument.plandata.dk/20_3964697_1522862162711.pdf\n",
      "stat: path should be string, bytes, os.PathLike or integer, not _io.BytesIO https://dokument.plandata.dk/20_9402561_1530175375036.pdf\n",
      "stat: path should be string, bytes, os.PathLike or integer, not _io.BytesIO https://dokument.plandata.dk/20_4049712_1524165846863.pdf\n",
      "'/Contents' https://dokument.plandata.dk/20_1060896_APPROVED_1197019262909.pdf\n",
      "'/Contents' https://dokument.plandata.dk/20_1060896_APPROVED_1197019262909.pdf\n",
      "stat: path should be string, bytes, os.PathLike or integer, not _io.BytesIO https://dokument.plandata.dk/20_1037904_APPROVED_1334665171935.pdf\n",
      "'/Contents' https://dokument.plandata.dk/20_3808692_1515004183495.pdf\n",
      "stat: path should be string, bytes, os.PathLike or integer, not _io.BytesIO https://dokument.plandata.dk/20_1218416_APPROVED_1250756969675.pdf\n",
      "'/Contents' https://dokument.plandata.dk/20_9400142_1531380674379.pdf\n",
      "stat: path should be string, bytes, os.PathLike or integer, not _io.BytesIO https://dokument.plandata.dk/20_1205768_APPROVED_1246955790825.pdf\n",
      "stat: path should be string, bytes, os.PathLike or integer, not _io.BytesIO https://dokument.plandata.dk/20_1207291_APPROVED_1247043856207.pdf\n",
      "stat: path should be string, bytes, os.PathLike or integer, not _io.BytesIO https://dokument.plandata.dk/20_1178738_APPROVED_1243431692507.pdf\n",
      "stat: path should be string, bytes, os.PathLike or integer, not _io.BytesIO https://dokument.plandata.dk/20_1206259_APPROVED_1246972206601.pdf\n",
      "stat: path should be string, bytes, os.PathLike or integer, not _io.BytesIO https://dokument.plandata.dk/20_1206262_APPROVED_1246972548467.pdf\n",
      "stat: path should be string, bytes, os.PathLike or integer, not _io.BytesIO https://dokument.plandata.dk/20_1061177_APPROVED_1197538618774.pdf\n",
      "stat: path should be string, bytes, os.PathLike or integer, not _io.BytesIO https://dokument.plandata.dk/20_1218131_APPROVED_1250584928797.pdf\n",
      "stat: path should be string, bytes, os.PathLike or integer, not _io.BytesIO https://dokument.plandata.dk/20_1206228_APPROVED_1246968113994.pdf\n",
      "stat: path should be string, bytes, os.PathLike or integer, not _io.BytesIO https://dokument.plandata.dk/20_1206212_APPROVED_1246965945956.pdf\n",
      "stat: path should be string, bytes, os.PathLike or integer, not _io.BytesIO https://dokument.plandata.dk/20_1205780_APPROVED_1246958358900.pdf\n",
      "stat: path should be string, bytes, os.PathLike or integer, not _io.BytesIO https://dokument.plandata.dk/20_1217996_1505822561762.pdf\n",
      "stat: path should be string, bytes, os.PathLike or integer, not _io.BytesIO https://dokument.plandata.dk/20_1178707_APPROVED_1243431534729.pdf\n",
      "stat: path should be string, bytes, os.PathLike or integer, not _io.BytesIO https://dokument.plandata.dk/20_1177783_APPROVED_1243422236298.pdf\n",
      "stat: path should be string, bytes, os.PathLike or integer, not _io.BytesIO https://dokument.plandata.dk/20_1323044_APPROVED_1272355698724.pdf\n",
      "stat: path should be string, bytes, os.PathLike or integer, not _io.BytesIO https://dokument.plandata.dk/20_1063595_APPROVED_1214989201375.pdf\n",
      "stat: path should be string, bytes, os.PathLike or integer, not _io.BytesIO https://dokument.plandata.dk/20_1061735_APPROVED_1197897006289.pdf\n",
      "stat: path should be string, bytes, os.PathLike or integer, not _io.BytesIO https://dokument.plandata.dk/20_1206268_APPROVED_1246972858381.pdf\n",
      "stat: path should be string, bytes, os.PathLike or integer, not _io.BytesIO https://dokument.plandata.dk/20_1207295_APPROVED_1247044391756.pdf\n",
      "stat: path should be string, bytes, os.PathLike or integer, not _io.BytesIO https://dokument.plandata.dk/20_1177897_APPROVED_1243424387226.pdf\n",
      "stat: path should be string, bytes, os.PathLike or integer, not _io.BytesIO https://dokument.plandata.dk/20_1178124_APPROVED_1243425773683.pdf\n",
      "stat: path should be string, bytes, os.PathLike or integer, not _io.BytesIO https://dokument.plandata.dk/20_1061011_APPROVED_1197898024148.pdf\n",
      "stat: path should be string, bytes, os.PathLike or integer, not _io.BytesIO https://dokument.plandata.dk/20_1205765_APPROVED_1246955285698.pdf\n",
      "stat: path should be string, bytes, os.PathLike or integer, not _io.BytesIO https://dokument.plandata.dk/20_1177537_APPROVED_1243416114853.pdf\n",
      "'/Contents' https://dokument.plandata.dk/20_3543536_1524079005582.pdf\n",
      "'/Contents' https://dokument.plandata.dk/20_3543536_1524079005582.pdf\n",
      "'/Contents' https://dokument.plandata.dk/20_3543536_1524079005582.pdf\n",
      "'/Contents' https://dokument.plandata.dk/20_3543536_1524079005582.pdf\n",
      "'/Contents' https://dokument.plandata.dk/20_3543536_1524079005582.pdf\n",
      "stat: path should be string, bytes, os.PathLike or integer, not _io.BytesIO https://dokument.plandata.dk/20_1060736_APPROVED_1197013851126.pdf\n",
      "stat: path should be string, bytes, os.PathLike or integer, not _io.BytesIO https://dokument.plandata.dk/20_1060959_APPROVED_1197021664769.pdf\n",
      "stat: path should be string, bytes, os.PathLike or integer, not _io.BytesIO https://dokument.plandata.dk/20_1060740_APPROVED_1197015277433.pdf\n",
      "stat: path should be string, bytes, os.PathLike or integer, not _io.BytesIO https://dokument.plandata.dk/20_1206236_APPROVED_1310126399637.pdf\n",
      "stat: path should be string, bytes, os.PathLike or integer, not _io.BytesIO https://dokument.plandata.dk/20_1206235_APPROVED_1310126371949.pdf\n",
      "stat: path should be string, bytes, os.PathLike or integer, not _io.BytesIO https://dokument.plandata.dk/20_1060985_APPROVED_1197027175331.pdf\n",
      "stat: path should be string, bytes, os.PathLike or integer, not _io.BytesIO https://dokument.plandata.dk/20_1061725_APPROVED_1294840952287.pdf\n",
      "'/Contents' https://dokument.plandata.dk/20_3286669_1507616075653.pdf\n",
      "'/Contents' https://dokument.plandata.dk/20_3286669_1507616075653.pdf\n",
      "'/Contents' https://dokument.plandata.dk/20_3286669_1507616075653.pdf\n",
      "'/Contents' https://dokument.plandata.dk/20_3286669_1507616075653.pdf\n",
      "stat: path should be string, bytes, os.PathLike or integer, not _io.BytesIO https://dokument.plandata.dk/20_1061176_APPROVED_1197538117896.pdf\n",
      "stat: path should be string, bytes, os.PathLike or integer, not _io.BytesIO https://dokument.plandata.dk/20_1178415_APPROVED_1243429116807.pdf\n",
      "stat: path should be string, bytes, os.PathLike or integer, not _io.BytesIO https://dokument.plandata.dk/20_1178416_APPROVED_1243429173196.pdf\n",
      "stat: path should be string, bytes, os.PathLike or integer, not _io.BytesIO https://dokument.plandata.dk/20_1206267_APPROVED_1246972801711.pdf\n",
      "stat: path should be string, bytes, os.PathLike or integer, not _io.BytesIO https://dokument.plandata.dk/20_1178689_APPROVED_1243431444512.pdf\n",
      "stat: path should be string, bytes, os.PathLike or integer, not _io.BytesIO https://dokument.plandata.dk/20_1206257_APPROVED_1246972065534.pdf\n",
      "stat: path should be string, bytes, os.PathLike or integer, not _io.BytesIO https://dokument.plandata.dk/20_1213525_APPROVED_1249564716141.pdf\n",
      "stat: path should be string, bytes, os.PathLike or integer, not _io.BytesIO https://dokument.plandata.dk/20_1206273_APPROVED_1246973096219.pdf\n",
      "stat: path should be string, bytes, os.PathLike or integer, not _io.BytesIO https://dokument.plandata.dk/20_1207296_APPROVED_1247044443661.pdf\n",
      "stat: path should be string, bytes, os.PathLike or integer, not _io.BytesIO https://dokument.plandata.dk/20_1177633_APPROVED_1243416623968.pdf\n",
      "stat: path should be string, bytes, os.PathLike or integer, not _io.BytesIO https://dokument.plandata.dk/20_1177784_APPROVED_1243422538058.pdf\n",
      "stat: path should be string, bytes, os.PathLike or integer, not _io.BytesIO https://dokument.plandata.dk/20_1177579_APPROVED_1243416283819.pdf\n",
      "stat: path should be string, bytes, os.PathLike or integer, not _io.BytesIO https://dokument.plandata.dk/20_1178241_APPROVED_1243426476045.pdf\n",
      "stat: path should be string, bytes, os.PathLike or integer, not _io.BytesIO https://dokument.plandata.dk/20_1177554_APPROVED_1243416180493.pdf\n",
      "stat: path should be string, bytes, os.PathLike or integer, not _io.BytesIO https://dokument.plandata.dk/20_1177567_APPROVED_1243416228414.pdf\n",
      "stat: path should be string, bytes, os.PathLike or integer, not _io.BytesIO https://dokument.plandata.dk/20_1177542_APPROVED_1243416135322.pdf\n",
      "ord() expected string of length 1, but int found https://dokument.plandata.dk/20_175993_APPROVED_1162452818058.pdf\n",
      "ord() expected string of length 1, but int found https://dokument.plandata.dk/20_176141_APPROVED_1162453123347.pdf\n",
      "ord() expected string of length 1, but int found https://dokument.plandata.dk/20_176141_APPROVED_1162453123347.pdf\n",
      "ord() expected string of length 1, but int found https://dokument.plandata.dk/20_176141_APPROVED_1162453123347.pdf\n",
      "ord() expected string of length 1, but int found https://dokument.plandata.dk/20_176141_APPROVED_1162453123347.pdf\n",
      "ord() expected string of length 1, but int found https://dokument.plandata.dk/20_176141_APPROVED_1162453123347.pdf\n",
      "ord() expected string of length 1, but int found https://dokument.plandata.dk/20_176141_APPROVED_1162453123347.pdf\n",
      "ord() expected string of length 1, but int found https://dokument.plandata.dk/20_176141_APPROVED_1162453123347.pdf\n",
      "ord() expected string of length 1, but int found https://dokument.plandata.dk/20_176141_APPROVED_1162453123347.pdf\n",
      "ord() expected string of length 1, but int found https://dokument.plandata.dk/20_176141_APPROVED_1162453123347.pdf\n",
      "ord() expected string of length 1, but int found https://dokument.plandata.dk/20_176141_APPROVED_1162453123347.pdf\n",
      "ord() expected string of length 1, but int found https://dokument.plandata.dk/20_176141_APPROVED_1162453123347.pdf\n",
      "ord() expected string of length 1, but int found https://dokument.plandata.dk/20_176141_APPROVED_1162453123347.pdf\n",
      "ord() expected string of length 1, but int found https://dokument.plandata.dk/20_176141_APPROVED_1162453123347.pdf\n",
      "ord() expected string of length 1, but int found https://dokument.plandata.dk/20_176141_APPROVED_1162453123347.pdf\n",
      "ord() expected string of length 1, but int found https://dokument.plandata.dk/20_176141_APPROVED_1162453123347.pdf\n",
      "ord() expected string of length 1, but int found https://dokument.plandata.dk/20_176141_APPROVED_1162453123347.pdf\n",
      "ord() expected string of length 1, but int found https://dokument.plandata.dk/20_176141_APPROVED_1162453123347.pdf\n",
      "ord() expected string of length 1, but int found https://dokument.plandata.dk/20_176141_APPROVED_1162453123347.pdf\n",
      "ord() expected string of length 1, but int found https://dokument.plandata.dk/20_175934_APPROVED_1162452683374.pdf\n",
      "ord() expected string of length 1, but int found https://dokument.plandata.dk/20_175934_APPROVED_1162452683374.pdf\n",
      "ord() expected string of length 1, but int found https://dokument.plandata.dk/20_175934_APPROVED_1162452683374.pdf\n",
      "ord() expected string of length 1, but int found https://dokument.plandata.dk/20_175937_APPROVED_1162452688843.pdf\n",
      "ord() expected string of length 1, but int found https://dokument.plandata.dk/20_175937_APPROVED_1162452688843.pdf\n",
      "ord() expected string of length 1, but int found https://dokument.plandata.dk/20_176142_APPROVED_1162453124941.pdf\n",
      "ord() expected string of length 1, but int found https://dokument.plandata.dk/20_176142_APPROVED_1162453124941.pdf\n",
      "ord() expected string of length 1, but int found https://dokument.plandata.dk/20_176142_APPROVED_1162453124941.pdf\n",
      "ord() expected string of length 1, but int found https://dokument.plandata.dk/20_176142_APPROVED_1162453124941.pdf\n",
      "ord() expected string of length 1, but int found https://dokument.plandata.dk/20_176142_APPROVED_1162453124941.pdf\n",
      "ord() expected string of length 1, but int found https://dokument.plandata.dk/20_176142_APPROVED_1162453124941.pdf\n",
      "ord() expected string of length 1, but int found https://dokument.plandata.dk/20_176142_APPROVED_1162453124941.pdf\n",
      "ord() expected string of length 1, but int found https://dokument.plandata.dk/20_176142_APPROVED_1162453124941.pdf\n",
      "ord() expected string of length 1, but int found https://dokument.plandata.dk/20_176142_APPROVED_1162453124941.pdf\n",
      "ord() expected string of length 1, but int found https://dokument.plandata.dk/20_176142_APPROVED_1162453124941.pdf\n",
      "ord() expected string of length 1, but int found https://dokument.plandata.dk/20_176142_APPROVED_1162453124941.pdf\n",
      "ord() expected string of length 1, but int found https://dokument.plandata.dk/20_176142_APPROVED_1162453124941.pdf\n",
      "ord() expected string of length 1, but int found https://dokument.plandata.dk/20_176142_APPROVED_1162453124941.pdf\n",
      "ord() expected string of length 1, but int found https://dokument.plandata.dk/20_176142_APPROVED_1162453124941.pdf\n",
      "ord() expected string of length 1, but int found https://dokument.plandata.dk/20_176142_APPROVED_1162453124941.pdf\n",
      "ord() expected string of length 1, but int found https://dokument.plandata.dk/20_176142_APPROVED_1162453124941.pdf\n",
      "ord() expected string of length 1, but int found https://dokument.plandata.dk/20_176095_APPROVED_1162453044630.pdf\n",
      "ord() expected string of length 1, but int found https://dokument.plandata.dk/20_176095_APPROVED_1162453044630.pdf\n",
      "ord() expected string of length 1, but int found https://dokument.plandata.dk/20_176095_APPROVED_1162453044630.pdf\n",
      "ord() expected string of length 1, but int found https://dokument.plandata.dk/20_176053_APPROVED_1162452936508.pdf\n",
      "ord() expected string of length 1, but int found https://dokument.plandata.dk/20_176053_APPROVED_1162452936508.pdf\n",
      "ord() expected string of length 1, but int found https://dokument.plandata.dk/20_176140_APPROVED_1162453118644.pdf\n",
      "stat: path should be string, bytes, os.PathLike or integer, not _io.BytesIO https://dokument.plandata.dk/20_1213526_APPROVED_1249565013321.pdf\n",
      "stat: path should be string, bytes, os.PathLike or integer, not _io.BytesIO https://dokument.plandata.dk/20_1213281_APPROVED_1310127285209.pdf\n",
      "stat: path should be string, bytes, os.PathLike or integer, not _io.BytesIO https://dokument.plandata.dk/20_1060975_APPROVED_1197024426089.pdf\n",
      "stat: path should be string, bytes, os.PathLike or integer, not _io.BytesIO https://dokument.plandata.dk/20_1061185_APPROVED_1197541981911.pdf\n",
      "stat: path should be string, bytes, os.PathLike or integer, not _io.BytesIO https://dokument.plandata.dk/20_1178417_APPROVED_1243429240757.pdf\n",
      "stat: path should be string, bytes, os.PathLike or integer, not _io.BytesIO https://dokument.plandata.dk/20_1206211_APPROVED_1246965687728.pdf\n",
      "stat: path should be string, bytes, os.PathLike or integer, not _io.BytesIO https://dokument.plandata.dk/20_1206209_APPROVED_1246965554185.pdf\n",
      "stat: path should be string, bytes, os.PathLike or integer, not _io.BytesIO https://dokument.plandata.dk/20_1217900_APPROVED_1250490840078.pdf\n",
      "stat: path should be string, bytes, os.PathLike or integer, not _io.BytesIO https://dokument.plandata.dk/20_1206220_APPROVED_1246967477995.pdf\n",
      "stat: path should be string, bytes, os.PathLike or integer, not _io.BytesIO https://dokument.plandata.dk/20_1217923_APPROVED_1250493110453.pdf\n",
      "stat: path should be string, bytes, os.PathLike or integer, not _io.BytesIO https://dokument.plandata.dk/20_1206256_APPROVED_1246971982879.pdf\n",
      "stat: path should be string, bytes, os.PathLike or integer, not _io.BytesIO https://dokument.plandata.dk/20_1205771_APPROVED_1246956388951.pdf\n",
      "stat: path should be string, bytes, os.PathLike or integer, not _io.BytesIO https://dokument.plandata.dk/20_1206217_APPROVED_1286445398001.pdf\n",
      "stat: path should be string, bytes, os.PathLike or integer, not _io.BytesIO https://dokument.plandata.dk/20_1206204_APPROVED_1246964901436.pdf\n",
      "stat: path should be string, bytes, os.PathLike or integer, not _io.BytesIO https://dokument.plandata.dk/20_1218002_APPROVED_1250503626828.pdf\n",
      "stat: path should be string, bytes, os.PathLike or integer, not _io.BytesIO https://dokument.plandata.dk/20_1205761_APPROVED_1246954876239.pdf\n",
      "stat: path should be string, bytes, os.PathLike or integer, not _io.BytesIO https://dokument.plandata.dk/20_1178378_APPROVED_1309183907491.pdf\n",
      "stat: path should be string, bytes, os.PathLike or integer, not _io.BytesIO https://dokument.plandata.dk/20_1213524_APPROVED_1309183978193.pdf\n",
      "'/Contents' https://dokument.plandata.dk/20_9415809_1535962726960.pdf\n",
      "stat: path should be string, bytes, os.PathLike or integer, not _io.BytesIO https://dokument.plandata.dk/20_1205730_APPROVED_1246949718762.pdf\n",
      "stat: path should be string, bytes, os.PathLike or integer, not _io.BytesIO https://dokument.plandata.dk/20_1177563_APPROVED_1243416213758.pdf\n",
      "stat: path should be string, bytes, os.PathLike or integer, not _io.BytesIO https://dokument.plandata.dk/20_1177547_APPROVED_1243416156227.pdf\n",
      "stat: path should be string, bytes, os.PathLike or integer, not _io.BytesIO https://dokument.plandata.dk/20_3241303_1536215821690.pdf\n",
      "stat: path should be string, bytes, os.PathLike or integer, not _io.BytesIO https://dokument.plandata.dk/20_1060989_APPROVED_1197027706177.pdf\n",
      "stat: path should be string, bytes, os.PathLike or integer, not _io.BytesIO https://dokument.plandata.dk/20_1217961_APPROVED_1250498870625.pdf\n",
      "stat: path should be string, bytes, os.PathLike or integer, not _io.BytesIO https://dokument.plandata.dk/20_1206229_APPROVED_1246968349707.pdf\n",
      "stat: path should be string, bytes, os.PathLike or integer, not _io.BytesIO https://dokument.plandata.dk/20_1218001_APPROVED_1250503225640.pdf\n",
      "stat: path should be string, bytes, os.PathLike or integer, not _io.BytesIO https://dokument.plandata.dk/20_1205763_APPROVED_1246955072734.pdf\n",
      "stat: path should be string, bytes, os.PathLike or integer, not _io.BytesIO https://dokument.plandata.dk/20_1218005_APPROVED_1250503977859.pdf\n",
      "stat: path should be string, bytes, os.PathLike or integer, not _io.BytesIO https://dokument.plandata.dk/20_1017292_APPROVED_1174470225709.pdf\n",
      "stat: path should be string, bytes, os.PathLike or integer, not _io.BytesIO https://dokument.plandata.dk/20_1074423_APPROVED_1204022688457.pdf\n",
      "stat: path should be string, bytes, os.PathLike or integer, not _io.BytesIO https://dokument.plandata.dk/20_1074566_APPROVED_1204200402270.pdf\n",
      "stat: path should be string, bytes, os.PathLike or integer, not _io.BytesIO https://dokument.plandata.dk/20_1074550_APPROVED_1204193693473.pdf\n",
      "stat: path should be string, bytes, os.PathLike or integer, not _io.BytesIO https://dokument.plandata.dk/20_1074414_APPROVED_1204020721335.pdf\n",
      "stat: path should be string, bytes, os.PathLike or integer, not _io.BytesIO https://dokument.plandata.dk/20_1074438_APPROVED_1204027083172.pdf\n",
      "stat: path should be string, bytes, os.PathLike or integer, not _io.BytesIO https://dokument.plandata.dk/20_1031587_APPROVED_1174470213850.pdf\n",
      "stat: path should be string, bytes, os.PathLike or integer, not _io.BytesIO https://dokument.plandata.dk/20_1074403_APPROVED_1204018057481.pdf\n",
      "stat: path should be string, bytes, os.PathLike or integer, not _io.BytesIO https://dokument.plandata.dk/20_1074569_APPROVED_1204201359589.pdf\n",
      "stat: path should be string, bytes, os.PathLike or integer, not _io.BytesIO https://dokument.plandata.dk/20_1074546_APPROVED_1204192876665.pdf\n",
      "stat: path should be string, bytes, os.PathLike or integer, not _io.BytesIO https://dokument.plandata.dk/20_1031318_APPROVED_1174462677993.pdf\n",
      "stat: path should be string, bytes, os.PathLike or integer, not _io.BytesIO https://dokument.plandata.dk/20_1031317_APPROVED_1174462676602.pdf\n",
      "stat: path should be string, bytes, os.PathLike or integer, not _io.BytesIO https://dokument.plandata.dk/20_1031596_APPROVED_1174470221116.pdf\n",
      "stat: path should be string, bytes, os.PathLike or integer, not _io.BytesIO https://dokument.plandata.dk/20_1031321_APPROVED_1174462681743.pdf\n",
      "stat: path should be string, bytes, os.PathLike or integer, not _io.BytesIO https://dokument.plandata.dk/20_1031598_APPROVED_1177571751787.pdf\n",
      "stat: path should be string, bytes, os.PathLike or integer, not _io.BytesIO https://dokument.plandata.dk/20_1031597_APPROVED_1177571749709.pdf\n",
      "stat: path should be string, bytes, os.PathLike or integer, not _io.BytesIO https://dokument.plandata.dk/20_1031578_APPROVED_1174470201288.pdf\n",
      "stat: path should be string, bytes, os.PathLike or integer, not _io.BytesIO https://dokument.plandata.dk/20_1031308_APPROVED_1174462663868.pdf\n",
      "stat: path should be string, bytes, os.PathLike or integer, not _io.BytesIO https://dokument.plandata.dk/20_1031590_APPROVED_1174470218022.pdf\n",
      "stat: path should be string, bytes, os.PathLike or integer, not _io.BytesIO https://dokument.plandata.dk/20_1031315_APPROVED_1174462674040.pdf\n",
      "stat: path should be string, bytes, os.PathLike or integer, not _io.BytesIO https://dokument.plandata.dk/20_1031589_APPROVED_1174470216694.pdf\n",
      "stat: path should be string, bytes, os.PathLike or integer, not _io.BytesIO https://dokument.plandata.dk/20_1031319_APPROVED_1174465125446.pdf\n",
      "stat: path should be string, bytes, os.PathLike or integer, not _io.BytesIO https://dokument.plandata.dk/20_1030439_APPROVED_1173790228034.pdf\n",
      "stat: path should be string, bytes, os.PathLike or integer, not _io.BytesIO https://dokument.plandata.dk/20_1031312_APPROVED_1174465122180.pdf\n",
      "stat: path should be string, bytes, os.PathLike or integer, not _io.BytesIO https://dokument.plandata.dk/20_1074470_APPROVED_1204035102217.pdf\n",
      "stat: path should be string, bytes, os.PathLike or integer, not _io.BytesIO https://dokument.plandata.dk/20_1074549_APPROVED_1204193577147.pdf\n",
      "stat: path should be string, bytes, os.PathLike or integer, not _io.BytesIO https://dokument.plandata.dk/20_1074426_APPROVED_1269331937213.pdf\n",
      "stat: path should be string, bytes, os.PathLike or integer, not _io.BytesIO https://dokument.plandata.dk/20_1074408_APPROVED_1204019255076.pdf\n",
      "stat: path should be string, bytes, os.PathLike or integer, not _io.BytesIO https://dokument.plandata.dk/20_1074397_APPROVED_1269332268361.pdf\n",
      "stat: path should be string, bytes, os.PathLike or integer, not _io.BytesIO https://dokument.plandata.dk/20_1074411_APPROVED_1204019921543.pdf\n",
      "stat: path should be string, bytes, os.PathLike or integer, not _io.BytesIO https://dokument.plandata.dk/20_1074797_APPROVED_1269332201847.pdf\n",
      "stat: path should be string, bytes, os.PathLike or integer, not _io.BytesIO https://dokument.plandata.dk/20_1074417_APPROVED_1269332082506.pdf\n",
      "stat: path should be string, bytes, os.PathLike or integer, not _io.BytesIO https://dokument.plandata.dk/20_1031305_APPROVED_1174462659852.pdf\n",
      "stat: path should be string, bytes, os.PathLike or integer, not _io.BytesIO https://dokument.plandata.dk/20_1074457_APPROVED_1204031086382.pdf\n",
      "stat: path should be string, bytes, os.PathLike or integer, not _io.BytesIO https://dokument.plandata.dk/20_1031299_APPROVED_1175584692112.pdf\n",
      "stat: path should be string, bytes, os.PathLike or integer, not _io.BytesIO https://dokument.plandata.dk/20_1017202_APPROVED_1175242829345.pdf\n",
      "stat: path should be string, bytes, os.PathLike or integer, not _io.BytesIO https://dokument.plandata.dk/20_1031314_APPROVED_1174462672587.pdf\n",
      "stat: path should be string, bytes, os.PathLike or integer, not _io.BytesIO https://dokument.plandata.dk/20_1031329_APPROVED_1174462691352.pdf\n",
      "stat: path should be string, bytes, os.PathLike or integer, not _io.BytesIO https://dokument.plandata.dk/20_1031576_APPROVED_1174470198851.pdf\n",
      "stat: path should be string, bytes, os.PathLike or integer, not _io.BytesIO https://dokument.plandata.dk/20_1030907_APPROVED_1174312382910.pdf\n",
      "stat: path should be string, bytes, os.PathLike or integer, not _io.BytesIO https://dokument.plandata.dk/20_1074458_APPROVED_1204031258097.pdf\n",
      "stat: path should be string, bytes, os.PathLike or integer, not _io.BytesIO https://dokument.plandata.dk/20_1031600_APPROVED_1174470222366.pdf\n",
      "stat: path should be string, bytes, os.PathLike or integer, not _io.BytesIO https://dokument.plandata.dk/20_1031593_APPROVED_1177571742240.pdf\n",
      "stat: path should be string, bytes, os.PathLike or integer, not _io.BytesIO https://dokument.plandata.dk/20_1031322_APPROVED_1174462683102.pdf\n",
      "stat: path should be string, bytes, os.PathLike or integer, not _io.BytesIO https://dokument.plandata.dk/20_1030461_APPROVED_1173792274497.pdf\n",
      "stat: path should be string, bytes, os.PathLike or integer, not _io.BytesIO https://dokument.plandata.dk/20_1031293_APPROVED_1175584683269.pdf\n",
      "stat: path should be string, bytes, os.PathLike or integer, not _io.BytesIO https://dokument.plandata.dk/20_1031579_APPROVED_1174470203257.pdf\n",
      "stat: path should be string, bytes, os.PathLike or integer, not _io.BytesIO https://dokument.plandata.dk/20_1031580_APPROVED_1174470204835.pdf\n",
      "stat: path should be string, bytes, os.PathLike or integer, not _io.BytesIO https://dokument.plandata.dk/20_1031584_APPROVED_1174470210132.pdf\n",
      "stat: path should be string, bytes, os.PathLike or integer, not _io.BytesIO https://dokument.plandata.dk/20_1031306_APPROVED_1174462661087.pdf\n",
      "stat: path should be string, bytes, os.PathLike or integer, not _io.BytesIO https://dokument.plandata.dk/20_1031313_APPROVED_1174462671508.pdf\n",
      "stat: path should be string, bytes, os.PathLike or integer, not _io.BytesIO https://dokument.plandata.dk/20_1030443_APPROVED_1173792209920.pdf\n",
      "stat: path should be string, bytes, os.PathLike or integer, not _io.BytesIO https://dokument.plandata.dk/20_1031582_APPROVED_1174470207663.pdf\n",
      "stat: path should be string, bytes, os.PathLike or integer, not _io.BytesIO https://dokument.plandata.dk/20_1031323_APPROVED_1174462684149.pdf\n",
      "stat: path should be string, bytes, os.PathLike or integer, not _io.BytesIO https://dokument.plandata.dk/20_1031586_APPROVED_1174470212663.pdf\n",
      "stat: path should be string, bytes, os.PathLike or integer, not _io.BytesIO https://dokument.plandata.dk/20_1031311_APPROVED_1174462668899.pdf\n",
      "stat: path should be string, bytes, os.PathLike or integer, not _io.BytesIO https://dokument.plandata.dk/20_1031583_APPROVED_1174470209085.pdf\n",
      "stat: path should be string, bytes, os.PathLike or integer, not _io.BytesIO https://dokument.plandata.dk/20_1031320_APPROVED_1174462680493.pdf\n",
      "stat: path should be string, bytes, os.PathLike or integer, not _io.BytesIO https://dokument.plandata.dk/20_1031588_APPROVED_1280911117808.pdf\n",
      "stat: path should be string, bytes, os.PathLike or integer, not _io.BytesIO https://dokument.plandata.dk/20_1031326_APPROVED_1174465127055.pdf\n",
      "stat: path should be string, bytes, os.PathLike or integer, not _io.BytesIO https://dokument.plandata.dk/20_1031585_APPROVED_1174470211319.pdf\n",
      "stat: path should be string, bytes, os.PathLike or integer, not _io.BytesIO https://dokument.plandata.dk/20_1031297_APPROVED_1175584689862.pdf\n",
      "stat: path should be string, bytes, os.PathLike or integer, not _io.BytesIO https://dokument.plandata.dk/20_1031307_APPROVED_1174462662446.pdf\n",
      "stat: path should be string, bytes, os.PathLike or integer, not _io.BytesIO https://dokument.plandata.dk/20_1031316_APPROVED_1174462675352.pdf\n",
      "stat: path should be string, bytes, os.PathLike or integer, not _io.BytesIO https://dokument.plandata.dk/20_1031309_APPROVED_1174462665102.pdf\n",
      "stat: path should be string, bytes, os.PathLike or integer, not _io.BytesIO https://dokument.plandata.dk/20_1031591_APPROVED_1174470219460.pdf\n",
      "stat: path should be string, bytes, os.PathLike or integer, not _io.BytesIO https://dokument.plandata.dk/20_1031324_APPROVED_1174462685258.pdf\n",
      "stat: path should be string, bytes, os.PathLike or integer, not _io.BytesIO https://dokument.plandata.dk/20_1031301_1393503754618.pdf\n",
      "stat: path should be string, bytes, os.PathLike or integer, not _io.BytesIO https://dokument.plandata.dk/20_1030488_APPROVED_1254822283626.pdf\n",
      "stat: path should be string, bytes, os.PathLike or integer, not _io.BytesIO https://dokument.plandata.dk/20_1074436_APPROVED_1204026916208.pdf\n",
      "stat: path should be string, bytes, os.PathLike or integer, not _io.BytesIO https://dokument.plandata.dk/20_1074543_APPROVED_1204192173746.pdf\n",
      "stat: path should be string, bytes, os.PathLike or integer, not _io.BytesIO https://dokument.plandata.dk/20_1074710_APPROVED_1204548489669.pdf\n",
      "stat: path should be string, bytes, os.PathLike or integer, not _io.BytesIO https://dokument.plandata.dk/20_1074715_APPROVED_1204549127075.pdf\n",
      "stat: path should be string, bytes, os.PathLike or integer, not _io.BytesIO https://dokument.plandata.dk/20_1074467_APPROVED_1204034095133.pdf\n",
      "stat: path should be string, bytes, os.PathLike or integer, not _io.BytesIO https://dokument.plandata.dk/20_1074548_APPROVED_1204193473588.pdf\n",
      "stat: path should be string, bytes, os.PathLike or integer, not _io.BytesIO https://dokument.plandata.dk/20_1074653_APPROVED_1204286058201.pdf\n",
      "stat: path should be string, bytes, os.PathLike or integer, not _io.BytesIO https://dokument.plandata.dk/20_1074798_APPROVED_1269271634284.pdf\n",
      "stat: path should be string, bytes, os.PathLike or integer, not _io.BytesIO https://dokument.plandata.dk/20_1074567_APPROVED_1204200810478.pdf\n",
      "stat: path should be string, bytes, os.PathLike or integer, not _io.BytesIO https://dokument.plandata.dk/20_1074545_APPROVED_1204192683858.pdf\n",
      "stat: path should be string, bytes, os.PathLike or integer, not _io.BytesIO https://dokument.plandata.dk/20_1074573_APPROVED_1204202510481.pdf\n",
      "stat: path should be string, bytes, os.PathLike or integer, not _io.BytesIO https://dokument.plandata.dk/20_1075707_APPROVED_1204888057954.pdf\n",
      "stat: path should be string, bytes, os.PathLike or integer, not _io.BytesIO https://dokument.plandata.dk/20_1074563_APPROVED_1204196400138.pdf\n",
      "stat: path should be string, bytes, os.PathLike or integer, not _io.BytesIO https://dokument.plandata.dk/20_1074541_APPROVED_1204191675821.pdf\n",
      "stat: path should be string, bytes, os.PathLike or integer, not _io.BytesIO https://dokument.plandata.dk/20_1075584_APPROVED_1204796739286.pdf\n",
      "stat: path should be string, bytes, os.PathLike or integer, not _io.BytesIO https://dokument.plandata.dk/20_1031595_APPROVED_1177571747318.pdf\n",
      "stat: path should be string, bytes, os.PathLike or integer, not _io.BytesIO https://dokument.plandata.dk/20_1031594_APPROVED_1177571745084.pdf\n",
      "stat: path should be string, bytes, os.PathLike or integer, not _io.BytesIO https://dokument.plandata.dk/20_1074424_APPROVED_1269332023242.pdf\n",
      "stat: path should be string, bytes, os.PathLike or integer, not _io.BytesIO https://dokument.plandata.dk/20_1074556_APPROVED_1204194803507.pdf\n",
      "stat: path should be string, bytes, os.PathLike or integer, not _io.BytesIO https://dokument.plandata.dk/20_1074416_APPROVED_1204020827348.pdf\n",
      "stat: path should be string, bytes, os.PathLike or integer, not _io.BytesIO https://dokument.plandata.dk/20_1074542_APPROVED_1204191852207.pdf\n",
      "stat: path should be string, bytes, os.PathLike or integer, not _io.BytesIO https://dokument.plandata.dk/20_1074717_APPROVED_1204549351959.pdf\n",
      "stat: path should be string, bytes, os.PathLike or integer, not _io.BytesIO https://dokument.plandata.dk/20_1074578_APPROVED_1204206208496.pdf\n",
      "stat: path should be string, bytes, os.PathLike or integer, not _io.BytesIO https://dokument.plandata.dk/20_1074547_APPROVED_1204192995709.pdf\n",
      "stat: path should be string, bytes, os.PathLike or integer, not _io.BytesIO https://dokument.plandata.dk/20_1074572_APPROVED_1204202301299.pdf\n",
      "stat: path should be string, bytes, os.PathLike or integer, not _io.BytesIO https://dokument.plandata.dk/20_1030908_1538141831469.pdf\n",
      "stat: path should be string, bytes, os.PathLike or integer, not _io.BytesIO https://dokument.plandata.dk/20_1074719_APPROVED_1204549743715.pdf\n",
      "stat: path should be string, bytes, os.PathLike or integer, not _io.BytesIO https://dokument.plandata.dk/20_1074725_APPROVED_1204552158341.pdf\n",
      "stat: path should be string, bytes, os.PathLike or integer, not _io.BytesIO https://dokument.plandata.dk/20_1075642_APPROVED_1204811556156.pdf\n",
      "stat: path should be string, bytes, os.PathLike or integer, not _io.BytesIO https://dokument.plandata.dk/20_1074404_APPROVED_1269333398707.pdf\n",
      "stat: path should be string, bytes, os.PathLike or integer, not _io.BytesIO https://dokument.plandata.dk/20_1074406_APPROVED_1204018909116.pdf\n",
      "stat: path should be string, bytes, os.PathLike or integer, not _io.BytesIO https://dokument.plandata.dk/20_1074314_APPROVED_1203675267160.pdf\n",
      "'/Contents' https://dokument.plandata.dk/20_3806858_1517339359837.pdf\n",
      "stat: path should be string, bytes, os.PathLike or integer, not _io.BytesIO https://dokument.plandata.dk/20_1206252_APPROVED_1246971915631.pdf\n",
      "stat: path should be string, bytes, os.PathLike or integer, not _io.BytesIO https://dokument.plandata.dk/20_1074434_APPROVED_1269332115068.pdf\n",
      "stat: path should be string, bytes, os.PathLike or integer, not _io.BytesIO https://dokument.plandata.dk/20_1074552_APPROVED_1204194128368.pdf\n",
      "stat: path should be string, bytes, os.PathLike or integer, not _io.BytesIO https://dokument.plandata.dk/20_1074557_APPROVED_1204194952190.pdf\n",
      "stat: path should be string, bytes, os.PathLike or integer, not _io.BytesIO https://dokument.plandata.dk/20_1075591_APPROVED_1269331996618.pdf\n",
      "stat: path should be string, bytes, os.PathLike or integer, not _io.BytesIO https://dokument.plandata.dk/20_1074439_APPROVED_1322745080017.pdf\n",
      "'/Contents' https://dokument.plandata.dk/20_2967435_1433153270148.pdf\n",
      "stat: path should be string, bytes, os.PathLike or integer, not _io.BytesIO https://dokument.plandata.dk/20_1074413_APPROVED_1204020518715.pdf\n",
      "stat: path should be string, bytes, os.PathLike or integer, not _io.BytesIO https://dokument.plandata.dk/20_1074468_APPROVED_1204034359502.pdf\n",
      "stat: path should be string, bytes, os.PathLike or integer, not _io.BytesIO https://dokument.plandata.dk/20_1074749_APPROVED_1269331906120.pdf\n",
      "stat: path should be string, bytes, os.PathLike or integer, not _io.BytesIO https://dokument.plandata.dk/20_1074425_APPROVED_1269271889059.pdf\n",
      "stat: path should be string, bytes, os.PathLike or integer, not _io.BytesIO https://dokument.plandata.dk/20_1074764_APPROVED_1204629009054.pdf\n",
      "stat: path should be string, bytes, os.PathLike or integer, not _io.BytesIO https://dokument.plandata.dk/20_1074654_APPROVED_1204286374912.pdf\n",
      "stat: path should be string, bytes, os.PathLike or integer, not _io.BytesIO https://dokument.plandata.dk/20_1074421_APPROVED_1269331799841.pdf\n",
      "stat: path should be string, bytes, os.PathLike or integer, not _io.BytesIO https://dokument.plandata.dk/20_1074574_1519323900679.pdf\n",
      "stat: path should be string, bytes, os.PathLike or integer, not _io.BytesIO https://dokument.plandata.dk/20_1074553_APPROVED_1204194227443.pdf\n",
      "stat: path should be string, bytes, os.PathLike or integer, not _io.BytesIO https://dokument.plandata.dk/20_1074402_APPROVED_1204017460528.pdf\n",
      "stat: path should be string, bytes, os.PathLike or integer, not _io.BytesIO https://dokument.plandata.dk/20_1074580_APPROVED_1204206823136.pdf\n",
      "stat: path should be string, bytes, os.PathLike or integer, not _io.BytesIO https://dokument.plandata.dk/20_1101125_1519323902423.pdf\n",
      "stat: path should be string, bytes, os.PathLike or integer, not _io.BytesIO https://dokument.plandata.dk/20_1074576_APPROVED_1326965603190.pdf\n",
      "stat: path should be string, bytes, os.PathLike or integer, not _io.BytesIO https://dokument.plandata.dk/20_1074713_APPROVED_1204548801645.pdf\n",
      "stat: path should be string, bytes, os.PathLike or integer, not _io.BytesIO https://dokument.plandata.dk/20_1074433_APPROVED_1204026419642.pdf\n",
      "stat: path should be string, bytes, os.PathLike or integer, not _io.BytesIO https://dokument.plandata.dk/20_1074407_APPROVED_1322742488630.pdf\n",
      "stat: path should be string, bytes, os.PathLike or integer, not _io.BytesIO https://dokument.plandata.dk/20_1075571_APPROVED_1204794816257.pdf\n",
      "stat: path should be string, bytes, os.PathLike or integer, not _io.BytesIO https://dokument.plandata.dk/20_1075596_APPROVED_1204799970969.pdf\n",
      "stat: path should be string, bytes, os.PathLike or integer, not _io.BytesIO https://dokument.plandata.dk/20_1074568_APPROVED_1204200986536.pdf\n",
      "stat: path should be string, bytes, os.PathLike or integer, not _io.BytesIO https://dokument.plandata.dk/20_1075606_APPROVED_1294405294395.pdf\n",
      "stat: path should be string, bytes, os.PathLike or integer, not _io.BytesIO https://dokument.plandata.dk/20_1075621_APPROVED_1204806678672.pdf\n",
      "stat: path should be string, bytes, os.PathLike or integer, not _io.BytesIO https://dokument.plandata.dk/20_1074462_APPROVED_1204032009327.pdf\n",
      "stat: path should be string, bytes, os.PathLike or integer, not _io.BytesIO https://dokument.plandata.dk/20_1075643_APPROVED_1269271876575.pdf\n",
      "stat: path should be string, bytes, os.PathLike or integer, not _io.BytesIO https://dokument.plandata.dk/20_1074544_APPROVED_1204192367741.pdf\n",
      "stat: path should be string, bytes, os.PathLike or integer, not _io.BytesIO https://dokument.plandata.dk/20_1074726_APPROVED_1204552555096.pdf\n",
      "stat: path should be string, bytes, os.PathLike or integer, not _io.BytesIO https://dokument.plandata.dk/20_1074709_APPROVED_1204548403374.pdf\n",
      "stat: path should be string, bytes, os.PathLike or integer, not _io.BytesIO https://dokument.plandata.dk/20_1074707_APPROVED_1204548203208.pdf\n",
      "stat: path should be string, bytes, os.PathLike or integer, not _io.BytesIO https://dokument.plandata.dk/20_1074465_APPROVED_1204033710174.pdf\n",
      "stat: path should be string, bytes, os.PathLike or integer, not _io.BytesIO https://dokument.plandata.dk/20_1074539_APPROVED_1204191203630.pdf\n",
      "stat: path should be string, bytes, os.PathLike or integer, not _io.BytesIO https://dokument.plandata.dk/20_1074579_APPROVED_1204206357070.pdf\n",
      "stat: path should be string, bytes, os.PathLike or integer, not _io.BytesIO https://dokument.plandata.dk/20_1075587_APPROVED_1204797630763.pdf\n",
      "stat: path should be string, bytes, os.PathLike or integer, not _io.BytesIO https://dokument.plandata.dk/20_1074795_APPROVED_1204640683131.pdf\n",
      "stat: path should be string, bytes, os.PathLike or integer, not _io.BytesIO https://dokument.plandata.dk/20_1075712_APPROVED_1204890765478.pdf\n",
      "stat: path should be string, bytes, os.PathLike or integer, not _io.BytesIO https://dokument.plandata.dk/20_1074427_APPROVED_1204023559653.pdf\n",
      "stat: path should be string, bytes, os.PathLike or integer, not _io.BytesIO https://dokument.plandata.dk/20_1074661_APPROVED_1269331624752.pdf\n",
      "stat: path should be string, bytes, os.PathLike or integer, not _io.BytesIO https://dokument.plandata.dk/20_1108974_APPROVED_1223986671359.pdf\n",
      "stat: path should be string, bytes, os.PathLike or integer, not _io.BytesIO https://dokument.plandata.dk/20_1108931_APPROVED_1223986556706.pdf\n",
      "'/Contents' https://dokument.plandata.dk/20_2994356_1443168167845.pdf\n",
      "stat: path should be string, bytes, os.PathLike or integer, not _io.BytesIO https://dokument.plandata.dk/20_1075608_APPROVED_1204804276702.pdf\n",
      "stat: path should be string, bytes, os.PathLike or integer, not _io.BytesIO https://dokument.plandata.dk/20_1108926_APPROVED_1223986530472.pdf\n",
      "stat: path should be string, bytes, os.PathLike or integer, not _io.BytesIO https://dokument.plandata.dk/20_1075640_APPROVED_1322742760545.pdf\n",
      "stat: path should be string, bytes, os.PathLike or integer, not _io.BytesIO https://dokument.plandata.dk/20_1108951_APPROVED_1223986612235.pdf\n",
      "stat: path should be string, bytes, os.PathLike or integer, not _io.BytesIO https://dokument.plandata.dk/20_1108928_APPROVED_1223986538159.pdf\n",
      "stat: path should be string, bytes, os.PathLike or integer, not _io.BytesIO https://dokument.plandata.dk/20_1108920_APPROVED_1223986465583.pdf\n",
      "stat: path should be string, bytes, os.PathLike or integer, not _io.BytesIO https://dokument.plandata.dk/20_1074446_APPROVED_1269271739328.pdf\n",
      "stat: path should be string, bytes, os.PathLike or integer, not _io.BytesIO https://dokument.plandata.dk/20_1075610_APPROVED_1204804589132.pdf\n",
      "stat: path should be string, bytes, os.PathLike or integer, not _io.BytesIO https://dokument.plandata.dk/20_1074575_APPROVED_1326965547862.pdf\n",
      "stat: path should be string, bytes, os.PathLike or integer, not _io.BytesIO https://dokument.plandata.dk/20_1074714_APPROVED_1204548983485.pdf\n",
      "stat: path should be string, bytes, os.PathLike or integer, not _io.BytesIO https://dokument.plandata.dk/20_1075616_APPROVED_1204805964159.pdf\n",
      "stat: path should be string, bytes, os.PathLike or integer, not _io.BytesIO https://dokument.plandata.dk/20_1108929_APPROVED_1223986544956.pdf\n",
      "stat: path should be string, bytes, os.PathLike or integer, not _io.BytesIO https://dokument.plandata.dk/20_1075607_APPROVED_1204803966741.pdf\n",
      "stat: path should be string, bytes, os.PathLike or integer, not _io.BytesIO https://dokument.plandata.dk/20_1108936_APPROVED_1223986576690.pdf\n",
      "stat: path should be string, bytes, os.PathLike or integer, not _io.BytesIO https://dokument.plandata.dk/20_1108933_APPROVED_1223986563940.pdf\n",
      "'/Contents' https://dokument.plandata.dk/20_3015656_1454401155721.pdf\n",
      "stat: path should be string, bytes, os.PathLike or integer, not _io.BytesIO https://dokument.plandata.dk/20_1074562_APPROVED_1204196274953.pdf\n",
      "stat: path should be string, bytes, os.PathLike or integer, not _io.BytesIO https://dokument.plandata.dk/20_1108930_APPROVED_1223986551487.pdf\n",
      "stat: path should be string, bytes, os.PathLike or integer, not _io.BytesIO https://dokument.plandata.dk/20_1075612_APPROVED_1204805565529.pdf\n",
      "stat: path should be string, bytes, os.PathLike or integer, not _io.BytesIO https://dokument.plandata.dk/20_1074711_APPROVED_1204548575089.pdf\n",
      "stat: path should be string, bytes, os.PathLike or integer, not _io.BytesIO https://dokument.plandata.dk/20_1108901_APPROVED_1223986414897.pdf\n",
      "stat: path should be string, bytes, os.PathLike or integer, not _io.BytesIO https://dokument.plandata.dk/20_1108912_APPROVED_1223986441677.pdf\n",
      "stat: path should be string, bytes, os.PathLike or integer, not _io.BytesIO https://dokument.plandata.dk/20_1074658_APPROVED_1269331733671.pdf\n",
      "stat: path should be string, bytes, os.PathLike or integer, not _io.BytesIO https://dokument.plandata.dk/20_1108999_APPROVED_1223986752669.pdf\n",
      "stat: path should be string, bytes, os.PathLike or integer, not _io.BytesIO https://dokument.plandata.dk/20_1108950_APPROVED_1223986610095.pdf\n",
      "'/Contents' https://dokument.plandata.dk/20_1108522_1449763310081.pdf\n",
      "'/Contents' https://dokument.plandata.dk/20_1108522_1449763310081.pdf\n",
      "stat: path should be string, bytes, os.PathLike or integer, not _io.BytesIO https://dokument.plandata.dk/20_1075619_APPROVED_1204806329306.pdf\n",
      "'/Contents' https://dokument.plandata.dk/20_1108942_1449762923472.pdf\n",
      "stat: path should be string, bytes, os.PathLike or integer, not _io.BytesIO https://dokument.plandata.dk/20_1108980_APPROVED_1223986687905.pdf\n",
      "stat: path should be string, bytes, os.PathLike or integer, not _io.BytesIO https://dokument.plandata.dk/20_1074538_APPROVED_1204191061118.pdf\n",
      "stat: path should be string, bytes, os.PathLike or integer, not _io.BytesIO https://dokument.plandata.dk/20_1108988_APPROVED_1223986719608.pdf\n",
      "stat: path should be string, bytes, os.PathLike or integer, not _io.BytesIO https://dokument.plandata.dk/20_1037378_APPROVED_1178606410447.pdf\n",
      "stat: path should be string, bytes, os.PathLike or integer, not _io.BytesIO https://dokument.plandata.dk/20_1046965_DRAFT_1185284066774.pdf\n",
      "stat: path should be string, bytes, os.PathLike or integer, not _io.BytesIO https://dokument.plandata.dk/20_1046950_DRAFT_1185191811454.pdf\n",
      "stat: path should be string, bytes, os.PathLike or integer, not _io.BytesIO https://dokument.plandata.dk/20_1192981_DRAFT_1245409456325.pdf\n",
      "stat: path should be string, bytes, os.PathLike or integer, not _io.BytesIO https://dokument.plandata.dk/20_2259195_1378199183357.pdf\n",
      "stat: path should be string, bytes, os.PathLike or integer, not _io.BytesIO https://dokument.plandata.dk/20_1047327_DRAFT_1185357675376.pdf\n",
      "stat: path should be string, bytes, os.PathLike or integer, not _io.BytesIO https://dokument.plandata.dk/20_1101632_DRAFT_1219048079546.pdf\n",
      "stat: path should be string, bytes, os.PathLike or integer, not _io.BytesIO https://dokument.plandata.dk/20_1043921_DRAFT_1181893974506.pdf\n",
      "stat: path should be string, bytes, os.PathLike or integer, not _io.BytesIO https://dokument.plandata.dk/20_1102449_DRAFT_1219839208423.pdf\n",
      "stat: path should be string, bytes, os.PathLike or integer, not _io.BytesIO https://dokument.plandata.dk/20_1047333_DRAFT_1185362423676.pdf\n",
      "stat: path should be string, bytes, os.PathLike or integer, not _io.BytesIO https://dokument.plandata.dk/20_1046973_DRAFT_1185286940029.pdf\n",
      "stat: path should be string, bytes, os.PathLike or integer, not _io.BytesIO https://dokument.plandata.dk/20_1071939_DRAFT_1202470592873.pdf\n",
      "stat: path should be string, bytes, os.PathLike or integer, not _io.BytesIO https://dokument.plandata.dk/20_1046945_DRAFT_1185183888938.pdf\n",
      "stat: path should be string, bytes, os.PathLike or integer, not _io.BytesIO https://dokument.plandata.dk/20_1360284_APPROVED_1289819377100.pdf\n",
      "stat: path should be string, bytes, os.PathLike or integer, not _io.BytesIO https://dokument.plandata.dk/20_1101777_DRAFT_1219235150134.pdf\n",
      "stat: path should be string, bytes, os.PathLike or integer, not _io.BytesIO https://dokument.plandata.dk/20_1075976_APPROVED_1205424987731.pdf\n",
      "stat: path should be string, bytes, os.PathLike or integer, not _io.BytesIO https://dokument.plandata.dk/20_1046553_DRAFT_1184861239314.pdf\n",
      "stat: path should be string, bytes, os.PathLike or integer, not _io.BytesIO https://dokument.plandata.dk/20_1059991_DRAFT_1196079061981.pdf\n",
      "stat: path should be string, bytes, os.PathLike or integer, not _io.BytesIO https://dokument.plandata.dk/20_1046442_DRAFT_1184577384945.pdf\n",
      "stat: path should be string, bytes, os.PathLike or integer, not _io.BytesIO https://dokument.plandata.dk/20_1021526_DRAFT_1163512420916.pdf\n",
      "stat: path should be string, bytes, os.PathLike or integer, not _io.BytesIO https://dokument.plandata.dk/20_1059971_DRAFT_1196073504748.pdf\n",
      "stat: path should be string, bytes, os.PathLike or integer, not _io.BytesIO https://dokument.plandata.dk/20_1073638_DRAFT_1203008277675.pdf\n",
      "stat: path should be string, bytes, os.PathLike or integer, not _io.BytesIO https://dokument.plandata.dk/20_1046951_DRAFT_1185192518576.pdf\n",
      "stat: path should be string, bytes, os.PathLike or integer, not _io.BytesIO https://dokument.plandata.dk/20_1102150_DRAFT_1219670689797.pdf\n",
      "stat: path should be string, bytes, os.PathLike or integer, not _io.BytesIO https://dokument.plandata.dk/20_1046185_APPROVED_1193899134197.pdf\n",
      "stat: path should be string, bytes, os.PathLike or integer, not _io.BytesIO https://dokument.plandata.dk/20_1059987_DRAFT_1196078435091.pdf\n",
      "stat: path should be string, bytes, os.PathLike or integer, not _io.BytesIO https://dokument.plandata.dk/20_1367662_APPROVED_1304670418151.pdf\n",
      "stat: path should be string, bytes, os.PathLike or integer, not _io.BytesIO https://dokument.plandata.dk/20_1067193_DRAFT_1200394338253.pdf\n",
      "stat: path should be string, bytes, os.PathLike or integer, not _io.BytesIO https://dokument.plandata.dk/20_1102958_DRAFT_1220276008477.pdf\n",
      "stat: path should be string, bytes, os.PathLike or integer, not _io.BytesIO https://dokument.plandata.dk/20_1102970_DRAFT_1220276611087.pdf\n",
      "stat: path should be string, bytes, os.PathLike or integer, not _io.BytesIO https://dokument.plandata.dk/20_2275441_1378199364824.pdf\n",
      "stat: path should be string, bytes, os.PathLike or integer, not _io.BytesIO https://dokument.plandata.dk/20_1108377_APPROVED_1236675508377.pdf\n",
      "stat: path should be string, bytes, os.PathLike or integer, not _io.BytesIO https://dokument.plandata.dk/20_1108379_APPROVED_1236675755386.pdf\n",
      "stat: path should be string, bytes, os.PathLike or integer, not _io.BytesIO https://dokument.plandata.dk/20_1054745_DRAFT_1191844067420.pdf\n",
      "stat: path should be string, bytes, os.PathLike or integer, not _io.BytesIO https://dokument.plandata.dk/20_1054760_DRAFT_1191846993892.pdf\n",
      "stat: path should be string, bytes, os.PathLike or integer, not _io.BytesIO https://dokument.plandata.dk/20_1046551_DRAFT_1184858670448.pdf\n",
      "stat: path should be string, bytes, os.PathLike or integer, not _io.BytesIO https://dokument.plandata.dk/20_1071941_DRAFT_1202471461742.pdf\n",
      "stat: path should be string, bytes, os.PathLike or integer, not _io.BytesIO https://dokument.plandata.dk/20_1046943_DRAFT_1185181680026.pdf\n",
      "stat: path should be string, bytes, os.PathLike or integer, not _io.BytesIO https://dokument.plandata.dk/20_1046944_DRAFT_1185182841730.pdf\n",
      "stat: path should be string, bytes, os.PathLike or integer, not _io.BytesIO https://dokument.plandata.dk/20_1071643_DRAFT_1202132879652.pdf\n",
      "stat: path should be string, bytes, os.PathLike or integer, not _io.BytesIO https://dokument.plandata.dk/20_1059854_1508482679114.pdf\n",
      "stat: path should be string, bytes, os.PathLike or integer, not _io.BytesIO https://dokument.plandata.dk/20_1059859_APPROVED_1349180902209.pdf\n",
      "stat: path should be string, bytes, os.PathLike or integer, not _io.BytesIO https://dokument.plandata.dk/20_1046953_DRAFT_1185193089359.pdf\n",
      "stat: path should be string, bytes, os.PathLike or integer, not _io.BytesIO https://dokument.plandata.dk/20_1046967_DRAFT_1185284645853.pdf\n",
      "stat: path should be string, bytes, os.PathLike or integer, not _io.BytesIO https://dokument.plandata.dk/20_1046972_DRAFT_1185286435745.pdf\n",
      "stat: path should be string, bytes, os.PathLike or integer, not _io.BytesIO https://dokument.plandata.dk/20_1046975_DRAFT_1185347883030.pdf\n",
      "stat: path should be string, bytes, os.PathLike or integer, not _io.BytesIO https://dokument.plandata.dk/20_1073776_DRAFT_1203339115367.pdf\n",
      "stat: path should be string, bytes, os.PathLike or integer, not _io.BytesIO https://dokument.plandata.dk/20_1081550_DRAFT_1210257014486.pdf\n",
      "stat: path should be string, bytes, os.PathLike or integer, not _io.BytesIO https://dokument.plandata.dk/20_1047321_DRAFT_1185354086030.pdf\n",
      "stat: path should be string, bytes, os.PathLike or integer, not _io.BytesIO https://dokument.plandata.dk/20_1047323_DRAFT_1185355921405.pdf\n",
      "stat: path should be string, bytes, os.PathLike or integer, not _io.BytesIO https://dokument.plandata.dk/20_1047326_DRAFT_1185357055860.pdf\n",
      "stat: path should be string, bytes, os.PathLike or integer, not _io.BytesIO https://dokument.plandata.dk/20_1101652_DRAFT_1219130248714.pdf\n",
      "stat: path should be string, bytes, os.PathLike or integer, not _io.BytesIO https://dokument.plandata.dk/20_1101653_DRAFT_1219133191772.pdf\n",
      "stat: path should be string, bytes, os.PathLike or integer, not _io.BytesIO https://dokument.plandata.dk/20_1101666_DRAFT_1219150360067.pdf\n",
      "stat: path should be string, bytes, os.PathLike or integer, not _io.BytesIO https://dokument.plandata.dk/20_1101699_DRAFT_1219223214127.pdf\n",
      "stat: path should be string, bytes, os.PathLike or integer, not _io.BytesIO https://dokument.plandata.dk/20_1101803_DRAFT_1219239705080.pdf\n",
      "stat: path should be string, bytes, os.PathLike or integer, not _io.BytesIO https://dokument.plandata.dk/20_1101650_DRAFT_1219128538461.pdf\n",
      "stat: path should be string, bytes, os.PathLike or integer, not _io.BytesIO https://dokument.plandata.dk/20_1059953_DRAFT_1196067776708.pdf\n",
      "stat: path should be string, bytes, os.PathLike or integer, not _io.BytesIO https://dokument.plandata.dk/20_1059992_DRAFT_1196080412665.pdf\n",
      "stat: path should be string, bytes, os.PathLike or integer, not _io.BytesIO https://dokument.plandata.dk/20_1059970_DRAFT_1196071972709.pdf\n",
      "stat: path should be string, bytes, os.PathLike or integer, not _io.BytesIO https://dokument.plandata.dk/20_1060001_DRAFT_1196082256306.pdf\n",
      "stat: path should be string, bytes, os.PathLike or integer, not _io.BytesIO https://dokument.plandata.dk/20_1060116_DRAFT_1196247122970.pdf\n",
      "stat: path should be string, bytes, os.PathLike or integer, not _io.BytesIO https://dokument.plandata.dk/20_1060120_DRAFT_1196250123127.pdf\n",
      "stat: path should be string, bytes, os.PathLike or integer, not _io.BytesIO https://dokument.plandata.dk/20_1060142_DRAFT_1196261494961.pdf\n",
      "stat: path should be string, bytes, os.PathLike or integer, not _io.BytesIO https://dokument.plandata.dk/20_1044153_DRAFT_1181897959279.pdf\n",
      "stat: path should be string, bytes, os.PathLike or integer, not _io.BytesIO https://dokument.plandata.dk/20_1059868_1508484324852.pdf\n",
      "stat: path should be string, bytes, os.PathLike or integer, not _io.BytesIO https://dokument.plandata.dk/20_1193319_DRAFT_1245412164474.pdf\n",
      "stat: path should be string, bytes, os.PathLike or integer, not _io.BytesIO https://dokument.plandata.dk/20_1070820_DRAFT_1200905710948.pdf\n",
      "stat: path should be string, bytes, os.PathLike or integer, not _io.BytesIO https://dokument.plandata.dk/20_1102971_DRAFT_1220276825566.pdf\n",
      "stat: path should be string, bytes, os.PathLike or integer, not _io.BytesIO https://dokument.plandata.dk/20_1046549_DRAFT_1184856944133.pdf\n",
      "stat: path should be string, bytes, os.PathLike or integer, not _io.BytesIO https://dokument.plandata.dk/20_1192746_DRAFT_1245407256209.pdf\n",
      "stat: path should be string, bytes, os.PathLike or integer, not _io.BytesIO https://dokument.plandata.dk/20_1191705_DRAFT_1245405193215.pdf\n",
      "stat: path should be string, bytes, os.PathLike or integer, not _io.BytesIO https://dokument.plandata.dk/20_1101662_1475154855784.pdf\n",
      "stat: path should be string, bytes, os.PathLike or integer, not _io.BytesIO https://dokument.plandata.dk/20_1071671_DRAFT_1202204002654.pdf\n",
      "stat: path should be string, bytes, os.PathLike or integer, not _io.BytesIO https://dokument.plandata.dk/20_1046536_DRAFT_1184838479965.pdf\n",
      "stat: path should be string, bytes, os.PathLike or integer, not _io.BytesIO https://dokument.plandata.dk/20_1071544_DRAFT_1201798367335.pdf\n",
      "stat: path should be string, bytes, os.PathLike or integer, not _io.BytesIO https://dokument.plandata.dk/20_1071674_APPROVED_1355737210012.pdf\n",
      "stat: path should be string, bytes, os.PathLike or integer, not _io.BytesIO https://dokument.plandata.dk/20_1041899_APPROVED_1181900345249.pdf\n",
      "stat: path should be string, bytes, os.PathLike or integer, not _io.BytesIO https://dokument.plandata.dk/20_1047344_PROPOSAL_1185466082731.pdf\n",
      "stat: path should be string, bytes, os.PathLike or integer, not _io.BytesIO https://dokument.plandata.dk/20_1044162_DRAFT_1181899405492.pdf\n",
      "stat: path should be string, bytes, os.PathLike or integer, not _io.BytesIO https://dokument.plandata.dk/20_1047345_DRAFT_1185465553916.pdf\n",
      "stat: path should be string, bytes, os.PathLike or integer, not _io.BytesIO https://dokument.plandata.dk/20_1046955_DRAFT_1185193895432.pdf\n",
      "stat: path should be string, bytes, os.PathLike or integer, not _io.BytesIO https://dokument.plandata.dk/20_1046490_1477644002083.pdf\n",
      "stat: path should be string, bytes, os.PathLike or integer, not _io.BytesIO https://dokument.plandata.dk/20_1046552_DRAFT_1184859873302.pdf\n",
      "stat: path should be string, bytes, os.PathLike or integer, not _io.BytesIO https://dokument.plandata.dk/20_1047350_DRAFT_1185524936662.pdf\n",
      "stat: path should be string, bytes, os.PathLike or integer, not _io.BytesIO https://dokument.plandata.dk/20_1045887_DRAFT_1183646440346.pdf\n",
      "stat: path should be string, bytes, os.PathLike or integer, not _io.BytesIO https://dokument.plandata.dk/20_1047347_DRAFT_1185519346053.pdf\n",
      "stat: path should be string, bytes, os.PathLike or integer, not _io.BytesIO https://dokument.plandata.dk/20_1071636_DRAFT_1202128350799.pdf\n",
      "stat: path should be string, bytes, os.PathLike or integer, not _io.BytesIO https://dokument.plandata.dk/20_1101788_DRAFT_1219237168551.pdf\n",
      "stat: path should be string, bytes, os.PathLike or integer, not _io.BytesIO https://dokument.plandata.dk/20_1021253_DRAFT_1163499825639.pdf\n",
      "stat: path should be string, bytes, os.PathLike or integer, not _io.BytesIO https://dokument.plandata.dk/20_1046440_DRAFT_1184575288570.pdf\n",
      "stat: path should be string, bytes, os.PathLike or integer, not _io.BytesIO https://dokument.plandata.dk/20_1047348_APPROVED_1185524012998.pdf\n",
      "stat: path should be string, bytes, os.PathLike or integer, not _io.BytesIO https://dokument.plandata.dk/20_1046971_DRAFT_1185285131590.pdf\n",
      "stat: path should be string, bytes, os.PathLike or integer, not _io.BytesIO https://dokument.plandata.dk/20_1047349_DRAFT_1185524295928.pdf\n",
      "stat: path should be string, bytes, os.PathLike or integer, not _io.BytesIO https://dokument.plandata.dk/20_1046445_DRAFT_1184579422210.pdf\n",
      "stat: path should be string, bytes, os.PathLike or integer, not _io.BytesIO https://dokument.plandata.dk/20_1046447_DRAFT_1184587605039.pdf\n",
      "stat: path should be string, bytes, os.PathLike or integer, not _io.BytesIO https://dokument.plandata.dk/20_1071686_1449582657680.pdf\n",
      "stat: path should be string, bytes, os.PathLike or integer, not _io.BytesIO https://dokument.plandata.dk/20_1071887_DRAFT_1202403520536.pdf\n",
      "stat: path should be string, bytes, os.PathLike or integer, not _io.BytesIO https://dokument.plandata.dk/20_1071925_APPROVED_1202467743993.pdf\n",
      "stat: path should be string, bytes, os.PathLike or integer, not _io.BytesIO https://dokument.plandata.dk/20_1041743_DRAFT_1181822690474.pdf\n",
      "stat: path should be string, bytes, os.PathLike or integer, not _io.BytesIO https://dokument.plandata.dk/20_1046546_DRAFT_1184852850722.pdf\n",
      "stat: path should be string, bytes, os.PathLike or integer, not _io.BytesIO https://dokument.plandata.dk/20_1047322_DRAFT_1185355013038.pdf\n",
      "stat: path should be string, bytes, os.PathLike or integer, not _io.BytesIO https://dokument.plandata.dk/20_1046545_DRAFT_1184851981057.pdf\n",
      "stat: path should be string, bytes, os.PathLike or integer, not _io.BytesIO https://dokument.plandata.dk/20_1046976_DRAFT_1185350635884.pdf\n",
      "stat: path should be string, bytes, os.PathLike or integer, not _io.BytesIO https://dokument.plandata.dk/20_1047335_DRAFT_1185365210073.pdf\n",
      "stat: path should be string, bytes, os.PathLike or integer, not _io.BytesIO https://dokument.plandata.dk/20_1047339_DRAFT_1185456923587.pdf\n",
      "stat: path should be string, bytes, os.PathLike or integer, not _io.BytesIO https://dokument.plandata.dk/20_1060002_DRAFT_1196085009469.pdf\n",
      "stat: path should be string, bytes, os.PathLike or integer, not _io.BytesIO https://dokument.plandata.dk/20_1060123_DRAFT_1196253228454.pdf\n",
      "stat: path should be string, bytes, os.PathLike or integer, not _io.BytesIO https://dokument.plandata.dk/20_1060127_DRAFT_1196254116447.pdf\n",
      "stat: path should be string, bytes, os.PathLike or integer, not _io.BytesIO https://dokument.plandata.dk/20_1060134_DRAFT_1196255809466.pdf\n",
      "stat: path should be string, bytes, os.PathLike or integer, not _io.BytesIO https://dokument.plandata.dk/20_1060141_DRAFT_1196260452707.pdf\n",
      "stat: path should be string, bytes, os.PathLike or integer, not _io.BytesIO https://dokument.plandata.dk/20_1066816_DRAFT_1200389633794.pdf\n",
      "stat: path should be string, bytes, os.PathLike or integer, not _io.BytesIO https://dokument.plandata.dk/20_1060131_DRAFT_1196255242621.pdf\n",
      "stat: path should be string, bytes, os.PathLike or integer, not _io.BytesIO https://dokument.plandata.dk/20_1071933_DRAFT_1202468382164.pdf\n",
      "stat: path should be string, bytes, os.PathLike or integer, not _io.BytesIO https://dokument.plandata.dk/20_1073758_DRAFT_1203334753710.pdf\n",
      "stat: path should be string, bytes, os.PathLike or integer, not _io.BytesIO https://dokument.plandata.dk/20_1071678_DRAFT_1202213652488.pdf\n",
      "stat: path should be string, bytes, os.PathLike or integer, not _io.BytesIO https://dokument.plandata.dk/20_1073767_DRAFT_1203338497960.pdf\n",
      "stat: path should be string, bytes, os.PathLike or integer, not _io.BytesIO https://dokument.plandata.dk/20_1073820_DRAFT_1203411670592.pdf\n",
      "stat: path should be string, bytes, os.PathLike or integer, not _io.BytesIO https://dokument.plandata.dk/20_1080539_DRAFT_1208447511480.pdf\n",
      "stat: path should be string, bytes, os.PathLike or integer, not _io.BytesIO https://dokument.plandata.dk/20_1080651_DRAFT_1208777017247.pdf\n",
      "stat: path should be string, bytes, os.PathLike or integer, not _io.BytesIO https://dokument.plandata.dk/20_1073789_DRAFT_1203341521898.pdf\n",
      "stat: path should be string, bytes, os.PathLike or integer, not _io.BytesIO https://dokument.plandata.dk/20_1080540_1515005480711.pdf\n",
      "stat: path should be string, bytes, os.PathLike or integer, not _io.BytesIO https://dokument.plandata.dk/20_1080704_DRAFT_1208779401967.pdf\n",
      "stat: path should be string, bytes, os.PathLike or integer, not _io.BytesIO https://dokument.plandata.dk/20_1080714_DRAFT_1208781840232.pdf\n",
      "stat: path should be string, bytes, os.PathLike or integer, not _io.BytesIO https://dokument.plandata.dk/20_1101454_DRAFT_1218788959709.pdf\n",
      "stat: path should be string, bytes, os.PathLike or integer, not _io.BytesIO https://dokument.plandata.dk/20_1080699_DRAFT_1208778445757.pdf\n",
      "stat: path should be string, bytes, os.PathLike or integer, not _io.BytesIO https://dokument.plandata.dk/20_1193191_DRAFT_1245411035893.pdf\n",
      "stat: path should be string, bytes, os.PathLike or integer, not _io.BytesIO https://dokument.plandata.dk/20_1102954_DRAFT_1220275794311.pdf\n",
      "stat: path should be string, bytes, os.PathLike or integer, not _io.BytesIO https://dokument.plandata.dk/20_1102153_DRAFT_1219671144770.pdf\n",
      "stat: path should be string, bytes, os.PathLike or integer, not _io.BytesIO https://dokument.plandata.dk/20_1102399_DRAFT_1219833431618.pdf\n",
      "stat: path should be string, bytes, os.PathLike or integer, not _io.BytesIO https://dokument.plandata.dk/20_1191279_DRAFT_1245399328771.pdf\n",
      "stat: path should be string, bytes, os.PathLike or integer, not _io.BytesIO https://dokument.plandata.dk/20_1192418_DRAFT_1245406410090.pdf\n",
      "stat: path should be string, bytes, os.PathLike or integer, not _io.BytesIO https://dokument.plandata.dk/20_1192873_1515000228788.pdf\n",
      "stat: path should be string, bytes, os.PathLike or integer, not _io.BytesIO https://dokument.plandata.dk/20_1054833_DRAFT_1191941382105.pdf\n",
      "stat: path should be string, bytes, os.PathLike or integer, not _io.BytesIO https://dokument.plandata.dk/20_1030456_1538132487470.pdf\n",
      "stat: path should be string, bytes, os.PathLike or integer, not _io.BytesIO https://dokument.plandata.dk/20_1030462_1538132613911.pdf\n",
      "stat: path should be string, bytes, os.PathLike or integer, not _io.BytesIO https://dokument.plandata.dk/20_1030495_1538132989690.pdf\n",
      "stat: path should be string, bytes, os.PathLike or integer, not _io.BytesIO https://dokument.plandata.dk/20_1030497_1538133275168.pdf\n",
      "stat: path should be string, bytes, os.PathLike or integer, not _io.BytesIO https://dokument.plandata.dk/20_1030499_1538133460475.pdf\n",
      "stat: path should be string, bytes, os.PathLike or integer, not _io.BytesIO https://dokument.plandata.dk/20_1030489_1538133906379.pdf\n",
      "stat: path should be string, bytes, os.PathLike or integer, not _io.BytesIO https://dokument.plandata.dk/20_1075701_APPROVED_1269331973806.pdf\n",
      "stat: path should be string, bytes, os.PathLike or integer, not _io.BytesIO https://dokument.plandata.dk/20_1074799_APPROVED_1269332224518.pdf\n",
      "stat: path should be string, bytes, os.PathLike or integer, not _io.BytesIO https://dokument.plandata.dk/20_1074724_APPROVED_1326965762050.pdf\n",
      "stat: path should be string, bytes, os.PathLike or integer, not _io.BytesIO https://dokument.plandata.dk/20_1074763_APPROVED_1269341115510.pdf\n",
      "stat: path should be string, bytes, os.PathLike or integer, not _io.BytesIO https://dokument.plandata.dk/20_1075684_APPROVED_1204882383958.pdf\n",
      "stat: path should be string, bytes, os.PathLike or integer, not _io.BytesIO https://dokument.plandata.dk/20_1075677_APPROVED_1204880791186.pdf\n",
      "stat: path should be string, bytes, os.PathLike or integer, not _io.BytesIO https://dokument.plandata.dk/20_1075601_APPROVED_1204800360756.pdf\n",
      "stat: path should be string, bytes, os.PathLike or integer, not _io.BytesIO https://dokument.plandata.dk/20_1075592_APPROVED_1204798727876.pdf\n",
      "stat: path should be string, bytes, os.PathLike or integer, not _io.BytesIO https://dokument.plandata.dk/20_1205737_APPROVED_1310125242238.pdf\n",
      "stat: path should be string, bytes, os.PathLike or integer, not _io.BytesIO https://dokument.plandata.dk/20_1206205_1505204288387.pdf\n",
      "stat: path should be string, bytes, os.PathLike or integer, not _io.BytesIO https://dokument.plandata.dk/20_1217945_1414676471912.pdf\n",
      "stat: path should be string, bytes, os.PathLike or integer, not _io.BytesIO https://dokument.plandata.dk/20_1031573_1538139479398.pdf\n",
      "stat: path should be string, bytes, os.PathLike or integer, not _io.BytesIO https://dokument.plandata.dk/20_3964696_1537874974130.pdf\n",
      "stat: path should be string, bytes, os.PathLike or integer, not _io.BytesIO https://dokument.plandata.dk/20_1205760_APPROVED_1246954415298.pdf\n",
      "stat: path should be string, bytes, os.PathLike or integer, not _io.BytesIO https://dokument.plandata.dk/20_1030900_1538140889112.pdf\n",
      "stat: path should be string, bytes, os.PathLike or integer, not _io.BytesIO https://dokument.plandata.dk/20_1057292_APPROVED_1193659861199.pdf\n",
      "stat: path should be string, bytes, os.PathLike or integer, not _io.BytesIO https://dokument.plandata.dk/20_1049854_APPROVED_1187180386761.pdf\n",
      "stat: path should be string, bytes, os.PathLike or integer, not _io.BytesIO https://dokument.plandata.dk/20_1058696_APPROVED_1193836746064.pdf\n",
      "stat: path should be string, bytes, os.PathLike or integer, not _io.BytesIO https://dokument.plandata.dk/20_1050570_1411470447186.pdf\n"
     ]
    },
    {
     "ename": "PdfReadError",
     "evalue": "File has not been decrypted",
     "output_type": "error",
     "traceback": [
      "\u001b[0;31m---------------------------------------------------------------------------\u001b[0m",
      "\u001b[0;31mNotImplementedError\u001b[0m                       Traceback (most recent call last)",
      "\u001b[0;32m~/anaconda/envs/plandata/lib/python3.6/site-packages/PyPDF2/pdf.py\u001b[0m in \u001b[0;36mgetNumPages\u001b[0;34m(self)\u001b[0m\n\u001b[1;32m   1146\u001b[0m                 \u001b[0mself\u001b[0m\u001b[0;34m.\u001b[0m\u001b[0m_override_encryption\u001b[0m \u001b[0;34m=\u001b[0m \u001b[0;32mTrue\u001b[0m\u001b[0;34m\u001b[0m\u001b[0m\n\u001b[0;32m-> 1147\u001b[0;31m                 \u001b[0mself\u001b[0m\u001b[0;34m.\u001b[0m\u001b[0mdecrypt\u001b[0m\u001b[0;34m(\u001b[0m\u001b[0;34m''\u001b[0m\u001b[0;34m)\u001b[0m\u001b[0;34m\u001b[0m\u001b[0m\n\u001b[0m\u001b[1;32m   1148\u001b[0m                 \u001b[0;32mreturn\u001b[0m \u001b[0mself\u001b[0m\u001b[0;34m.\u001b[0m\u001b[0mtrailer\u001b[0m\u001b[0;34m[\u001b[0m\u001b[0;34m\"/Root\"\u001b[0m\u001b[0;34m]\u001b[0m\u001b[0;34m[\u001b[0m\u001b[0;34m\"/Pages\"\u001b[0m\u001b[0;34m]\u001b[0m\u001b[0;34m[\u001b[0m\u001b[0;34m\"/Count\"\u001b[0m\u001b[0;34m]\u001b[0m\u001b[0;34m\u001b[0m\u001b[0m\n",
      "\u001b[0;32m~/anaconda/envs/plandata/lib/python3.6/site-packages/PyPDF2/pdf.py\u001b[0m in \u001b[0;36mdecrypt\u001b[0;34m(self, password)\u001b[0m\n\u001b[1;32m   1986\u001b[0m         \u001b[0;32mtry\u001b[0m\u001b[0;34m:\u001b[0m\u001b[0;34m\u001b[0m\u001b[0m\n\u001b[0;32m-> 1987\u001b[0;31m             \u001b[0;32mreturn\u001b[0m \u001b[0mself\u001b[0m\u001b[0;34m.\u001b[0m\u001b[0m_decrypt\u001b[0m\u001b[0;34m(\u001b[0m\u001b[0mpassword\u001b[0m\u001b[0;34m)\u001b[0m\u001b[0;34m\u001b[0m\u001b[0m\n\u001b[0m\u001b[1;32m   1988\u001b[0m         \u001b[0;32mfinally\u001b[0m\u001b[0;34m:\u001b[0m\u001b[0;34m\u001b[0m\u001b[0m\n",
      "\u001b[0;32m~/anaconda/envs/plandata/lib/python3.6/site-packages/PyPDF2/pdf.py\u001b[0m in \u001b[0;36m_decrypt\u001b[0;34m(self, password)\u001b[0m\n\u001b[1;32m   1995\u001b[0m         \u001b[0;32mif\u001b[0m \u001b[0;32mnot\u001b[0m \u001b[0;34m(\u001b[0m\u001b[0mencrypt\u001b[0m\u001b[0;34m[\u001b[0m\u001b[0;34m'/V'\u001b[0m\u001b[0;34m]\u001b[0m \u001b[0;32min\u001b[0m \u001b[0;34m(\u001b[0m\u001b[0;36m1\u001b[0m\u001b[0;34m,\u001b[0m \u001b[0;36m2\u001b[0m\u001b[0;34m)\u001b[0m\u001b[0;34m)\u001b[0m\u001b[0;34m:\u001b[0m\u001b[0;34m\u001b[0m\u001b[0m\n\u001b[0;32m-> 1996\u001b[0;31m             \u001b[0;32mraise\u001b[0m \u001b[0mNotImplementedError\u001b[0m\u001b[0;34m(\u001b[0m\u001b[0;34m\"only algorithm code 1 and 2 are supported\"\u001b[0m\u001b[0;34m)\u001b[0m\u001b[0;34m\u001b[0m\u001b[0m\n\u001b[0m\u001b[1;32m   1997\u001b[0m         \u001b[0muser_password\u001b[0m\u001b[0;34m,\u001b[0m \u001b[0mkey\u001b[0m \u001b[0;34m=\u001b[0m \u001b[0mself\u001b[0m\u001b[0;34m.\u001b[0m\u001b[0m_authenticateUserPassword\u001b[0m\u001b[0;34m(\u001b[0m\u001b[0mpassword\u001b[0m\u001b[0;34m)\u001b[0m\u001b[0;34m\u001b[0m\u001b[0m\n",
      "\u001b[0;31mNotImplementedError\u001b[0m: only algorithm code 1 and 2 are supported",
      "\nDuring handling of the above exception, another exception occurred:\n",
      "\u001b[0;31mPdfReadError\u001b[0m                              Traceback (most recent call last)",
      "\u001b[0;32m<ipython-input-6-b7208936c463>\u001b[0m in \u001b[0;36m<module>\u001b[0;34m\u001b[0m\n\u001b[0;32m----> 1\u001b[0;31m \u001b[0mdf_test\u001b[0m\u001b[0;34m[\u001b[0m\u001b[0;34m'dokument'\u001b[0m\u001b[0;34m]\u001b[0m \u001b[0;34m=\u001b[0m \u001b[0mdf_test\u001b[0m\u001b[0;34m[\u001b[0m\u001b[0;34m'doklink'\u001b[0m\u001b[0;34m]\u001b[0m\u001b[0;34m.\u001b[0m\u001b[0mapply\u001b[0m\u001b[0;34m(\u001b[0m\u001b[0mget_document\u001b[0m\u001b[0;34m)\u001b[0m\u001b[0;34m\u001b[0m\u001b[0m\n\u001b[0m",
      "\u001b[0;32m~/anaconda/envs/plandata/lib/python3.6/site-packages/pandas/core/series.py\u001b[0m in \u001b[0;36mapply\u001b[0;34m(self, func, convert_dtype, args, **kwds)\u001b[0m\n\u001b[1;32m   3192\u001b[0m             \u001b[0;32melse\u001b[0m\u001b[0;34m:\u001b[0m\u001b[0;34m\u001b[0m\u001b[0m\n\u001b[1;32m   3193\u001b[0m                 \u001b[0mvalues\u001b[0m \u001b[0;34m=\u001b[0m \u001b[0mself\u001b[0m\u001b[0;34m.\u001b[0m\u001b[0mastype\u001b[0m\u001b[0;34m(\u001b[0m\u001b[0mobject\u001b[0m\u001b[0;34m)\u001b[0m\u001b[0;34m.\u001b[0m\u001b[0mvalues\u001b[0m\u001b[0;34m\u001b[0m\u001b[0m\n\u001b[0;32m-> 3194\u001b[0;31m                 \u001b[0mmapped\u001b[0m \u001b[0;34m=\u001b[0m \u001b[0mlib\u001b[0m\u001b[0;34m.\u001b[0m\u001b[0mmap_infer\u001b[0m\u001b[0;34m(\u001b[0m\u001b[0mvalues\u001b[0m\u001b[0;34m,\u001b[0m \u001b[0mf\u001b[0m\u001b[0;34m,\u001b[0m \u001b[0mconvert\u001b[0m\u001b[0;34m=\u001b[0m\u001b[0mconvert_dtype\u001b[0m\u001b[0;34m)\u001b[0m\u001b[0;34m\u001b[0m\u001b[0m\n\u001b[0m\u001b[1;32m   3195\u001b[0m \u001b[0;34m\u001b[0m\u001b[0m\n\u001b[1;32m   3196\u001b[0m         \u001b[0;32mif\u001b[0m \u001b[0mlen\u001b[0m\u001b[0;34m(\u001b[0m\u001b[0mmapped\u001b[0m\u001b[0;34m)\u001b[0m \u001b[0;32mand\u001b[0m \u001b[0misinstance\u001b[0m\u001b[0;34m(\u001b[0m\u001b[0mmapped\u001b[0m\u001b[0;34m[\u001b[0m\u001b[0;36m0\u001b[0m\u001b[0;34m]\u001b[0m\u001b[0;34m,\u001b[0m \u001b[0mSeries\u001b[0m\u001b[0;34m)\u001b[0m\u001b[0;34m:\u001b[0m\u001b[0;34m\u001b[0m\u001b[0m\n",
      "\u001b[0;32mpandas/_libs/src/inference.pyx\u001b[0m in \u001b[0;36mpandas._libs.lib.map_infer\u001b[0;34m()\u001b[0m\n",
      "\u001b[0;32m<ipython-input-5-5986bb19ab7f>\u001b[0m in \u001b[0;36mget_document\u001b[0;34m(url)\u001b[0m\n\u001b[1;32m      9\u001b[0m \u001b[0;34m\u001b[0m\u001b[0m\n\u001b[1;32m     10\u001b[0m     \u001b[0;31m#discerning the number of pages will allow us to parse through all #the pages\u001b[0m\u001b[0;34m\u001b[0m\u001b[0;34m\u001b[0m\u001b[0m\n\u001b[0;32m---> 11\u001b[0;31m     \u001b[0mnum_pages\u001b[0m \u001b[0;34m=\u001b[0m \u001b[0mpdfReader\u001b[0m\u001b[0;34m.\u001b[0m\u001b[0mnumPages\u001b[0m\u001b[0;34m\u001b[0m\u001b[0m\n\u001b[0m\u001b[1;32m     12\u001b[0m     \u001b[0mcount\u001b[0m \u001b[0;34m=\u001b[0m \u001b[0;36m0\u001b[0m\u001b[0;34m\u001b[0m\u001b[0m\n\u001b[1;32m     13\u001b[0m     \u001b[0mtext\u001b[0m \u001b[0;34m=\u001b[0m \u001b[0;34m\"\"\u001b[0m\u001b[0;34m\u001b[0m\u001b[0m\n",
      "\u001b[0;32m~/anaconda/envs/plandata/lib/python3.6/site-packages/PyPDF2/pdf.py\u001b[0m in \u001b[0;36m<lambda>\u001b[0;34m(self)\u001b[0m\n\u001b[1;32m   1156\u001b[0m             \u001b[0;32mreturn\u001b[0m \u001b[0mlen\u001b[0m\u001b[0;34m(\u001b[0m\u001b[0mself\u001b[0m\u001b[0;34m.\u001b[0m\u001b[0mflattenedPages\u001b[0m\u001b[0;34m)\u001b[0m\u001b[0;34m\u001b[0m\u001b[0m\n\u001b[1;32m   1157\u001b[0m \u001b[0;34m\u001b[0m\u001b[0m\n\u001b[0;32m-> 1158\u001b[0;31m     \u001b[0mnumPages\u001b[0m \u001b[0;34m=\u001b[0m \u001b[0mproperty\u001b[0m\u001b[0;34m(\u001b[0m\u001b[0;32mlambda\u001b[0m \u001b[0mself\u001b[0m\u001b[0;34m:\u001b[0m \u001b[0mself\u001b[0m\u001b[0;34m.\u001b[0m\u001b[0mgetNumPages\u001b[0m\u001b[0;34m(\u001b[0m\u001b[0;34m)\u001b[0m\u001b[0;34m,\u001b[0m \u001b[0;32mNone\u001b[0m\u001b[0;34m,\u001b[0m \u001b[0;32mNone\u001b[0m\u001b[0;34m)\u001b[0m\u001b[0;34m\u001b[0m\u001b[0m\n\u001b[0m\u001b[1;32m   1159\u001b[0m     \"\"\"\n\u001b[1;32m   1160\u001b[0m     \u001b[0mRead\u001b[0m\u001b[0;34m-\u001b[0m\u001b[0monly\u001b[0m \u001b[0mproperty\u001b[0m \u001b[0mthat\u001b[0m \u001b[0maccesses\u001b[0m \u001b[0mthe\u001b[0m\u001b[0;34m\u001b[0m\u001b[0m\n",
      "\u001b[0;32m~/anaconda/envs/plandata/lib/python3.6/site-packages/PyPDF2/pdf.py\u001b[0m in \u001b[0;36mgetNumPages\u001b[0;34m(self)\u001b[0m\n\u001b[1;32m   1148\u001b[0m                 \u001b[0;32mreturn\u001b[0m \u001b[0mself\u001b[0m\u001b[0;34m.\u001b[0m\u001b[0mtrailer\u001b[0m\u001b[0;34m[\u001b[0m\u001b[0;34m\"/Root\"\u001b[0m\u001b[0;34m]\u001b[0m\u001b[0;34m[\u001b[0m\u001b[0;34m\"/Pages\"\u001b[0m\u001b[0;34m]\u001b[0m\u001b[0;34m[\u001b[0m\u001b[0;34m\"/Count\"\u001b[0m\u001b[0;34m]\u001b[0m\u001b[0;34m\u001b[0m\u001b[0m\n\u001b[1;32m   1149\u001b[0m             \u001b[0;32mexcept\u001b[0m\u001b[0;34m:\u001b[0m\u001b[0;34m\u001b[0m\u001b[0m\n\u001b[0;32m-> 1150\u001b[0;31m                 \u001b[0;32mraise\u001b[0m \u001b[0mutils\u001b[0m\u001b[0;34m.\u001b[0m\u001b[0mPdfReadError\u001b[0m\u001b[0;34m(\u001b[0m\u001b[0;34m\"File has not been decrypted\"\u001b[0m\u001b[0;34m)\u001b[0m\u001b[0;34m\u001b[0m\u001b[0m\n\u001b[0m\u001b[1;32m   1151\u001b[0m             \u001b[0;32mfinally\u001b[0m\u001b[0;34m:\u001b[0m\u001b[0;34m\u001b[0m\u001b[0m\n\u001b[1;32m   1152\u001b[0m                 \u001b[0mself\u001b[0m\u001b[0;34m.\u001b[0m\u001b[0m_override_encryption\u001b[0m \u001b[0;34m=\u001b[0m \u001b[0;32mFalse\u001b[0m\u001b[0;34m\u001b[0m\u001b[0m\n",
      "\u001b[0;31mPdfReadError\u001b[0m: File has not been decrypted"
     ]
    }
   ],
   "source": [
    "df_test['dokument'] = df_test['doklink'].apply(get_document)"
=======
      "SettingWithCopyWarning: \n",
      "A value is trying to be set on a copy of a slice from a DataFrame.\n",
      "Try using .loc[row_indexer,col_indexer] = value instead\n",
      "\n",
      "See the caveats in the documentation: http://pandas.pydata.org/pandas-docs/stable/indexing.html#indexing-view-versus-copy [ipykernel_launcher.py:1]\n"
     ]
    }
   ],
   "source": [
    "df_test['dokument'] = df_test['doklink'].apply(get_document, args=('./', 'dan'))"
   ]
  },
  {
   "cell_type": "code",
   "execution_count": 19,
   "metadata": {},
   "outputs": [
    {
     "data": {
      "text/html": [
       "<div>\n",
       "<style scoped>\n",
       "    .dataframe tbody tr th:only-of-type {\n",
       "        vertical-align: middle;\n",
       "    }\n",
       "\n",
       "    .dataframe tbody tr th {\n",
       "        vertical-align: top;\n",
       "    }\n",
       "\n",
       "    .dataframe thead th {\n",
       "        text-align: right;\n",
       "    }\n",
       "</style>\n",
       "<table border=\"1\" class=\"dataframe\">\n",
       "  <thead>\n",
       "    <tr style=\"text-align: right;\">\n",
       "      <th></th>\n",
       "      <th>planid</th>\n",
       "      <th>komnr</th>\n",
       "      <th>doklink</th>\n",
       "      <th>dokument</th>\n",
       "    </tr>\n",
       "  </thead>\n",
       "  <tbody>\n",
       "    <tr>\n",
       "      <th>0</th>\n",
       "      <td>1037564</td>\n",
       "      <td>219</td>\n",
       "      <td>https://dokument.plandata.dk/20_1037564_151667...</td>\n",
       "      <td>Hillerød Kommune  -   Teknisk ForvaltningLOKAL...</td>\n",
       "    </tr>\n",
       "    <tr>\n",
       "      <th>1</th>\n",
       "      <td>1205769</td>\n",
       "      <td>230</td>\n",
       "      <td>https://dokument.plandata.dk/20_1205769_APPROV...</td>\n",
       "      <td>LOKALPLAN NR.\\n\\nFOR ET OMRÅDE VED STATIONSVEJ...</td>\n",
       "    </tr>\n",
       "    <tr>\n",
       "      <th>2</th>\n",
       "      <td>3802330</td>\n",
       "      <td>173</td>\n",
       "      <td>https://dokument.plandata.dk/20_3802330_151500...</td>\n",
       "      <td>LOKALPLAN 279    for Boliger ved Akademivej   ...</td>\n",
       "    </tr>\n",
       "    <tr>\n",
       "      <th>3</th>\n",
       "      <td>1060882</td>\n",
       "      <td>253</td>\n",
       "      <td>https://dokument.plandata.dk/20_1060882_APPROV...</td>\n",
       "      <td>LOKALPLAN 15.02A GREVE KOMMUNE HOLMEAGERVEJ 2 ...</td>\n",
       "    </tr>\n",
       "    <tr>\n",
       "      <th>4</th>\n",
       "      <td>3809376</td>\n",
       "      <td>219</td>\n",
       "      <td>https://dokument.plandata.dk/20_3809376_152027...</td>\n",
       "      <td>2017for Boliger og Sognehus ved Østergade\\nLok...</td>\n",
       "    </tr>\n",
       "  </tbody>\n",
       "</table>\n",
       "</div>"
      ],
      "text/plain": [
       "    planid  komnr                                            doklink  \\\n",
       "0  1037564    219  https://dokument.plandata.dk/20_1037564_151667...   \n",
       "1  1205769    230  https://dokument.plandata.dk/20_1205769_APPROV...   \n",
       "2  3802330    173  https://dokument.plandata.dk/20_3802330_151500...   \n",
       "3  1060882    253  https://dokument.plandata.dk/20_1060882_APPROV...   \n",
       "4  3809376    219  https://dokument.plandata.dk/20_3809376_152027...   \n",
       "\n",
       "                                            dokument  \n",
       "0  Hillerød Kommune  -   Teknisk ForvaltningLOKAL...  \n",
       "1  LOKALPLAN NR.\\n\\nFOR ET OMRÅDE VED STATIONSVEJ...  \n",
       "2  LOKALPLAN 279    for Boliger ved Akademivej   ...  \n",
       "3  LOKALPLAN 15.02A GREVE KOMMUNE HOLMEAGERVEJ 2 ...  \n",
       "4  2017for Boliger og Sognehus ved Østergade\\nLok...  "
      ]
     },
     "execution_count": 19,
     "metadata": {},
     "output_type": "execute_result"
    }
   ],
   "source": [
    "df_test"
>>>>>>> 3ad46f3e01a644e08a379089bb6fcf655b82c167
   ]
  },
  {
   "cell_type": "code",
<<<<<<< HEAD
   "execution_count": null,
   "metadata": {},
   "outputs": [],
   "source": [
    "df_test.to_csv('data/kommuner/plan.csv')"
=======
   "execution_count": 18,
   "metadata": {},
   "outputs": [],
   "source": [
    "df_test.to_csv('data/kommuner/test.csv')"
>>>>>>> 3ad46f3e01a644e08a379089bb6fcf655b82c167
   ]
  },
  {
   "cell_type": "code",
   "execution_count": 11,
   "metadata": {},
   "outputs": [],
   "source": [
    "def df_to_es(row):\n",
    "    \n",
    "    data = plan = {\n",
    "        \"planid\" : row['planid'],\n",
    "        \"dokument\": row['dokument']\n",
    "    }\n",
    "    \n",
    "    res = es.index(index='plandata',doc_type='plan', body=plan)"
   ]
  },
  {
   "cell_type": "code",
   "execution_count": 12,
   "metadata": {},
   "outputs": [
    {
     "data": {
      "text/plain": [
       "0    None\n",
       "1    None\n",
       "2    None\n",
       "3    None\n",
       "4    None\n",
       "5    None\n",
       "6    None\n",
       "7    None\n",
       "8    None\n",
       "9    None\n",
       "dtype: object"
      ]
     },
     "execution_count": 12,
     "metadata": {},
     "output_type": "execute_result"
    }
   ],
   "source": [
    "df2.apply(df_to_es, axis=1)"
   ]
  },
  {
   "cell_type": "markdown",
   "metadata": {},
   "source": [
    "# Search data"
   ]
  },
  {
   "cell_type": "code",
   "execution_count": 183,
   "metadata": {},
   "outputs": [],
   "source": [
    "def search_documents(index, word):\n",
    "    query = {\n",
    "      \"query\":{\n",
    "            \"wildcard\": {\n",
    "                \"dokument\": f\"*{word}*\"\n",
    "            }\n",
    "        }\n",
    "    }\n",
    "    \n",
    "    res = es.search(index=index, body=query)\n",
    "    \n",
    "    return res"
   ]
  },
  {
   "cell_type": "code",
   "execution_count": 184,
   "metadata": {},
   "outputs": [],
   "source": [
    "keywords = 'støjvold støjværn støjskærm'.split(' ')"
   ]
  },
  {
   "cell_type": "code",
   "execution_count": 189,
   "metadata": {},
   "outputs": [
    {
     "data": {
      "text/plain": [
       "{'took': 13,\n",
       " 'timed_out': False,\n",
       " '_shards': {'total': 5, 'successful': 5, 'skipped': 0, 'failed': 0},\n",
       " 'hits': {'total': 3,\n",
       "  'max_score': 1.0,\n",
       "  'hits': [{'_index': 'plandata',\n",
       "    '_type': 'plan',\n",
       "    '_id': 'cGArZWYBpMqA1-ytBLu7',\n",
       "    '_score': 1.0,\n",
       "    '_source': {'planid': 3808416,\n",
       "     'dokument': ' \\n \\nLOKALPLAN 163\\n \\nFor et erhvervsområde ved Slotsmarken\\n \\n \\n \\nLokalplan 163\\n \\n                                                                  \\nHørsholm Kommune\\n \\n \\n \\n \\n2\\n \\nHvad er en lokalplan?\\n \\nIfølge Lov \\nom planlægning kan kommunalbestyrelsen beslutte at\\n \\nudarbejde en \\nlokalplan, når en bestemt udvikling ønskes fremmet.\\n \\nKommunalbestyrelsen har endvidere pligt til\\n \\nat udarbejde en\\n \\nlokalplan, før der \\ngennemføres større udstykninger eller større\\n \\nbygge\\n-\\n \\neller anlægsarbejder, \\nherunder nedrivning af bebyggelse.\\n \\nLokalplanen fastlægger bindende bestemmelser for ejere, lejere og\\n \\nbrugere af de \\nejendomme, der er omfattet af l\\nokalplanen, herunder blandt andet bestemmelser \\nom områdets fremtidige anvendelse samt bebyggelsesregulerende bestemmelser. \\nKommunens lokalplaner kan\\n \\nses på www.horsholm.dk og www.plansystem.dk\\n \\nEn lokalplan skal overholde kommuneplanen, men kan indskrænke\\n \\nd\\ne muligheder \\nfor anvendelse og bebyggelse, som kommuneplanen\\n \\ngiver.\\n \\n \\n \\n \\n \\nLokalplan 163\\n \\nLokalplan 163\\n \\nfor et erhvervsområde ved Slotsmarken\\n \\ner udarbejdet af Hørsholm \\nKommune i samarbejde med \\nT\\negnestuen Refnov\\n.\\n \\n \\nLokalplanf\\norslaget \\nvar \\ni 2 ugers offentlig \\nhøring i\\n \\nperioden 1\\n. \\nnovember \\n2017 til \\n15\\n. \\nnovember\\n \\n20\\n17\\n.\\n \\n \\nLokalplanen blev vedtaget af kommunalbestyrelsen den 29. januar 2018 og\\n \\noffentliggjort den 31. januar 2018.\\n \\n \\n \\nHørsholm Kommune\\n \\nByudviklingssekretariatet\\n \\nÅdalsparkvej 2\\n \\n2970 Hørsholm\\n \\n \\nbyudvikling@horsholm.dk\\n \\n \\nHørsholm Kommune\\n \\n                                                                       \\n                                 \\nLokalplan 163\\n \\n \\n \\n \\n3\\n \\nIndhold\\n \\nRedegørelse\\n \\n................................\\n................................\\n................................\\n.....\\n \\n5\\n \\nLokalplanområdets beliggenhed\\n \\n................................\\n................................\\n.......\\n \\n5\\n \\nLokalplanens baggrund\\n................................\\n................................\\n......................\\n \\n5\\n \\nLokalplanens formål\\n \\n................................\\n................................\\n..........................\\n \\n6\\n \\nEksisterende forhold\\n \\n................................\\n................................\\n.........................\\n \\n6\\n \\nOmrådets\\n \\nhistorie\\n \\n................................\\n................................\\n..............................\\n \\n7\\n \\nLokalplanens indhold\\n \\n................................\\n................................\\n.........................\\n \\n8\\n \\nBebyggelse\\n \\n................................\\n................................\\n................................\\n.........\\n \\n9\\n \\nUbebyggede arealer og hegning\\n \\n................................\\n................................\\n.....\\n \\n10\\n \\nVeje, stier og parkering\\n \\n................................\\n................................\\n...................\\n \\n10\\n \\nForh\\nold til anden planlægning og lovgivning\\n \\n................................\\n..................\\n \\n11\\n \\nFingerplan 2017\\n \\n................................\\n................................\\n...............................\\n \\n11\\n \\nMuseumsloven\\n \\n................................\\n................................\\n................................\\n \\n12\\n \\nKommuneplan 2013\\n-\\n2025\\n \\n................................\\n................................\\n...............\\n \\n12\\n \\nStøj\\n \\n................................\\n................................\\n................................\\n...................\\n \\n12\\n \\nTrafikplanlægning\\n \\n................................\\n................................\\n............................\\n \\n13\\n \\nJordforurening\\n \\n................................\\n................................\\n................................\\n.\\n \\n13\\n \\nSpildevandsplanlægning\\n \\n................................\\n................................\\n..................\\n \\n13\\n \\nVarmeplanlægning\\n \\n................................\\n................................\\n..........................\\n \\n14\\n \\nZonestatus\\n \\n................................\\n................................\\n................................\\n.......\\n \\n14\\n \\nServitutter\\n................................\\n................................\\n................................\\n........\\n \\n14\\n \\nMiljøscreening\\n \\n................................\\n................................\\n................................\\n.\\n \\n14\\n \\nBestemmelser\\n \\n................................\\n................................\\n................................\\n \\n15\\n \\n§ 1\\n \\nFormål\\n \\n................................\\n................................\\n................................\\n \\n15\\n \\n§ 2\\n \\nAfgrænsning\\n \\n................................\\n................................\\n.......................\\n \\n15\\n \\n§ 3 \\n \\nAnvendelse\\n \\n................................\\n................................\\n.........................\\n \\n15\\n \\n§ 4 \\n \\nUdstykning\\n................................\\n................................\\n..........................\\n \\n15\\n \\n§ 5 \\n \\nVej\\n-\\n, sti\\n-\\n \\nog parkeringsforhold\\n \\n................................\\n............................\\n \\n16\\n \\n§ 6 \\n \\nBebyggelsens omfang og placering\\n \\n................................\\n....................\\n \\n16\\n \\n§ 7 \\n \\nBebyggelsens ydre fremtræden\\n \\n................................\\n.........................\\n \\n17\\n \\n§ 8 \\n \\nUbebyggede arealer\\n \\n................................\\n................................\\n...........\\n \\n17\\n \\n§ 9\\n \\nForudsætning for ibrugtagning af ny bebyggelse\\n \\n..............................\\n \\n19\\n \\n§ 10       \\nLokalplanens retsvirkninger\\n \\n................................\\n...............................\\n \\n19\\n \\nVedtagelsespåtegning\\n \\n................................\\n................................\\n.....................\\n \\n19\\n \\n \\n \\n \\nLokalplan 163\\n \\n                                                                  \\nHørsholm Kommune\\n \\n \\n \\n \\n4\\n \\nKortbilag\\n \\nKortbilag 1:\\n \\nMatrikelkort\\n \\nKortbilag 2:\\n \\nEksisterende forhold\\n \\nKortbilag 3\\na\\n:\\n \\nArealanvendelse\\n \\nKortbilag \\n3b\\n:\\n \\nBeplantningsplan\\n \\nKortbilag 4\\na\\n:\\n \\nPrincip for parkering\\n \\nBilag 4b:\\n \\nRetningslinjer for parkeringsarealer\\n \\nB\\nilag 5:\\n \\n \\nVejledende snit i tilbygning\\n \\nBilag \\n6\\n:\\n \\n \\nVejledende snit i parkeringsplads\\n \\nBilag 7\\n:\\n \\n \\nVejledende snit i vold mod nabo\\n \\nBilag \\n8\\n:\\n \\n \\nRetningsgivende facader\\n \\n \\n \\nHørsholm Kommune\\n \\n                                                                       \\n                                 \\nLokalplan 163\\n \\n \\n \\n \\n5\\n \\nRedegørelse\\n \\n \\nOversigtskort\\n \\nmed afgrænsning af lokalplanområde \\n \\n \\nLokalplanområdets beliggenhed\\n \\nLokalplanområdet\\n \\ner 8.819 m\\n2\\n \\nstort og\\n \\nomfatter matr\\n.nr. 168b, Usserød By, Hørs-\\nholm. Det \\nafgrænses af Mariehøj Allé mod øst, af Slotsmarken\\n \\nmod nord\\n, af skel-\\nlet ind til erhvervsparken Slotsmarken \\nmod vest \\nog af Frederiksborgvej\\n \\nmod syd\\n.\\n \\n \\nLokalplanens baggrund\\n \\nKommunalbestyrelsen har besluttet at imødekomme \\nvirksomhedens\\n \\nønske \\nom \\nen \\nny parkeringsløsning til udvidelsen af kontorbygningen på Slotsmarken 1 med \\nnærværende lokalplan.\\n \\n \\nTidligere var området omfattet af lokalplan 142 delområde C. \\nLokalplan 142 gav i \\ndelområde\\n \\nC\\n \\nmulighed for en udvidelse af Rosendahl\\ns kontorbygning i samme\\n \\nom-\\nLokalplan 163\\n \\n                                                                  \\nHørsholm Kommune\\n \\n \\n \\n \\n6\\n \\nfang som nærværende lokalplan, men henlagde det meste af parkeringskapacite-\\nten i en parkeringskælder og kun en mindre del på terræn. E\\nn udvidelse af parke-\\nringsområdet på \\nterræn kræver derfor\\n \\nvedtagelse af en ny lokalplan for områd\\net.\\n \\n \\nDen tidligere lokalplan 142 omfattede også boligbebyggelsen Mariehøjgård og \\ndaginstitutionen på Mariehøj Allé, men da denne lo\\nkalplan alene\\n \\ntilvejebringes på \\nbaggrund af ønsket om \\nændrede\\n \\nparkeringsforhold\\n \\npå R\\nosendahls matrikel\\n, er \\ndisse bebyggelser \\nikke omfattet af denne lokalplan.\\n \\n \\nLokalplanens formål\\n \\nLokalplanen har til formål at åbne mulighed for parkering på terræn i forbindelse \\nmed en udvidelse af erhvervsejendommen på Slotsmarken 1. Udvidelsen består af \\nop til 1.500 m² kontorareal samt 500 m² u\\ndstillingsareal. Lokalplanen skal sikre\\n,\\n \\nat \\nparkeringsløsningen indpasses så diskret i terrænet som muligt, samt at bygnings-\\nudvidelsen fastholder samme arkitektoniske udtryk som den eksisterende præmi-\\nerede bygning.\\n \\n \\nLokalplanen har herudover til formål at \\nopdatere anvendel\\nses\\nbestemmelserne for \\nområdets bebyggelse og fastholde områdets nuværende karakter i bebyggelse og \\nlandskab.\\n \\n \\nEksisterende forhold\\n \\nLokalplanområdet omfatter \\nmatriklen, hvorpå Rosendahls kontorbygning ligger.\\n \\n \\nLokalplanområdet ligger mellem\\n \\nFrederiksborgvej og Slotsmarken\\n.\\n \\nSyd for områ-\\ndet ligger Forskerparken Scion DTU. Vest for området ligger Helsingørmotorvejen.\\n \\nHørsholm Kommune\\n \\n                                                                       \\n                                 \\nLokalplan 163\\n \\n \\n \\n \\n7\\n \\nKontorbygningen lan\\ngs Frederiksborgvej set fra vest, 2017\\n \\n \\nRosendahls kontorbygning\\n \\nud mod Fr\\nederiksborgvej er opført som to\\n \\nlængehuse \\nomkring et indre atrium, der ender ved et vandbassin vest for bygningen. Bygnin-\\ngen er 3 etager mod øst og 2 mod vest med en frilagt underetage ud mod vand-\\nbassinet. Terrænet og det høje atrium gør, at bygningen set fra vest opleves som\\n \\n4 \\netager hø\\njt.\\n \\n \\nKim Utzon Arkitekter har tegnet bygningen, der er opført i 2003. Arkitekturen er \\nkarakteristisk med hvidpudsede facader og zinktage. Bygningen opleves som et \\nkompleks af mindre bygninger, der er forskudt horisontalt og vertikalt, så bygnin-\\ngen tilpasse\\nr sig grundens terræn.\\n \\n \\nBygningen er præmieret af Hørsholm Kommune for smukt og godt byggeri. Place-\\nringen ud til Frederiksborgvej betyder, at bygningen med sin markante arkitektur \\nopleves som porten til Hørsholm for mange af byens borgere og besøgende.\\n \\n \\n \\nO\\nmrådets historie\\n \\nHørsholm Egns M\\nuseum har \\ni forbindelse med udarbejdelsen af Lokalplan 142 \\nbe-\\nskr\\nevet lokalplanområdets historie, som gengives her.\\n \\n \\nI lokalplanområdets nordøstlige del udgravede Hørsholm Egns Museum i 1994 \\nbygningsrester fra en jernaldergår\\nd, der stammer fra tiden lige før år nul.\\n \\n \\nI middelalderen anlagdes landsbyen Isterød her. Nav\\nnet Isterød be\\nstår af to dele. \\nDels den specielle nordsjællandske endelse rød, der kommer af ordet rydning, der \\nantyder, at landsbyen er anlagt i en rydning i sko\\nven. Dels forleddet Ister, \\nder er \\nLokalplan 163\\n \\n                                                                  \\nHørsholm Kommune\\n \\n \\n \\n \\n8\\n \\nen forvanskning af ester \\n\\n \\nestlændere, således at bynavnet betyder Estlændernes \\nrydning.\\n \\n \\nI 1682 var der i Isterød 12 relativt store gårde. Efter nordsjællandske forhold var \\ndet en stor landsby. Dens bygmark og overdrev br\\nedte sig vidt omkring. Byens til-\\nliggende indskrænkedes, da den skulle afgive jord til såvel den nye by Hirschholm \\nsom til kongevejen. Gårdene lå, som det var almindeligt dengang, samlet i en \\nklump, og den dyrkede jord lå rundt om landsbyen. De enkelte gård\\ne havde hver \\nderes jordtilliggende i denne såkaldte bygmark, ikke samlet ét sted men mange \\nforskellige steder.\\n \\n \\nI slutningen af 1700 \\n\\n \\ntallet (1776 og 1793) blev Isterød udskiftet.\\n \\nDet betød, at de \\nenkelte gård fik deres jord samlet ét eller to steder.\\n \\nI f\\nørste omgang blev gårdene \\nliggende i den samme gruppe, hvor\\n \\nde havde ligget siden middelalderen, men ef-\\nterhånden flyttede flere og flere fra landsbyen ud på den jord, som de havde fået \\ntildelt ved udskiftningen. Dette gjaldt gården, der senere fik det \\nalmindelige dan-\\nske gårdnavn Mariehøj.\\n \\n \\nHer lå Mariehøj på sin jord indtil 1985\\n-\\n88, hvor erhvervsbebyggelsen Slotsmarken \\nblev opført. Slotsmarken kan ses som udtryk for en ny epoke i Hørsholms er-\\nhvervshistorie. Den tidligere epoke var præget af de to store \\nklædefabrikker \\n\\n \\nH\\nørsholm Klædefabrik og Den mil\\nitære Klædefabrik, som arbejdede med traditio-\\nnelle råvarer, et stort antal ansatte og store maskiner. De erh\\nverv, der flyttede ind \\ni Slots\\nmarken, var anderledes. De befandt sig på grænsen mellem industri og s\\ner-\\nvice, og deres råvarer var i stor udstrækning viden af enhver art. Rosendahls ho-\\nvedsæde, tegnet af Kim Utzon, passede godt ind i miljøet, da det i starten af det \\nnye årtusind blev opført på adressen Slotsmarken 1.\\n \\n \\nLokalplanens indhold\\n \\nLokalplanområdet u\\ndlægges til erhvervsformål i form af administration i\\n \\nmiljø-\\nklasse 1, liberale erhverv, udstilling og andre ikke forurenende virksomheder. Det \\nvil sige virksomheder, som ikke er til gene for de omkringliggende boliger. Lokal-\\nplanen giver mulighed for en udvi\\ndelse af den eksisterende bygning med \\nop til\\n \\n2.000 m² som en følge af videreførte bestemmelser fra Lokalplan 142.\\n \\n \\nHørsholm Kommune\\n \\n                                                                       \\n                                 \\nLokalplan 163\\n \\n \\n \\n \\n9\\n \\nIfølge Fingerplan 201\\n7\\n \\nmå eksis\\nterende kontorvirksomheder mak\\nsimalt udvides \\nmed 1.500 m² til kontorformål. Den eksisterende bygning er 4.000 \\nm². Lokalpla-\\nnen gi\\nver derfor mulighed for et sam\\nlet areal på 5.500 m² til kontorformål. Herud-\\nover giver lokalplanen mulighed for\\n \\n500 m² til udstilling og lager. \\n \\n \\nOmrådets bebyggelse må være i op til 3 etager med mulighed for frilagt under-\\netage, hvor te\\nrrænet tillader det. Områdets bebyggelse må have en maksimal \\nhøjde på 14 meter over det omgivende terræn. Lokalplanen fastsætter samtidig \\nbestemmelse om, at kip \\npå tilbygnin\\ngen ikke må overstige kiphøjden på den eksi-\\nsterende bygning.\\n \\n \\nLokalplanen fastsætte\\nr nærmere bestemmelser for, hvordan parkeringsarealer \\nskal udformes, så de indpasses i omgivelserne og ikke er til gene for naboer.\\n \\n \\nBebyggelse\\n \\nLokalplanen har til formål at fastholde og styrke områdets nuværende landskab \\nog arkitektur. Lokalplanen fastsæt\\nter derfor bestemmelser\\n \\nom at videreføre form-\\nsprog og materialer i \\nden nuværende arkitektur.\\n \\n \\nOmrådets bebyggelse skal opføres med hvidpudsede facader og tage beklædt \\nmed zink. Der tillades ovenlysvinduer og rytterlys i bygningen.\\n \\nSom en del af bygningens \\narkitektoniske udtryk tillades brandtrapper opført uden \\npå bygningens facade.\\n \\n \\nFor at sikre, at udvidelsen af den eksisterende kontorbygning sker som en videre-\\nførelse af det nuværende arkitektoniske udtryk, fastsætter lokalplanen bestem-\\nmelse om, at bebygge\\nlsens facader i princippet skal udformes, som de fremstår i \\nde facadeopstalter, der er gengivet i lokalplanen.\\n \\n \\nLokalplan 163\\n \\n                                                                  \\nHørsholm Kommune\\n \\n \\n \\n \\n10\\n \\nKontorbygningen set fra Slotsmarken, 2017\\n \\n \\nUbebyggede arealer og hegning\\n \\nLokalplanen fastsætter bestemmelser for de ubebyggede arealer, der \\nskal sikre, at \\narealernes nuværende karakter bevares.\\n \\n \\nFor at sikre områdets nuværende åbne grønne parkpræg ud mod Frederiksborgvej \\nfastsættes bestemmelse om, at der ikke må opsættes hegn i skel mod offentlig \\nvej. Hegning i øvrigt inden for området skal fr\\nemstå som levende hegn eller hvid-\\npudsede mure, der svarer til bebyggelsens facader.\\n \\n \\nVeje, stier og parkering\\n \\nVejadgang til området skal fortsat ske fra Slotsmarken.\\n \\n \\nOffentligt tilgængelige arealer, herunder adgangsarealer skal udformes således, at \\nde \\ntilgodeser bevægelseshæmmedes færdsel på arealerne og i overensstemmelse \\nmed Dansk Standards DS 105\\n \\n\\nUdearealer for alle \\n-\\n \\nanvisning for planlægning og \\nindretning med henblik på handicappedes færden\\n\\n \\n\\n\\n.\\n \\n \\nDer skal i tilkny\\ntning til administrationsbygningen\\n \\nsamt dennes \\nudvidelse\\n \\nanlæg-\\nges \\net antal \\nparkeringspladser svarende til 1 parkeringsplads pr.\\n \\n50 m² etageareal.\\n \\nLokalplanen fastsætter bestemmelse om, at parkeringsplads\\ner \\npå terræn \\nskal an-\\nlægges \\ni \\ngræsarmering\\n \\n \\nHørsholm Kommune\\n \\n                                                                       \\n                                 \\nLokalplan 163\\n \\n \\n \\n \\n11\\n \\nParkeringsområdet mod vest\\n \\nTerrænet mod vest er i dag defineret af en\\n \\nvold med beplantning, der afskærmer \\nRosendahls kontordomicil mod Frederiksborgvej og mod Bus\\ninessparken. Ved \\netablering af p\\narkeringsarealet skal \\nterrænet sænkes \\njf. \\nB\\nilag 5\\n, 6 og 7\\n,\\n \\nsåledes at \\nde parkerede biler afskærmes mest muligt i forhold til omgivelser\\nne\\n. Desuden \\nbeplantes volden og parkeringsarealet med træer og\\n \\nbuske,\\n \\nog arealet anlægges \\nmed græsarmering\\n,\\n \\nså \\ndet så \\nvidt muligt vil fremstå med\\n \\nkarakter af et åbent \\ngrønt anlæg.\\n \\n \\nBusinessparken mod vest \\n \\nMod businessparken \\nskal der etableres en begrønnet afskærmning\\n, så lyskegler \\nfra de parkerede biler ikke kommer \\nt\\nil at genere i kontorbygningen.\\n \\n \\nTrafikanter på Frederiksborgvej \\n \\nMod Frederiksborgvej bevares \\nvold\\nen\\n \\nog den eksisterende beplantning. \\nParkeringsarealet vil være sænket ca. 1,5 m i forhold til voldens top.\\n \\nDer kan suppleres med yderligere bepl\\nantning i et nødvendigt omfang.\\n \\n \\nRosendahl kontordomicil \\n \\nMod Rosendahls egen kontorbygning beplantes arealet mellem \\nparkeringspladserne og søen med buske og træer.\\n \\nBegrønningen\\n/hækken\\n \\nvil sikre\\n,\\n \\nat lyskegler fra de parkerede biler ikke kommer til \\nat gener\\ne i kontorbygningen og parkeringsarealet vil kun i mindre omfang være \\nsynligt.\\n \\n \\nParkeringsområdet mod ø\\nst\\n \\nTerrænet mod øst er i dag delvist udlagt som parkering og græsareal.\\n \\nDer anvises plads til 11 \\np\\narkering\\nspladse\\nr, der når de anlægges\\n \\nudformes således \\nat de\\n \\nfremstår med grøn belægning. D\\ner kan suppleres med yderligere bepl\\nant-\\nning i et nødvendigt omfang.\\n \\n \\n \\nForhold til anden planlægning og lovgivning\\n \\n \\nFingerplan 201\\n7\\n \\nLokalplano\\nmrådet er ifølge Fingerplan \\n2017\\n \\nbeliggende i det ydre storbyområde \\nog uden for de stationsnære områder. Det betyder i henhold til stationsnærheds\\n-\\nprincippet, at der ikke umiddelbart må opføres erhvervsbyggeri på mere end \\nLokalplan 163\\n \\n                                                                  \\nHørsholm Kommune\\n \\n \\n \\n \\n12\\n \\n1.500 m² etageareal. For eksisterende erhvervsejendomme betyde\\nr det, at de \\nmaksimalt kan udvides med 1.500 m² til kontorerhverv. Lokaler til produk\\ntion, \\nlager eller lignende ikke\\n-\\narbejdskraftintensive formål kan tillades udover de 1.500 \\nm².\\n \\n \\nLokalplanen giver mulighed for en udvidelse på 2.000 m². Heraf må kun 1.500 \\nm² \\nanvendes til kontorformål. De øvrige 500 m² må kun bruges til\\n \\nikke\\n-\\narbejdskraftintensive formål som lager, udstilling og lignende. Lokalplanens \\nbestemmelser er dermed i overensstemmelse me\\nd principperne i Fingerplan \\n2017\\n.\\n \\n \\nMuseumsloven\\n \\nDer er ikke regis\\ntreret fortidsminder inden for lokalplanens område. Såfremt der \\nunder bygge\\n-\\n \\nog anlægsarbejdet findes fortidsminder, vil de være omfattet af lov \\nnr. \\n358\\n \\naf \\n8\\n. \\napril\\n \\n201\\n4\\n \\n(museumsloven) kapitel 8, § 27.\\n \\n \\nArbejder, der forudsætter udgravning i grunden, kan \\nmedføre påbud om midlerti-\\ndig standsning af arbejdet\\n.\\n \\n \\nKommuneplan \\n2013\\n-\\n2025\\n \\nLokalplanområdet omfatter dele af \\nKommune\\nplanens \\nramme\\nområde 1.E8, der \\nfastsætter områdets anvendelse til erhvervsformål.\\n \\nLokalplanen er i overensst\\nemmelse med kommuneplanens ram\\nme\\nbestemmelser \\nfor lokalplanområdet.\\n \\n \\nStøj\\n \\nHørsholm Kommune har\\n \\ni forbindelse med udarbejdelsen af Lokalplan 142\\n \\nfået \\nforetage\\nt en støjberegning, der vurder\\ner, hvilken indflydelse lokalplanens \\nrealisering vil have på trafikstøjen i området.\\n \\n \\nStøjberegningen \\nkonkluderer, at udvidelsen af Slotsmarken 1 ikke vil medføre et \\ngenerelt øget støjniveau i lokalplanområdet. Facaden på den eksisterende kontor-\\nbygning er b\\nåde før og efter udvidelsen ge\\nnerelt under 63 dB, som er den vejle-\\ndende grænseværdi for erhverv. Dog \\ner støjniveauet på facaden mod Frederiks-\\nborgvej marginalt over 63 dB på 1. og 2. sal. Den nye tilbygning med showroom \\nlængst mod øst vil få et støjniveau der er marginalt over 63 dB. Der bør derfor an-\\nvendes støjdæmpende vinduer, hvis der skal være kontorer\\nhverv i denne del af til-\\nbygningen.\\n \\nHørsholm Kommune\\n \\n                                                                       \\n                                 \\nLokalplan 163\\n \\n \\n \\n \\n13\\n \\n \\nTrafikplanlægning\\n \\nLokalplanområdet skal trafikbetjenes via Slotsmarken.\\n \\n \\nDer er i forbindelse med \\nudarbejdelsen af lokalplan 142\\n \\nforetaget en vurdering af \\nde trafikale konsekvenser ved en udbygning af Slotsmarken 1.\\n \\nNærv\\nærende lokal-\\nplan tager også udgangspunkt i denne vurdering.\\n \\n \\nTrafikvurderingen konkluderer, at størstedelen af den nye trafik til og fra området \\nkommer fra Helsingørmotorvejen vest for området. Det vurderes, at trafikken kan \\nafvikles via den eksisterende r\\nundkørsel ved Mariehøj Allé og Frederiksborgvej \\nuden problemer.\\n \\n \\nJordforurening \\n \\nDer er efter Hørsholm Kommunes oplysninger, hverken konstateret \\njordforurening på vidensniveau 1 elle\\nr vidensniveau 2 inden\\n \\nfor områ\\ndet.\\n \\n \\nDet betyder dog ikke, at der ikke \\nfindes jordforurening i området, men at en even-\\ntuel forurening ikke er registreret af myndighederne. Konstateres jordforurening i \\nforbindel\\nse med nedrivning eller jordar\\nbejde\\n \\npå ejendommen, skal kommunens \\nm\\niljøafdeling kontaktes.\\n \\n \\nAl jord i byzone er\\n \\nsom u\\ndgangspunkt klassificeret\\n \\nsom lettere forurenet. Al fl\\nyt-\\nning af overskudsjord fra om\\nrådet skal således anmeldes til kommunen.\\n \\n \\nSpildevandsplanlægning\\n \\nLokalplanområdet er i spild\\nevandsplanen udlagt til separat\\nkloakering. Kloakering \\naf bebyggelsen skal derfor udføres som separatsystem. Afvanding af \\nparkeringsarealer \\nskal godkendes af Hørsholm Kom\\nmune.\\n \\n \\nDen maksimale befæstelsesgrad for lokalplanområdet er 50. I henhold til spilde-\\nvandsplanen må denne ikke oversti\\nges uden forsinkelse eller tilbageholdelse af \\nregnvandet.\\n \\n \\nNedsivning af tagvand på egen grund anbefales, såfremt\\n \\ndette er muligt. Alterna-\\ntivt ledes til regnvandssø, som etableres i den sydlige del af bebyggelsen. I eve\\nn-\\ntuel kombination med\\n \\nnedsivning kan regnvand ledes til den eksisterende s\\nø i den \\nvestlige ende af bebyg\\ngelsen eller til en ny sø. Tilledning af overfladevand til den \\nLokalplan 163\\n \\n                                                                  \\nHørsholm Kommune\\n \\n \\n \\n \\n14\\n \\neksisterende sø er omfattet af vilkårene i spil\\ndevandstilladelsen til ejendom\\nmen. \\nDer skal søges om etablering\\n \\naf en ny sø. Det kan forventes,\\n \\nat den eksisterende \\nspildevandstilladelse revideres i forbindelse med udvidelsen af bebyggelsen og \\netablering af yderligere vej\\n-\\n \\nog parkeringsarealer.\\n \\n \\nVarmeplanlægning\\n \\nLokalplanområdet er i varmeplanen for Hørsholm Kommune\\n \\nudlagt til kollektiv \\nvarmeforsyning med fjernvarme.\\n \\n \\nZonestatus\\n \\nLokalplanområdet er beliggende i byzone, og området forbliver i byzone.\\n \\n \\nServitutter\\n \\nDer er foretaget en servitutgennemgang af tinglyste servitutter på ejendommene \\ninden for lokalplanens områ\\nde.\\n \\n \\n \\nMiljøscreening\\n \\nMyndigheder har pligt til at miljøvurdere planer og programmer, der fastlægger \\nrammer for fremtidige anlægstilladelser til projekter med væsentlig indvirkning på \\nmiljøet. Der er i henhold til loven gennemført en screening af potentiell\\ne væsent-\\nlige indvirkninger som følge af lokalplanens vedtagelse. Screeningen viste, at lokal-\\nplanforslaget ikke vil påvirke miljøet i en sådan grad, at udarbejdelse af en miljø-\\nvurdering var nødvendig.\\n \\n \\n \\nHørsholm Kommune\\n \\n                                                                       \\n                                 \\nLokalplan 163\\n \\n \\n \\n \\n15\\n \\nBestemmelser\\n \\n \\nLokalplan \\n163\\n \\nfor et \\nerhvervs\\nområde ved \\nSlots\\nmarken\\n \\nI henhold til lov om planlægning (Lovbekendtgørelse\\n \\nnr. 1529 af 23/11/2015\\n) med \\nsenere ændringer fastsættes følgende bestemmelser for det i § 2 nævnte område \\ni Hørsholm Kommune:\\n \\n§ 1\\n \\n \\n \\nF\\normål\\n \\nFormålet med lokalplanen er:\\n \\n\\n \\nat sikre en udvidelsesmulighed for den eksisterende \\nkontorbygning\\n,\\n \\n\\n \\nat\\n \\nsikre, at\\n \\nudvidelsen af kontorbygningen sker i overensstemmelse med \\nden eksisterende bygnings arkitektoniske udtryk,\\n \\n\\n \\nat \\nsikre\\n,\\n \\nat parkeringsløsningen bliver udført sådan, at området i videst \\nmuligt omfang fremstår grønt og park\\nagtigt\\n,\\n \\nsærligt set fra \\nFrederiksborgvej\\n, jf. \\nK\\nortbilag \\n3b\\n.\\n \\n \\n§ 2\\n \\n \\nA\\nfgrænsning\\n \\n2.1\\n \\nLokalplanområdet afg\\nr\\nænses som vist på \\nK\\nortbilag 2 \\nog omfatter \\nmatri\\nk\\nel 168\\nb\\n, Usserød B\\ny\\n, Hørsholm\\n.\\n \\n2.2\\n \\nLokalplanområdet er beliggende i byzone og forbliver i byzone.\\n \\n \\n§ 3 \\n \\nA\\nnvendelse\\n \\n3.1\\n \\nLokalplanens område må anvendes til erhvervsformål i form af \\nadministration, liberale erhverv, udstillingsvirksomhed\\n, \\nshowroom\\n \\nog andre ikke forurenende erhvervsformål i \\nmiljøklasse 1, som ikke er til gene for de omkringboende.\\n \\n3.2\\n \\nDer kan inden for lokalplanområdet opstilles mobilmaster\\n.\\n \\n \\n§ 4 \\n \\nUdstykning\\n \\n4.1\\n \\nLokalplanområdet\\n \\nmå ikke udstykkes\\n \\nyderligere.\\n \\nLokalplan 163\\n \\n                                                                  \\nHørsholm Kommune\\n \\n \\n \\n \\n16\\n \\n§ 5 \\n \\nVej\\n-\\n, sti\\n-\\n \\nog \\nparkeringsforhold\\n \\n5.1\\n \\nVejadgang til området skal ske fra Slotsmarken\\n.\\n \\n5.2\\n \\nDer \\nskal \\nanlægges \\nog\\n \\nanvises\\n \\nparkeringspladser svarende til 1 \\nparkeringsplads pr. 50 m² etageareal. De parkeringspladser, \\nder \\nanlægges på terræn\\n,\\n \\nskal placeres inden for arealet til parkering, \\nder er vist på \\nK\\nortbilag 3\\na\\n.\\n \\n \\n5.3\\n \\nNy etablering af \\np\\narkering\\nspladser skal \\nske i \\nhenhold til \\nnormerne vist på Bilag 4b\\n.\\n \\n5.4\\n \\nDer skal sikres areal til minimum 1 cykelparkeringsplads pr. 50 \\nm² \\netage\\nareal\\n \\njf. cykelparkeringshåndbogen.\\n \\n5.5\\n \\nParkeringsarealerne \\nskal anlægges med græsarmering\\n \\neller \\nen \\ntilsvarende grøn, permeabel belægningstype.\\n \\n5.6\\n \\nHandicap\\nparkeringspladser skal opfylde\\n \\nDS\\n \\n105 og SBI anvisning \\n230*\\n \\nhvad angår størrelse\\n, antal\\n \\nog placering\\n.\\n \\nKommunalbestyrelsen kan efter en konkret vurdering fravige \\nnormen. *\\n \\n \\n \\n \\n§ \\n6\\n \\n \\nBebyggelsens omfang og placering\\n \\n6.1\\n \\nNy bebyggelse skal opføres inden for byggefelt\\net\\n, der er vist på \\nkortbilag \\n3\\na\\n. Der er fastsat en vejbyggelinje 5 meter fra vejskel \\nmod \\nSlotsmarken og Mariehøj Allé\\n \\nsamt en vejbyggelinje 20 \\nmeter fra vejmidten på Frederiksborgvej\\n.\\n \\nDer kan uden for det \\nviste byggefelt bygges parkeringsanlæg under terræn langs \\nskellet mod Slotsmarken.\\n \\nHørsholm Kommune\\n \\n                                                                       \\n                                 \\nLokalplan 163\\n \\n \\n \\n \\n17\\n \\n6.2\\n \\nSmåbebyggelse som f.eks. skure, \\nmiljøstationer og lignende kan \\nopføres uden for de angivne byggefelter.\\n \\n6.3\\n \\nOmrådets bebyggelse må opføres i op til 3 etager. Den \\nmaksimale \\nbebyggelsesprocent fastsættes til 70. Der tillades \\nfrilagt underetage, hvor terrænet tillader det\\n, så bygningen \\ndelvist fremstår i 4 etager\\n. Der kan maksimalt etableres \\nyderligere 1.500m² etageareal til kontorformål, således at det \\nsamlede areal til kontor\\nformål i alt udgør 5.500 m².\\n \\n6.4\\n \\nVed udbygning må kiphøjden ikke overstige kiphøj\\nden på den \\neksisterende bygning på \\nkote \\n49 \\n(\\nDVR90\\n)\\n.\\n \\n \\n§ \\n7\\n \\n \\nBebyggelsens \\nydre fremtræden\\n \\n7.1\\n \\nOmrådets bebyggelse skal udformes \\ni henhold til\\n \\nBilag \\n8\\n.\\n \\n7.2\\n \\nFacader skal \\nfremstå med hvide pudsede facader. Mindre facade\\n-\\n \\nelementer kan fremstå i andre materialer.\\n \\n7.3\\n \\nTagflader skal fremstå i zink eller lignende materiale. Der tillades \\novenlys og rytterlys\\n, samt ikke\\n-\\nreflekterende\\n \\nsolpaneler\\n/solceller\\n.\\n \\n7.4\\n \\nBrandtrapper kan opføres uden på bygningens facade \\nsom vist på \\nBilag 7\\n.\\n \\n7.5\\n \\nBygningen kan, hvor terrænet tillader det, opføres med frilagt \\nunderetage\\n, så den \\nfremstå\\nr\\n \\ni 4 etager\\n.\\n \\n7.6\\n \\nSkilte skal bestå af enkeltstående \\nbogstaver med en maksimal \\nhøjde på 0,5 meter. På den enkelte facade\\n \\n(nord\\n-\\n, syd, øst\\n-\\n \\nog \\nvestfacaderne betragtes hver som én facade)\\n \\nmå opsættes 1 logo\\n \\nog 1 skilt\\n.\\n \\n7.7\\n \\nDer må udover alm. henvisningsskilte ikke skiltes på terræn.\\n \\n \\n7.8\\n \\nMed Kommunalbestyrelsens \\ntilladelse må der\\n \\nlejlighedsvist \\nopsættes et banner eller lignende på bygningens \\nsyd\\n-\\n \\nog \\nøstfacade.\\n \\n \\n§ \\n8\\n \\n \\nUbebyggede arealer\\n \\n8.1\\n \\nAnlæg af ubebyggede arealer, herunder \\nterrænregulering, \\nbeplantning, belysning, belægning, \\nregnvandsbassin, \\nhegning\\n, \\nLokalplan 163\\n \\n                                                                  \\nHørsholm Kommune\\n \\n \\n \\n \\n18\\n \\nterrænmure\\n \\nog færdselsarealer, skal ske \\nsom vist på \\nB\\nilag\\n \\n3b\\n, \\ndog jf. § 8.2.\\n \\n8.2\\n \\nTræer skal plantes \\ni princippet som vist på kortbilag 3b.\\n \\n8.3\\n \\nTerrænmuren langs skellet mod vest skal have et grønt præg og \\nskal sikre, at nabobebyggelsen ikke generes af lyskegler fra biler \\npå parkeringspladsen. Muren skal opføres i princippet som vist på \\nBilag 7.\\n \\n8.4\\n \\nDer skal \\netableres et regnvandsbassin ved bygningens\\n \\nvestfacade \\npå mindst 3\\n0\\n0 m\\n2\\n \\njf. \\nK\\nortbilag 3b.\\n \\n8.5\\n \\nOplagring uden for bygninger må ikke finde sted. \\n \\n8.6\\n \\nOffentligt tilgængelige arealer, herunder adgangsarealer skal \\nudformes således, at de tilgodeser handicappedes færds\\nel på \\narealerne og i overensstemmelse med Dansk Standards DS 105 \\n\\nUdearealer for alle \\n-\\n \\nanvisning for planlægning og indretning \\nmed \\n\\n \\nog DS 3028 \\n\\n.\\n \\n8.7\\n \\nBelysning af områdets arealer skal ske med parklamper\\n \\nmed en \\nmaksimal højde på 3,5 meter eller pullertbelysning med en \\nmaksimal højde på 1 meter.\\n \\nBelysning skal rettes i\\nnd mod eget \\nterræn\\n.\\n \\nBelysning af private opholdsarealer må kun ske med væglamper \\neller pullertbelysning med en maksimal højde på 1 meter.\\n \\nD\\ner må kun benyttes afskærmende armaturer, så sideudstråling \\nfra lyskilde til omgivelserne undgås.\\n \\n8.8\\n \\nDer må i forbindelse med opførelse af bygninger\\n \\nog \\nparkeringsarealer\\n \\nforetages de nødvendige terrænreguleringer. \\n \\nDer må\\n,\\n \\ni forbindelse med etablering af parkeringsområde mod \\nvest\\n,\\n \\nterrænreguleres jf. Bilag \\n6\\n \\n+/\\n-\\n \\n0,1 meter.\\n \\nHerudover må der ikke foretages terrænreguleringer over +/\\n-\\n \\n0,5 \\nmeter uden Kommunalbestyrelsens særlige tilladelse.\\n \\n8.9\\n \\nDer må ikke opsættes h\\negn i skel mod offentlig vej.\\n \\n8.10\\n \\nHegning inden for ejendommen skal \\nfremstå som\\n \\nlevende hegn \\neller hvidpudsede mure.\\n \\n8.11\\n \\nBeholdere til renovation og lignende skal afskærmes med hegn.\\n \\nHørsholm Kommune\\n \\n                                                                       \\n                                 \\nLokalplan 163\\n \\n \\n \\n \\n19\\n \\n§ 9\\n \\nForudsætning for ibrugtagning af ny bebyggelse\\n \\n9.1\\n \\nInden ny bebyggelse må \\ntages i brug skal der være etableret og \\ntilvejebragt de i §§ 5.2, 5.3, 5.4, 5.5 og 5.6 samt § 8.2 nævnte \\nforhold.\\n \\n \\n§ 10 Lokalplanens retsvirkninger\\n \\n10.1 \\n \\nEfter Kommunalbestyrelsens endelige vedtagelse og offentliggø-\\nrelse af lokalplanen må ejendomme, der er\\n \\nomfattet af planen, \\nifølge § 18 i Lov om planlægning, kun udstykkes, bebygges og \\nanvendes i overensstemmelse med lokalplanens bestemmelser.\\n \\nKommunalbestyrelsen kan dispensere fra bestemmelserne i lo-\\nkalplanen, hvis dispensationen ikke er i strid med princi\\np-\\nperne/formålet med planen. Videregående afvigelser fra lokalpla-\\nnens bestemmelser forudsætter tilvejebringelse af en ny lokal-\\nplan, dog jf. Planlovens § 19.\\n \\n10.2 \\n \\nNår det er nødvendigt for at virkeliggøre lokalplanen, kan Kom-\\nmunalbestyrelsen ekspropriere jf\\n. planlovens § 47.\\n \\n \\nVedtagelsespåtegning\\n \\nLokalplan 163\\n \\ner vedtaget af Hørsholm Kommunalbestyrelse den\\n \\n29. j\\nanuar 2018\\n.\\n \\n \\n \\nMorten Slotved\\n              \\n/\\n \\nHugo Pedersen\\n \\nBorgmester\\n \\n \\n \\nKommunaldirektør\\n \\nÔÔcÇcÇcÇcÇcÇcÇcÇcÇcÇcÇcÇcÇcÇcÇcÇcÇcÇcÇcÇcÇcÇcÇcÇcÇcÇcÇcÇcÇcÇcÇcÇcÇcÇcÇcÇcÇcÇcÇcÇcÇcÇcÇcÇcÇcÇcÇcÇcÇcÇcÇcÇcÇcÇcÇcÇcÇcÇcÇcÇcÇcÇcÇcÇcÇcÇcÇcÇcÇcÇcÇcÇcÇcÇcÇcÇcÇcÇcÇcÇcÇcÇcÇcÇcÇcÇcÇcÇcÇcÇcÇcÇcÇcÇ!!!!!!!!!!!!!!!!!!!!!!!!!!!!!!!!!!!!!!!!!!!!!!!!!!!!!!!!!!!!!!!!!!!!!!!!!!!!!!!!!!!!!!!!!!!!!!!!!!!!!!!!!!!!!!!!!!!!!!!!!!!!!!!!!!!!!!!!!!!!!!!!!!!!!!!!!!!!!!!!!!!!!!!!!!!!!!!!!!!!!!!!!!!!!!!!!!!!!!!!!!!!!!!!!!!!!!!!!!!!!!!!!!!!!!!!!!!!!!!!!!!!!!!!!!!!!!!!!!!!!!!!!!!!!!!!!!!!!!!!!!!!!!!!!!!!!!!!!!!!!!!!!!!!!!!!!!!!!!!!!!!!!!!!!!!!!!!!!!!!!!!!!!!!!!!!!!!!!!!!!!!!!!!!!!!!!!!!!!!!!!!!!!!!!!!!!!!!!!!!!!!!!!!!!!!!!!!!!!!!!!!!!!!!!!!!!!!!!!!!!!!!!!!!!!!!!!!!!!!!!!!!!!!!!!!!!!!!!!!!!!!!!!!!!!!!!!!!!!!!!!!!!!!!!!!!!!!!!!!!!!!!!!!!!!!!!!!!!!!!!!!!!!!!!!!!!!!!!!!!!!!!!!!!!!!!!!!!!!!!!!!!!!!!!!!!!!!!!!!!!!!!!!!!!!!!!!!!!!!!!!!!!!!!!!!!!!!!!!!!!!!!!!!!!!!!!!!!!!!!!!!!!!!!!!!!!!!!!!!!!!!!!!!!!!!!!!!!!!!!!!!!!!!!!!!!!!!!!!!!!!!!!!!!!!!!!!!!!!!!!!!!!!!!!!!!!!!!!!!!!!!!!!!!!!!!!!!!!!!!!!!!!!!!!!!!!!!!!!!!!!!!!!!!!!!!!!!!!!!!!!!!!!!!!!!!!!!!!!!!!!!!!!!!!!!!!!!!!!!!!!!!!!!!!!!!!!!!!!!!!!!!!!!!!!!!!!!!!!!!!!!!!!!!!!!!!!!!!!!!!!!!!!!!!!!!!!!!!!!!!!!!!!!!!!!!!!!!!!!!!!!!!!!!!!!!!!!!!!!!!!!!!!!!!!!!!!!!!!!!!!!!!!!!!!!!!!!!!!!!!!!!!!!!!!!!!!!!!!!!!!!!!!!!!!!!!!!!!!!!!!!!!!!!!!!!!!!!!!!!!!!!!!!!!!!!!!!!!!!!!!!!!!!!!!!!!!!!!!!!!!!!!!!!!!!!!!!!!!!!!!!!!!!!!!!!!!!!!!!!!!!!!!!!!!!!!!!!!!!!!!!!!!!!!!!!!!!!!!!!!!!!!!!!!!!!!!!!!!!!!!!!!!!!!!!!!!!!!!!!!!!!!!!!!!!!!!!!!!!!!!!!!!!!!!!!!!!!!!!!!!!!!!!!!!!!!!!!!!!!!!!!!!!!!!!!!!!!!!!!!!!!!!!!!!!!!!!!!!!!!!!!!!!!!!!!!!!!!!!!!!!!!!!!!!!!!!!!!!!!!!!!!!!!!!!!!!!!!!!!!!!!!!!!!!!!!!!!!!!!!!!!!!!!!!!!!!!!!!!!!!!!!!!!!!!!!!!!!!!!!!!!!!!!!!!!!!!!!!!!!!!!!!!!!!!!!!!!!!!!!!!!!!!!!!!!!!!!!!!!!!!!!!!!!!!!!!!!!!!!!!!!!!!!!!!!!!!!!!!!!!!!!!!!!!!!!!!!!!!!!!!!!!!!!!!!!!!!!!!!!!!!!!!!!!!!!!!!!!!!!!!!!!!!!!!!!!!!!!!!!!!!!!!!!!!!!!!!!!!!!!!!!!!!!!!!!!!!!!!!!!!!!!!!!!!!!!!!!!!!!!!!!!!!!!!!!!!!!!!!!!!!!!!!!!!!!!!!!!!!!!!!!!!!!!!!!!!!!!!!!!!!!!!!!!!!!!!!!!!!!!!!!!!!!!!!!!!!!!!!!!!!!!!!!!!!!!!!!!!!!!!!!!!!!!!!!!!!!!!!!!!!!!!!!!!!!!!!!!!!!!!!!!!!!!!!!!!!!!!!!!!!!!!!!!!!!!!!!!!!!!!!!!!!!!!!!!!!!!!!!!!!!!!!!!!!!!!!!!!!!!!!!!!!!!!!!!!!!!!!!!!!!!!!!!!!!!!!!!!!!!!!!!!!!!!!!!!!!!!!!!!!!!!!!!!!!!!!!!!!!!!!!!!!!!!!!!!!!!!!!!!!!!!!!!!!!!!!!!!!!!!!!!!!!!!!!!!!!!!!!!!!!!!!!!!!!!!!!!!!!!!!!!!!!!!!!!!!!!!!!!!!!!!!!!!!!!!!!!!!!!!!!!!!!!!!!!!!!!!!!!!!!!!!!!!!!!!!!!!!!!!!!!!!!!!!!!!!!!!!!!!!!!!!!!!!!!!!!!!!!!!!!!!!!!!!!!!!!!!!!!!!!!!!!!!!!!!!!!!!!!!!!!!!!!!!!!!!!!!!!!!!!!!!!!!!!!!!!!!!!!!!!!!!!!!!!!!!!!!!!!!!!!!!!!!!!!!!!!!!!!!!!!!!!!!!!!!!!!!!!!!!!!!!!!!!!!!!!!!!!!!!!!!!!!!!!!!!!!!!!!!!!!!!!!!!!!!!!!!!!!!!!!!!!!!!!!!!!!!!!!!!!!!!!!!!!!!!!!!!!!!!!!!!!!!!!!!!!!!!!!!!!!!!!!!!!!!!!!!!!!!!!!!!!!!!!!!!!!!!!!!!!!!!!!!!!!!!!!!!!!!!!!!!!!!!!!!!!!!!!!!!!!!!!!!!!!!!!!!!!!!!!!!!!!!!!!!!!!!!!!!!!!!!!!!!!!!!!!!!!!!!!!!!!!!!!!!!!!!!!!!!!!!!!!!!!!!!!!!!!!!!!!!!!!!!!!!!!!!!!!!!!!!!!!!!!!!!!!!!!!!!!!!!!!!!!!!!!!!!!!!!!!!!!!!!!!!!!!!!!!!!!!!!!!!!!!!!!!!!!!!!!!!!!!!!!!!!!!!!!!!!!!!!!!!!!!!!!!!!!!!!!!!!!!!!!!!!!!!!!!!!!!!!!!!!!!!!!!!!!!!!!!!!!!!!!!!!!!!!!!!!!!!!!!!!!!!!!!!!!!!!!!!!!!!!!!!!!!!!!!!!!!!!!!!!!!!!!!!!!!!!!!!!!!!!!!!!!!!!!!!!!!!!!!!!!!!!!!!!!!!!!!!!!!!!!!!!!!!!!!!!!!!!!!!!!!!!!!!!!!!!!!!!!!!!!!!!!!!!!!!!!!!!!!!!!!!!!!!!!!!!!!!!!!!!!!!!!!!!!!!!!!!!!!!!!!!!!!!!!!!!!!!!!!!!!!!!!!!!!!!!!!!!!!!!!!!!!!!!!!!!!!!!!!!!!!!!!!!!!!!!!!!!!!!!!!!!!!!!!!!!!!!!!!!!!!!!!!!!!!!!!!!!!!!!!!!!!!!!!!!!!!!!!!!!!!!!!!!!!!!!!!!!!!!!!!!!!!!!!!!!!!!!!!!!!!!!!!!!!!!!!!!!!!!!!!!!!!!!!!!!!!!!!!!!!!!!!!!!!!!!!!!!!!!!!!!!!!!!!!!!!!!!!!!!!!!!!!!!!!!!!!!!!!!!!!!!!!!!!!!!!!!!!!!!!!!!!!!!!!!!!!!!!!!!!!!!!!!!!!!!!!!!!!!!!!!!!!!!!!!!!!!!!!!!!!!!!!!!!!!!!!!!!!!!!!!!!!!!!!!!!!!!!!!!!!!!!!!!!!!!!!!!!!!!!!!!!!!!!!!!!!!!!!!!!!!!!!!!!!!!!!!!!!!!!!!!!!!!!!!!!!!!!!!!!!!!!!!!!!!!!!!!!!!!!!!!!!!!!!!!!!!!!!!!!!!!!!!!!!!!!!!!!!!!!!!!!!!!!!!!!!!!!!!!!!!!!!!!!!!!!!!!!!!!!!!!!!!!!!!!!!!!!!!!!!!!!!!!!!!!!!!!!!!!!!!!!!!!!!!!!!!!!!!!!!!!!!!!!!!!!!!!!!!!!!!!!!!!!!!!!!!!!!!!!!!!!!!!!!!!!!!!!!!!!!!!!!!!!!!!!!!!!!!!!!!!!!!!!!!!!!!!!!!!!!!!!!!RR33,534,532,5353235,533,53435,53532,5353331,53632,535,53335,535,533,533,534,53530,53337,53135,53634,53337333632,533,536,536,53336353535,533,53533,534,5363533,535,534,534,53434MARIEHØJALLEFREDERIKSBORGVEJSLOTSMARKENMARIEHØJGÅRDHØRSHOLM KOMMUNELOKALPLAN 163§01020305mKORTBILAG 1Eksisterende forholdSignaturer!!!!!!!!!!!!!!!!!LokalplanområdeRNOverkørselcÇTræSø1:1.000Målforhold06-06-2017!!!!!!!!!!!!!!!!!!!!!!!!!!!!!!!!!!!!!!!!!!!!!!!!!!!!!!!!!!!!!!!!!!!!!!!!!!!!!!!!!!!!!!!!!!!!!!!!!!!!!!!!!!!!!!!!!!!!!!!!!!!!!!!!\\n!!!!!!!173kb\\n167e\\n173kk\\n173ix\\n173kø\\n7000bu\\n173iz\\n7000cs\\n168k\\n173iy\\n181\\n7000bx\\n173kæ\\n173io\\n7000bz\\n168i\\n168d\\n173il\\n168æ\\n167b\\n168h\\n173ie\\n168o\\n173f\\n173id\\n173if\\n173ik\\n173is\\n173iu\\n173iæ\\n173iø\\n173ke\\n168ø\\n168e\\n173ic\\n173la\\n168g\\n173ii\\n168p\\n173ki\\n3u\\n168s\\n182\\n168l\\n173kh\\n168c\\n173it\\n168q\\n173iv\\n171\\n168a\\n168x\\n173ig\\n173kl\\n3g\\n167f\\n173iq\\n168b\\n173d\\n173in\\n168r\\n168f\\n173kd\\n173gx\\n168t\\n4i\\n173ih\\n173ip\\n168n\\n168z\\n168u\\n173e\\n173kf\\n173gk\\n173gy\\n12\\n173im\\n168m\\n173kg\\n168y\\n168v\\n173ka\\n173ir\\n173kz\\n173kc\\n11g\\n7000ch\\nHØRSHOLM KOMMUNE\\nLOKALPLAN \\n§010\\n20\\n30\\n5mKORTBILAG 2\\nMatrikelkort\\nSignaturer\\n!!!\\n!!!!!!\\n!!!\\n!!!!!\\nLokalplanområde\\nMatrikelgrænser\\n1:2.000\\nMålforhold\\n01-06-2017\\nVold mod FrederiksborgvejRegnvandsbassinFrederiksborgvejFrederiksborgvejSlotsmarkenSlotsmarken34.034.535.033.535.5034.5335.2933.90KORTBILAG 3AArealanvendelseLOKALPLAN 16304-09-2017SignaturerN0101520mVejbyggelinjeByggefeltFriarealKORTBILAG 3BBeplantningsplanLOKALPLAN 16304-09-20170101520mSignaturerNnye anviste p-pladserRegnvandsbassinnye p-pladserFrederiksborgvejSlotsmarkenVoldVenderadiusmin 6mnye anviste p-pladsereks. p-pladsereks. p-pladserSlotsmarkennye p-pladsernye p-pladsernye p-pladsernye p-pladserEksist. bygningTilbygningVold mod Frederiksborgvejnye p-pladserArealbehov for renovationbil, 5 km/tArealbehov for personbil, 5 km/tSignaturer\\n\\n\\n\\n\\nHØRSHOLM KOMMUNE\\nLOKALPLAN 163\\n0-0\\n-2017\\nBILAG \\nFrederiksborgvejSlotsmarkenSlotsmarkenFrederiksborgvejKORTBILAG 5Vejledende snit i tilbygningLOKALPLAN 16304-09-2017051015mSnit 2Snit 134.1034.7034.6035.50FrederiksborgvejSlotsmarkenSKELRegnvandsbassin33.00Vold mod Frederiksborgvej32.36100 promillefaldSKELEksisterende voldRegnvandsbassinRampeSKEL33.0032.6232.3630.21Vold mod FrederiksborgvejFrederiksborgvejFrederiksborgvej35.50Eksist. vold33.90KORTBILAG 6Vejledende snit i parkeringspladsLOKALPLAN 16304-09-2017051015mPlantemuldL-StenafstivningFrostfrit materaialeF.eks. stabilgrusFundablokStabilgrus til fast bundog frostfri zoneSkel\\n\\n32.36UdvidelseEksisterendeUdvidelseEksisterendeKORTBILAG 8Retningsgivende facaderLOKALPLAN 16304-09-2017051520m10'}},\n",
       "   {'_index': 'plandata',\n",
       "    '_type': 'plan',\n",
       "    '_id': 'c2ArZWYBpMqA1-ytBLv5',\n",
       "    '_score': 1.0,\n",
       "    '_source': {'planid': 1372603,\n",
       "     'dokument': '\\n\\n\\nGLOSTRUPKOMMUNEHOVEDVEJENGERDASVEJFLORASVEJINGERSVEJEDITHSVEJHvad er en lokalplan? Lovgrundlag \\n\\n\\n\\n\\n\\n\\n\\n\\nUdarbejdelse \\n\\n\\n\\n\\n\\n\\n\\nOffentliggørelse \\n\\n\\n\\n\\n\\n\\n\\n\\n\\n\\n\\n\\n\\n\\n\\n\\n\\n\\n\\n\\n\\n\\n\\n\\n\\n\\n\\n\\n\\n\\n\\n\\n\\n\\n\\n\\n\\n\\n\\n\\nIndhold \\n\\n\\n\\n\\n\\n\\n\\n\\n1 Lokalplan GL48.1  for Søndervangsskolen  \\n Indholdsfortegnelse: \\n \\nPLANREDEGØRELSE \\n\\n \\nLokalplanens baggrund side    3   \\n\\nLokalplanens område side    3 \\n\\nLokalplanens formål                                 side    4  \\n\\nLokalplanens indhold side      4 \\n\\nLokalplanens miljømæssige konsekvenser side 8 \\n\\nLokalplanens forhold til anden planlægning          side      8   \\nMiljøscreening side 10 \\n\\nByøkologi og ressourcer                             side   10       \\n\\n   \\n \\nLOKALPLANENS BESTEMMELSER   \\n1. Lokalplanens formål side  11     \\n\\n2.  Lokalplanens område side  11    \\n3.  Områdets anvendelse side 11    \\n4.  Udstykninger side 12    \\n5.  Vej-, sti- og parkeringsforhold side 12    \\n6.  Bebyggelsens omfang og placering side 12    \\n7.  Bebyggelsens ydre fremtræden side 13   \\n8.  Ubebyggede arealer og hegning side   13 \\n9.  Forudsætninger for ibrugtagning af ny bebyggelse side 14 \\n10.  Ophævelse af ældre byplanvedtægter/lokalplaner side   14 \\n11.  Ophævelse af servitutter og deklarationer side 14  \\n12.  Lokalplanens retsvirkninger side 15    \\n \\nVedtagelsespåtegning side 15    \\n\\n \\nKortbilag 1: Lokalplanens område  \\n\\nKortbilag 2: Byggefelter  \\n\\nKortbilag 3: Vej- sti og parkeringsforhold  Hvor der ikke på kortbilag eller i lokalplantek\\nsten er angivet faste tal (afstande, vinkler, \\netc.) tages der forbehold for kortbilags nøjagtighed, ligesom der tages forbehold for, at de \\nindtegnede bygninger, veje m.v. er i overensstemmelse med de faktiske og fysiske forhold. \\n   \\n \\n \\n \\n \\n 2   \\n \\n \\n \\n \\n \\n \\n   \\n \\n \\n \\n \\n \\n \\n \\n \\n \\n \\n \\n \\n \\n \\n \\n \\n \\n \\n \\n \\n \\n \\n \\n \\n \\n \\n \\n PL  LokI forskerbygnplannødv Deleladesen \\nigan \\n LokLokgrænvilla \\nSøndgrunNybver tSøndtil 1\\n Sønde \\nSøndopdeden,til b\\ntæt umed  LANREkalplanens brbindelse mr Glostrup Kning finder nlagt for o\\nmvendigt at \\noe af skoleome sig gøre inaf skolen ogngsat udarbekalplanens oalplanomr\\nånset af de trakvarteret Indervangsskonde i Glostr\\nubo på grundetil skoleud\\nbdervangssko970) samt \\nVervangsskolen sdervangskoeling af om\\nr, der ligger toldbaner ogudnyttet og d en SFO Œ hEDEGØbaggrunded modern\\niKommune atsted inden\\nfmdisponeringopføre en n\\nymbygningenndenfor den g opførelsenejdelse af e\\nnområde \\ndet omfatt\\nere veje: Ho\\nvngersvej/Edolen er opf\\nøup Kommunen. Efter Anbygninger ogolen, Aved\\nøVestervangsset fra vest. Til \\nolens grund rådet, såledtættest Hovg andre friarden løbendhar betydet \\n3ØRELSisering og oat udvide Søfor den eksisg af de eksisy sportshal in og særligt \\neksisterendn af en mul\\ntn ny lokalpler Søndervanvedvejen, F\\nldithsvej. \\nørt i 1956 pune. Fra 191nden Verdeg i løbet af \\nøre skole (Asskolen færdvenstre ses Hohar fra startdes at beby\\ngvedvejen og realer. Imi\\ndde udviklingat den ska\\nrSE mbygning \\naøndervangsssterende bysterende g\\nyi forbindelseplacering ade lokalpla\\nntihal på sp\\nolan for Søndngsskolen. lorasvej og å en af de ta4 til skole\\nnnskrig blev blot et årti sAvedøre vardige. \\nvedvejen og til\\nten været kaggelse holdeden øvrige dlertid er de\\nng af skolens rpe opdelingaf Søndervaskolen. Den gningskropmnastiksal\\nee med skol\\neaf en ny mu\\nln. For at mu\\nlrtspladsen, dervangsskoSøndervangGerdasvej oalrige tidlig\\ns opførelse der taget e\\nnstod Nordvar del af Gloshøjre ses jern\\nbarakterisere\\ntes på den hadel af mat\\nrn bebygge\\ndaktiviteter \\nŒg er under opangsskolen øn primære o\\nmp, men da d\\nee, vil det v\\næen.  \\nltihal kan ikliggøre udver der derfoolen. gsskolen er og mod ve\\nsgere gartnerilå gartneri\\nen række initangsskolen,strup Kommbanen. \\net af en skarpalvdel af gruriklen er anvde del af o\\nmŒ blandt anopblødning. \\nøn-m-er er ære \\nkke \\nvidel-\\nor af-st af \\ni-et tiati-\\n, mune  p un-vendt \\nmrådet det \\n4 Lokalplanens formål \\nDet er denne lokalplans formål at \\nfastlægge en ny disponering af Sønder-vangskolen. Lokalplanen skal muliggøre \\nden fortsatte udvikling af Sønder-vangskolen, således at denne fortsat kan tilbyde tilstrækkelige og tidssva-rende forhold for områdets skolesøgende børn.  \\n\\n \\n Lokalplanens indhold Lokalplanen fastholder områdets nuvære\\nnde anvendelse til skole- og institu-\\ntionsformål. \\n \\nLokalplanen fastholder ligeledes de nuværende adgangsforhold. Parkerings-forholdene er utilstrækkelige til de nuværende aktiviteter på skolen og den-\\n\\nne lokalplan fastlægger derfor, at der ved udnyttelse af de udlagte byggefel-ter skal anlægges p-pladser svarende til det samlede behov for parkering for \\nbebyggelsen. Udgangspunktet for beregningen skal være et parkeringsudlæg svarende til 1 p-plads pr. 3 ansatte + 1 p-plads pr 20 børn i skolen. For SFO gælder alene 1 p-plads pr. 3 ansatte, idet børnene allerede er indregnet under skolen. Herudover skal der til multihallen udlægges 1 p-plads pr. 50 m². Det \\n\\nudlagte antal p-pladser skal svare til ovenstående. \\nAntallet af p-pladser der \\nfaktisk anlægges, må fastlægges til \\ndet regningsmæssige behov på det tids-punkt, der kan betegnes som bebyggelsens\\n parkeringsmæssige spidsbelast-\\nning. \\n \\nDer er i dag anlagt 34 parkeringspladser som vinkelret parkering langs Flo-\\nrasvej. Herud over bliver Florasvej om morgenen benyttet i sin fulde længde \\ntil afsætning af skolebørn. Teknik- og Miljøforvaltningen vurderer parke-\\n\\nringsbehovet for Søndervangsskolen, SFO\\n og en kommende multihal ud fra \\nfølgende forudsætninger:  Antal ansatte på skole og SFO tilsammen: ca. 90 \\n Antal elever på skolen: ca. 600  Det største parkeringsbehov er omkring skolestart om morgenen. \\n 75 % af ansatte og elever møder omkring skolestart \\n Ved skolestart er der ikke noget parkeringsbehov for multihallen. \\n \\nUd fra disse forudsætninger, kan kravet til anlæg af p-pladser beregnes til 45 pladser.  \\n \\nYderligere parkering kan etableres ved forlængelse af den eksisterende vin-\\n\\nkelrette parkering langs Florasvej. Forlængelse af den vinkelrette parkering langs Florasvej er dog teknisk vanskelig grundet terrænforskel, de skønnes at der er plads til ca. 30 yderligere p-\\npladser som vinkelret parkering. Alter-\\nnativt kan yderligere parkering etableres som vejsideparkering (længdepar-\\nkering) langs den vestlige side af Florasvej. Parkering her skal opmales for \\nat skabe vigemuligheder og for at sikre \\nbrandvejene på Florasvejs østside. Det skønnes, at der kan anlægges 14 nye p-pladser langs Florasvej. Der må \\nikke anlægges længdeparkering langs \\nGerdasvej da vejen er for smal til \\nformålet. \\n\\n Det lens \\ngeprpark Lokaler en del afaktiviteter.\\nrojekt, så lækeringsforholplanens områ\\ndf lokalplane\\nn Der kan mænge det ikkold. \\nde 5ns formål \\named andre orke kan eftervat sikre tilst\\nrrd ikke me\\ndvises, at derrækkelig pardeles tillader vil være ti\\nlarkering til \\nselse til et byilstrækkeligsko-yg-e   6   \\nDen tidligere lokalplan GL48 er fra 1980 og fastlægger et meget præcist \\nbyggefelt svarende til den på det tidspunkt eksisterende skole. Byggefeltet i \\n\\nGL48 indeholder en mindre udvidelsesmulighed delvis sammenfaldende \\n\\nmed de udvidelser, der ønskes på nu\\nværende tidspunkt, me\\nn der er dog ikke mulighed for at gennemføre moderniser\\ning af skolen i det nu ønskede om-fang. Derfor udlægges med denne lokalplan nye byggefelter, der giver mu-\\n\\nlighed for at tilføje karnapper og mindr\\ne tilbygninger til de eksisterende bygninger samt udvidelse af det byggefelt, der giver mulighed for placering \\naf yderligere bebyggelse på en del af de nuværende boldbaner. Med denne lokalplan gives mulighed for etablering af en multihal på en del af boldba-\\n\\nnerne. \\n \\nÆndringen af byggefelterne omkring den \\neksisterende bebyggelse har alene karakter af justering og vil ikke i praksis medføre ændringer, der afviger fra \\nskolens nuværende bebyggelsesplan. Byggefeltet muliggør bebyggelse i \\nvarierende højder indtil 3 etager, svarende til maximalt 12 m bygningshøjde. \\nByggefeltet til en hal vil inddrage en st\\nørre del af boldbanerne end der tidli-\\ngere har været planlagt for. Den tidli\\ngere lokalplans meget klare opdeling af \\ngrunden i bebyggelse og boldbaner, er dog allerede opblødt, idet SFO Søn-dervangen er opført udenfor byggefelt i den østlige side af boldbanerne.   \\nDenne lokalplan udlægger et byggefelt til \\nen multihal i den vestlige side af \\nboldbanerne. Der udlægges ligeledes byggefelter i den østlige side af bold-banerne omkring den nuværende SFO-bebyggelse for at opdatere plan-\\n\\ngrundlaget i forhold til virkeligheden. De to byggefelter vil i omfang og \\nstørrelse svare til hinanden. Det nuværende omfang af SFO-bebyggelsen er \\nmindre end den kommende multihal. Der er ikke beregnet skyggevirkninger \\n\\naf placering af en multihal i den østlig\\ne side af boldbanerne. Terrænforskel-\\nlen mellem boldbanen og Florasvej vil be\\ntyde, at en hal vil virke mindre i \\nforhold til omgivelserne og derfor ikke kaste så lange skygger. At de to byggefelter giver samme muligheder betyde\\nr, at der er valgfrihed med hen-\\nsyn til udnyttelsen af byggefelterne. Hvis en multihal således bedre kan pla-\\n\\nceres hvor SFO Søndervangens pavillonbebyggelse nu ligger, giver lokal-planens udformning denne mulighed.   \\n\\n \\nPå illustrationen på næste side er skyggevirkningen ved etablering af en \\n\\nmultihal i det vestlige byggefelt beskre\\nvet. På illustrationen er skyggens \\nudbredelse vist på forskellige tidspunkt\\ner af året. De farvede felter Œ blå henholdsvis grøn og rød Œ viser de arealer der gennemstryges af skyggen på \\nforskellige årstider. I hvert farvefelt er der i skyggens kant markeret et klok-\\nkeslæt. Skyggen af multiha\\nllen vil i perioden fra det ene klokkeslæt til det \\nandet bevæge sige fra den ene side af farvefeltet til den anden. De forskelli-\\nge farver har følgende betydning: Blå = midvinter (21. december), grøn = \\nforår/efterår omkring jævndøgn og r\\nød = midsommer (21. juni).   \\n  Bygmedfor vdeligvoldligt \\nog Eaf Søskyg \\nUdelængeller \\nLok\\nge teledenaboandrskæmMedfor s \\n  ggefeltet til \\nmd en maxim\\navillaområd\\neg villabeby\\ngdsommere \\neforår og eft\\nEdithsvej.O\\nmøndervangsggen være uen for de anfgere end de r solnedgan\\nalplanen fa\\nsekniske anlæes at de ikkeoer. Dette hre ord ikke mmmende, s\\ntd støjende \\nmstøjbelastni\\nnmultihallen \\nalhøjde på 8er. Byggefelggelse og sknd de skyggerår være mm vinteren vskolen (mel\\nlude af villaoførte tidspunviste. Disseg, hvor det stlægger, a\\ntæg skal afske skæmmer \\nhensyn er gj\\nomeddeles titøjende elle\\nrmenes et anlng som fast\\n7udlægges p8,5m svare\\nnltets størrel\\nskyggen vil dger der kan \\nmorgenskygvil skyggenlem de to s\\ntområdet me\\nnkter vil d\\nee skygger vmeste und\\net ventilatio\\nnkærmes, sk\\njeller ved d\\neort til en d\\neilladelse til er på andre \\nmlæg, der ovetlagt af Milj\\n på den vestlnde til hvad se er dog væderfor i vissforventes i \\nge over nabn hovedsagetiplede linieget tidlig omer kunne forvil dog optræer alle omst\\nænsanlæg og ajules eller i\\nneres funktioel af lokalpl\\naet byggepromåder genererskrider deøstyrelsen. \\nlige side af \\nbder sædvanæsentligt st\\nøse situation\\neet villakvarbobebyggelseligt ramme \\ner) og om s\\nom morgene\\nnekomme s\\nkæde omkrin\\ngændigheder andre tilsvandbygges i bn generer omanens formåojekt hvis derende ventile vejledend\\ne boldbanernnligvis gældørre end almer kunne virrter. Der vilsen på Inger den øvrigeommeren vi\\nn. kygger der eg solopgangr ligger i sk\\nyarende udvebebyggelseomkringboenål. Der kan ette indehollationsanlæ\\nge grænsevæ\\nr e der min-rke l sær-\\nrsvej \\ne del \\nl er g ygge. \\nndi- så-nde med lder g. rdier  8 Lokalplanens miljømæssige konsekvenser \\n Byggeriet Den nye hal opføres som lavenergiklasse 2 byggeri. Det betyder at CO2 Œudledningen fra opvarmning og elforbrug vil reduceres i forhold til det nor-male forbrug ved et tilsvarende\\n byggeri i normal energiklasse. \\n  \\nTrafik og parkeringsforhold Lokalplanområdet vejbetjenes fra Flor\\nasvej. Biler har adgangsvej fra Flo-rasvej og parkering er anlagt langs Florasvej. Cyklister og gående har ad-gang både fra Florasvej og via sti fra Gerdasvej samt fra lågerne i hegnet \\nmod Ingersvej og Edithsvej. Lågerne kan aflåses udenfor skoletiden.  \\nVarmeforsyning \\nLokalplanområdet forsynes med naturgas. Det forventes dog, at naturgas \\n\\nmed tiden udfases til fordel for fjernvarme. \\n\\n \\nVandforsyning Lokalplanområdet forsynes pt. med vand fra Glostrup Forsyning A/S. \\n\\n \\nAfvandingsforhold Spildevand føres til fælles kloak i Floras\\nvej. Tagvand føres til faskiner med \\noverløb til kloak i Gerdasvej. \\n\\n \\nJordforurening Lokalplanområdet er områdeklassificeret\\n, hvilket betyder at området forven-\\ntes at være lettere forurenet. Det betyder at jord der fl\\nyttes fra ejendommen, skal anmeldes til Glostrup Kommune, og \\nder skal tages prøver af den jord, der flyttes.  \\n \\nI henhold til Jordforureningsloven, skal der i forbindelse med at der udføres \\nbygge- og anlægsaktiviteter på den ubebyggede del af arealet sikres, at de øverste 50 cm af jordlaget er uforurenet eller at der etableres en fast varig \\nbelægning på det af arbejdet berørte areal. \\n   \\nHvis der i forbindelse med bygge- og anlægsarbejder konstateres yderligere tegn på jordforurening skal Teknik- og Miljøforvaltningen kontaktes. \\n\\n  Lokalplanens forhold til anden planlægning  Fingerplan 2007 Fingerplan 2007 er et landsplandirektiv for Hovedstadsområdet. Kommu-\\nnens planlægning må ikke stride i m\\nod bestemmelserne i Fingerplan 2007.   \\nLokalplan GL 48.1 for Søndervangskolen er i overensstemmelser med Fin-\\n\\ngerplan 2007. \\n  9 Kommuneplan 2009 Œ 2021 for Glostrup Kommune Lokalplanens område indgår i kommuneplanens rammeområde GO10 \\nﬂSøndervangskolenﬂ i Kommuneplan 2009-2021. \\n\\n \\nLokalplanen er ikke i overensstemmelse med Kommuneplan 2009-2021, da \\nbebyggelsesprocenten for området ønskes \\nhævet til 45 og der skal fastsættes en maksimum højde for byggeri. Der er \\nderfor udarbejdet et tillæg til Kom-muneplan 2009-2021, der hæver bebyggelsesprocenten til 45 og fastsætter \\nen maximal højde på 12 m. De\\n øvrige rammer fastholdes.  \\n Kommuneplan tillæg nr. 1 - for rammeområde GO10 ﬂSøndervangsskolenﬂ \\ngælder følgende rammer for lokalplanlægningen: \\n\\n Rammenr.: GO10 \\nOmrådenavn: Søndervangsskolen Zonestatus: \\nByzone Generel anvendelse: \\nOffentlige formål \\nSpecifik anvendelse: Undervisningsformål, skole, bør-\\nneinstitution o.l. \\nBebyggelsesprocent - hele området: 45 Antal etager: 3 etager \\nHøjde: \\n12 m   \\nByplanvedtægter og lokalplaner Lokalplanområdet er omfattet af loka\\nlplan GL 48 for et område ved Hoved-vejen, Florasvej og Gerdasvej fra december 1979.  \\n\\n \\nSamt lokalplan FL3 for facader og skilte i områdecenter Glostrup og langs \\n\\nHovedvejen fra november 1996. \\n\\n \\nMed den endelige vedtagelse af lokalplan GL 48.1 ophæves lokalplan GL \\n48 helt og lokalplan FL3 ophæves for de  ejendomme som lokalplan GL48.1 \\nomfatter. \\n\\n \\nByggelinje Der er tinglyst en byggelinje på 25 m \\nfra vejmidte langs Hovedvejen. Lo-\\nkalplanen udlægger et byggefelt, der overskrider denne byggelinje med 3 \\nmeter. Der er tidligere givet tilladel\\nse til indskrænkning af byggelinjen til 19 \\nmeter. Der er derfor søgt om di\\nspensation til indskrænkning af byggelinjen \\ntil 22 meter. Glostrup Kommune har som vejmyndighed givet dispensation \\n\\ntil overskridelse af byggelinjen med 3 meter. \\n\\n \\nServitutter  \\nI forbindelse med udarbejdelsen af lo\\nkalplanen er servitutterne for lokal-planområdet blevet gennemgået. Det ha\\nr ikke været muligt at fremskaffe \\nalle servitutter, da de ikke \\nfindes i tinglysningssystemet.  \\n  10 Følgende servitut anmodes jf. Tinglys\\nningslovens § 20 om ophævet, da den \\nskønnes forældet. \\n \\nServitut lyst den 25. juli 1906 om bebygge\\nlse, benyttelses mv. på matr. nr. \\n9fh, Glostrup By, Glostrup. \\n \\nGlostrup Kommune vil i høringsperioden forsøge at finde de servitutter som ikke er tilgængelige i tinglysningssystemet. \\n\\n   Museumsloven \\nHvis der under jordarbejder findes spor af fortidsminder, skal arbejdet \\nstandses og anmeldes til Museum for Astronomi, Nyere tid, Arkæologi, An-\\n\\ntikvarisk enhed, Kroppedals Allé, 2630 Tåstrup (Bekendtgørelse af muse-\\numsloven Œ lovbekendtgørelse nr. 1505 af 14. december 2006 § 27 stk. 2). \\n\\nOplysninger kan evt. indhentes på Museet inden arbejdet påbegyndes.   Miljøscreening I henhold til Lov om miljøvurdering af\\n planer og programmer (Lov nr. 316 \\naf 05.05.04) har myndigheder pligt til at\\n miljøvurdere planer og program-\\nmer, der fastlægger rammer for fremtidige \\nanlægstilladelser til projekter, der \\nkan have væsentlig indvirkning på miljøet. \\n\\n \\nMed henblik på at afklare, om det er\\n nødvendigt at foretage en miljøvurde-\\nring, har Glostrup Kommune udarbejdet en indledende miljøscreening. På \\ngrundlag af denne screening har kommunen vurderet, at det byggeri, som lokalplanen giver mulighed for, ikke v\\nil bevirke en så væsentlig påvirkning af miljøet, at der skal udarbejdes en miljøvurdering. \\n  Byøkologi og ressourcer I Glostrup Kommunes Agenda 21 plan\\n 2004 Œ 2008, indgår en målsætning \\nom, at der i forbindelse med nybyggeri \\nog byfornyelse skal overvejes, hvor-vidt økologiske holdninger om vandbe\\nsparelse, energibesparende klimazo-\\nner, kompostering m.m. skal indarbejdes. \\n\\n \\nDet er kommunalbestyrelsens hensigt i videst muligt omfang at søge gen-\\n\\nbrug af materialer og øvrige byøkologis\\nke tiltag indarbejdet ved nybyggeri og ved anlæg af nye veje, pladser, torve m.v. \\n\\n \\nMed hensyn til varme, el, affald, vandforsyning og spildevandsrensning er \\n\\ndet kommunalbestyrelsens hensigt så vi\\ndt muligt at søge tekniske og organi-\\nsatoriske foranstaltninger til nedbringe\\nlse af ressourceforbruget indarbejdet ved nybyggeri. Der bør i den anledning ikke alene tages udgangspunkt i den nuværende situation, men også tages hensyn til fremtiden.           \\n\\n \\nDet henstilles derfor, at der ved nybyggeri og anlægsarbejder sker en kon-kret vurdering af mulighederne for at\\n indarbejde økologiske løsninger.  \\n  11 LOKALPLANENS BESTEMMELSER  Lokalplan GL48.1  for Søndervangsskolen\\n   \\nI henhold til Planloven (lovbekendtgørelse nr. 937 af 24. september 2009) \\nfastsættes hermed følgende bestemmels\\ner for det i pkt. 2 nævnte område. \\n  1. Lokalplanens formål\\n  1.1 Det er lokalplanens formål: \\n at fastlægge områdets anvendelse til \\noffentlige formål i form af undervis-\\nning, skole, børneinstitutioner og lignende,  at sikre tidssvarende udvidelsesmuligheder for Søndervangsskolen,  at sikre anlæg af tilstrækkelige parkeringsfaciliteter for skolens aktivite-\\nter, \\n at sikre at udvendige tekniske installationer på skolen placeres sådan, at der med hensyn til støjgener og skæmmende udseende tages mest muligt \\nhensyn til omgivende naboer.  \\n 2. Lokalplanens område\\n  2.1  Lokalplanområdet afgrænses som \\nvist på kortbilag 1 og omfatter ejendommen matr.nr. 9fh, samt del af \\nvejareal 7000as, begge Glostrup By, Glostrup, samt alle parceller, de\\nr efter den 24.12.2010 udstykkes fra de nævnte ejendomme og vejarealer. \\n \\n2.2  Lokalplanområdet ligger i byzone. \\n  3. Områdets anvendelse\\n  3.1  Lokalplanområdet må kun anvendes til offentlige formål i form af \\nundervisning, skole, børneinstitutioner og lignende.  3.2  Inden for området kan der efte\\nr kommunalbestyrelsens nærmere \\ngodkendelse opføres de tekniske anlæg (energi, vand, tele, netværk, signal-styring og lignende), der måtte være \\nnødvendige for at sikre områdets for-\\nsyning under forudsætning af, at disse bygningers ydre harmonerer med \\n\\nomgivelserne. Inden for lokalplanområde\\nt må der ikke opstilles større mar-\\nkante master til telekommunikation eller lignende. \\n 12 Note: Der henvises i øvrigt til Glostrup Kommunes retningslinjer for placering af mindre tekniske anlæg til et områdes forsyning (energi, vand, tele, netværk, signalstyring og lignende).\\n   4. Udstykninger  4.1  Indenfor lokalplanens område skal\\n udstykninger mv. ske efter kommunal-bestyrelsens godkendelse.   5. Vej-, sti og parkeringsforhold\\n  5.1  Der udlægges vejadgang, stiadgang og parkering efter princippet som vist \\npå kortbilag 3. Der må ligeledes udlægge\\ns, etableres og skiltes med vejside-\\nparkering langs den vestlige side af Florasvej. Der må ikke etableres vej-\\nsideparkering langs Gerdasvej.  \\n5.2  I forbindelse med udvidelse af Sønde\\nrvangsskolens bebyggelse, skal der udlægges p-pladser svarende til følgende:  \\nSkole: 1 plads pr. 3 ansa\\ntte + 1 plads pr. 20 børn SFO:  1 plads pr. 3 ansatte \\n\\nMultihal: 1 plads pr 50 m² \\n  5.3  I forbindelse med udvidelse af Sønderv\\nangsskolens bebyggelse, må antallet \\naf p-pladser, der anlægges, fastsættes svarende til det parkeringsbehov, der kan beregnes for den samlede bebyggelse \\npå det tidspunkt, der kan betegnes som bebyggelsens parkeringsmæssige sp\\nidsbelastning. Der skal i beregnin-gen tages hensyn til særlige funktioner, de\\nr forventeligt vil skabe et større \\nparkeringsbehov end den basale norm anført i pkt. 5.2.      6. Bebyggelsens omfang og placering\\n  6.1  Inden for lokalplanområdet må bebyggelsesprocenten ikke overstige 45. \\n 6.2  Ny bebyggelse, om- og tilbygninger skal \\nopføres indenfor de på bilag 2 \\nviste byggefelter.  6.3  De enkelte bygninger må maksimalt opføres med det antal etager og den \\nhøjde, der er angivet for byggefelterne på bilag 2.   6.4  Mindre bygninger til brug for skolens drift, samt cykeloverdækninger og \\nlignende kan opføres uden for de på bilag 2 viste byggefelter.   13 7. Bebyggelsens ydre fremtræden\\n  7.1  Ydervægge skal opføres i tegl, glas, træ, beton, stål, fibercementplader og lignede byggematerialer. Til mindre bygningsdele kan der anvendes andre \\n\\nmaterialer. Materialerne skal dog fa\\nrvemæssigt harmonere med den øvrige \\nbebyggelse.    7.2  Udvendige tekniske installationer som \\nVentilationsanlæg, aftrækskanaler og \\nlignende skal udformes afdækket eller \\nsom en integreret del af bygningens \\narkitektur og må ikke placeres synligt \\nfra terræn eller på en sådan måde så \\nderes funktion virker generende i nærliggende boligområder. \\n 7.3  Vinduer mod nabobebyggelse på Ingersvej og Edithsvej skal placeres \\nsådan, at indbliksgener undgås.  Note: I bebyggelse med dobbelthøje etager vil vinduer kunne placeres i de øverste etager uden at dette dermed vil medføre indbliksgener til naboerne.    7.4  Skiltning og reklamering må kun finde\\n sted efter kommunalbestyrelsens \\ngodkendelse.    \\n8. Ubebyggede arealer og hegning\\n  8.1  Ubebyggede arealer skal ved beplantning, befæstelse eller lignende gives et ordentligt udseende.  8.2  Friarealer skal plejes og vedligeholdes i overensstemmelse med godkendte \\nbeplantningsplaner, således at de efter kommunalbestyrelsens vurdering til \\nenhver tid fremstår vedligeholdte.  \\n 8.3  Udendørs opholdsarealer, legeområder m.v. skal placeres og indrettes så de \\nikke belastes af trafikstøj, der overstiger Lden 58 dB(A).  \\n8.4  Sti- og parkeringsarealer skal beplantes, befæstes og belyses efter planer, der skal godkendes af kommunalbestyrelsen.  8.5  Udlagte, men ikke anlagte parkeringspl\\nadser skal ved beplantning gives et grønt udseende.  \\n8.6  Udendørs belysning må ikke blænde \\neller være til væsentlig gene for \\nomgivelserne. \\n \\n8.7  Tagvand skal føres til faskine med overløb til kloak, med mindre det kan \\ndokumenteres, at det ikke\\n kan lade sige gøre.  8.8  Placering af opsamlingsmateriel til da\\ngrenovation skal ske i overensstem-\\nmelse med Glostrup Kommunes re\\ngulativ for husholdningsaffald. \\n 14  9. Forudsætninger for ibrugtagning af ny bebyggelse\\n   Ny bebyggelse må ikke uden kommunalbes\\ntyrelses tilladelse tages i brug før: \\n - bebyggelsen er tilsluttet en kraftvarmeforsyning/et varmeforsyningsanlæg \\nmed naturgas, \\n- bebyggelsen er tilsluttet offentlig kloak og vandforsyning, \\n- der er etableret tilstræ\\nkkelige parkeringsfaciliteter \\n 10. Ophævelse af ældre lokalplaner\\n  Lokalplan GL48 for et område ved Hove\\ndvejen, Florasvej og Gerdasvej fra december 1979 ophæves i sin helhed, me\\nns lokalplan FL3 for facader og skilte i områdecenter Glostrup og la\\nngs Hovedvejen fra november 1996 op-\\nhæves for det område, der er omfattet af nærværende lokalplan. \\n \\n 11. Ophævelse af servitutter   Følgende servitutter der er\\n tinglyst på ejendommene indenfor lokalplanens område ophæves af lokalplanen i medfør\\n af planlovens § 15, stk. 2 nr. 16, og/eller § 18 Œ eller vil blive søgt aflyst ved kvittering:   Servitut lyst den 25. juli 1906 om \\nbebyggelse, benyttelses mv. på \\nmatr. nr. 9fh, Glostrup By, Glostrup. \\n  15 12. Lokalplanens retsvirkninger  Efter kommunalbestyrelsens endelige vedtagelse og offentliggørelse af lo-kalplanen må ejendomme, der er omfattet af planen, ifølge Planlovens § 18 kun udstykkes, bebygges eller i øvrigt anvendes i overensstemmelse med \\nplanens bestemmelser. \\n Den eksisterende lovlige anvendelse af en ejendom kan fortsætte som hidtil. \\n\\nLokalplanen medfører heller ikke i sig se\\nlv krav om etablering af de anlæg \\nm.v., der er indeholdt i planen.  Kommunalbestyrelsen kan meddele disp\\nensation fra lokalplanens bestem-\\nmelser, hvis dispensationen ikke er i \\nstrid med principperne i planen. Vide-\\nregående afvigelser fra lokalplanen kan kun gennemføres ved en ny lokal-plan.  Private byggeservitutter og andre tilstandsservitutter, der er uforenelige med \\nlokalplanen, fortrænges af planen, jf. § 18 i Planloven.   \\nVedtagelsespåtegning  Lokalplanen er endeligt vedtaget af Glostrup Kommunalbestyrelse, den 8. juni 2011. \\n \\n \\n \\nGLOSTRUP KOMMUNALBESTYRELSE, den 28. juni 2011. \\n \\n \\n \\n \\n \\n John Engelhardt \\n          Borgmester \\n /               \\n  Lone Lyrskov \\n                      Kommunaldirektør \\n05.3019.3007.1516.4509.1014.1515.2508.402 etager (8,5 m)9fc\\n9lv\\n9ml\\n1ct\\n9hø\\n9hg\\n9hh\\n9hy\\n9hz\\n9kf\\n9ke\\n9ia\\n9kg\\n9ib\\n9go\\n9gp\\n9gq\\n9gr\\n9gs\\n9gt\\n9gu\\n9gæ\\n9hi\\n9gv\\n9gx\\n9gy\\n9gz\\n9gø\\n9ko\\n9iu\\n9fg\\n9fy\\n9fh\\n9ip\\n9hq\\n9hs\\n9ht\\n9iz\\n1nr\\n1ef\\n1eg\\n1eh\\n1ei\\n1gp\\n9hæ\\nFL\\nORASVEJ\\nINGERSVEJ\\nHOVEDVE\\nJE\\nNEDITHSVEJ\\n9fc\\n9lv\\n9ml\\n1ct\\n9hø\\n9hg\\n9hh\\n9hy\\n9hz\\n9kf\\n9ke\\n9ia\\n9kg\\n9ib\\n9go\\n9gp\\n9gq\\n9gr\\n9gs\\n9gt\\n9gu\\n9gæ\\n9hi\\n9gv\\n9gx\\n9gy\\n9gz\\n9gø\\n9ko\\n9iu\\n9fg\\n9fy\\n9fh\\n9ip\\n9hq\\n9hs\\n9ht\\n9iz\\n1nr\\n1ef\\n1eg\\n1eh\\n1ei\\n1gp\\n9hæ\\nFL\\nORASVEJ\\nINGERSVEJ\\nHOVEDVE\\nJE\\nNEDITHSVEJ\\nLOKALPLAN GL48.1KORTBILAG 3Glostrup KommuneSØNDERVANGSSKOLENVejadgang, stiadgang og parkeringDato: 20. december 2010Mål: 1:1.500\\n¸LokalplangrænseMatrikelsskelBygning tagStiadgangAdgangeUdlagt parkeringCopyright, Kort- og Matrikelstyrelsen9fc\\n9lv\\n9ml\\n1ct\\n9hø\\n9hg\\n9hh\\n9hy\\n9hz\\n9kf\\n9ke\\n9ia\\n9kg\\n9ib\\n9go\\n9gp\\n9gq\\n9gr\\n9gs\\n9gt\\n9gu\\n9gæ\\n9hi\\n9gv\\n9gx\\n9gy\\n9gz\\n9gø\\n9ko\\n9iu\\n9fg\\n9fy\\n9fh\\n9ip\\n9hq\\n9hs\\n9ht\\n9iz\\n1nr\\n1ef\\n1eg\\n1eh\\n1ei\\n1gp\\n9hæ\\nFL\\nORASVEJ\\nINGERSVEJ\\nHOVEDVE\\nJE\\nNEDITHSVEJ\\nLOKALPLAN GL48.1KORTBILAG 2B\\nGlostrup KommuneSØNDERVANGSSKOLENByggefelter - Alternativ 2 Dato: 20. december 2010Mål: 1:1.500\\n¸LokalplangrænseMatrikelsskelBygning tagCopyright, Kort- og MatrikelstyrelsenByggefelt - 1 etage/4 mByggefelt - 1 etage/8,5 mByggefelt - 2 etager/8,5 mByggefelt - 3 etager/12 m9fc\\n9lv\\n9ml\\n1ct\\n9hø\\n9hg\\n9hh\\n9hy\\n9hz\\n9kf\\n9ke\\n9ia\\n9kg\\n9ib\\n9go\\n9gp\\n9gq\\n9gr\\n9gs\\n9gt\\n9gu\\n9gæ\\n9hi\\n9gv\\n9gx\\n9gy\\n9gz\\n9gø\\n9ko\\n9iu\\n9fg\\n9fy\\n9fh\\n9ip\\n9hq\\n9hs\\n9ht\\n9iz\\n1nr\\n1ef\\n1eg\\n1eh\\n1ei\\n1gp\\n9hæ\\nFL\\nORASVEJ\\nINGERSVEJ\\nHOVEDVE\\nJE\\nNEDITHSVEJ\\nLOKALPLAN GL48.1KORTBILAG 2A\\nGlostrup KommuneSØNDERVANGSSKOLENByggefelter - Alternativ 1 Dato: 20. december 2010Mål: 1:1.500\\n¸LokalplangrænseMatrikelsskelBygning tagByggefelt - 1 etage/4 mByggefelt - 1 etage/8,5 mByggefelt - 2 etager/8,5 mByggefelt - 3 etager/12 mCopyright, Kort- og MatrikelstyrelsenLOKALPLAN GL48.1KORTBILAG 1\\nGlostrup KommuneSØNDERVANGSSKOLENLokalplanens område Dato: 20. december 2010Mål: 1:1.500\\n¸LokalplangrænseMatrikelsskelBygning tagCopyright, Kort- og Matrikelstyrelsen9fc\\n9lv\\n9ml\\n1ct\\n9hø\\n9hg\\n9hh\\n9hy\\n9hz\\n9kf\\n9ke\\n9ia\\n9kg\\n9ib\\n9go\\n9gp\\n9gq\\n9gr\\n9gs\\n9gt\\n9gu\\n9gæ\\n9hi\\n9gv\\n9gx\\n9gy\\n9gz\\n9gø\\n9ko\\n9iu\\n9fg\\n9fy\\n9fh\\n9ip\\n9hq\\n9hs\\n9ht\\n9iz\\n1nr\\n1ef\\n1eg\\n1eh\\n1ei\\n1gp\\n9hæ\\nFL\\nORASVEJ\\nINGERSVEJ\\nHOVEDVE\\nJE\\nNEDITHSVEJ\\n05.3019.3007.1516.4509.1014.1515.2508.402 etager (8,5 m)9fc\\n9lv\\n9ml\\n1ct\\n9hø\\n9hg\\n9hh\\n9hy\\n9hz\\n9kf\\n9ke\\n9ia\\n9kg\\n9ib\\n9go\\n9gp\\n9gq\\n9gr\\n9gs\\n9gt\\n9gu\\n9gæ\\n9hi\\n9gv\\n9gx\\n9gy\\n9gz\\n9gø\\n9ko\\n9iu\\n9fg\\n9fy\\n9fh\\n9ip\\n9hq\\n9hs\\n9ht\\n9iz\\n1nr\\n1ef\\n1eg\\n1eh\\n1ei\\n1gp\\n9hæ\\nFL\\nORASVEJ\\nINGERSVEJ\\nHOVEDVE\\nJE\\nNEDITHSVEJ\\n9fc\\n9lv\\n9ml\\n1ct\\n9hø\\n9hg\\n9hh\\n9hy\\n9hz\\n9kf\\n9ke\\n9ia\\n9kg\\n9ib\\n9go\\n9gp\\n9gq\\n9gr\\n9gs\\n9gt\\n9gu\\n9gæ\\n9hi\\n9gv\\n9gx\\n9gy\\n9gz\\n9gø\\n9ko\\n9iu\\n9fg\\n9fy\\n9fh\\n9ip\\n9hq\\n9hs\\n9ht\\n9iz\\n1nr\\n1ef\\n1eg\\n1eh\\n1ei\\n1gp\\n9hæ\\nFL\\nORASVEJ\\nINGERSVEJ\\nHOVEDVE\\nJE\\nNEDITHSVEJ\\nLOKALPLAN GL48.1KORTBILAG 3Glostrup KommuneSØNDERVANGSSKOLENVejadgang, stiadgang og parkeringDato: 20. december 2010Mål: 1:1.500\\n¸LokalplangrænseMatrikelsskelBygning tagStiadgangAdgangeUdlagt parkeringCopyright, Kort- og Matrikelstyrelsen9fc\\n9lv\\n9ml\\n1ct\\n9hø\\n9hg\\n9hh\\n9hy\\n9hz\\n9kf\\n9ke\\n9ia\\n9kg\\n9ib\\n9go\\n9gp\\n9gq\\n9gr\\n9gs\\n9gt\\n9gu\\n9gæ\\n9hi\\n9gv\\n9gx\\n9gy\\n9gz\\n9gø\\n9ko\\n9iu\\n9fg\\n9fy\\n9fh\\n9ip\\n9hq\\n9hs\\n9ht\\n9iz\\n1nr\\n1ef\\n1eg\\n1eh\\n1ei\\n1gp\\n9hæ\\nFL\\nORASVEJ\\nINGERSVEJ\\nHOVEDVE\\nJE\\nNEDITHSVEJ\\nLOKALPLAN GL48.1KORTBILAG 2B\\nGlostrup KommuneSØNDERVANGSSKOLENByggefelter - Alternativ 2 Dato: 20. december 2010Mål: 1:1.500\\n¸LokalplangrænseMatrikelsskelBygning tagCopyright, Kort- og MatrikelstyrelsenByggefelt - 1 etage/4 mByggefelt - 1 etage/8,5 mByggefelt - 2 etager/8,5 mByggefelt - 3 etager/12 m9fc\\n9lv\\n9ml\\n1ct\\n9hø\\n9hg\\n9hh\\n9hy\\n9hz\\n9kf\\n9ke\\n9ia\\n9kg\\n9ib\\n9go\\n9gp\\n9gq\\n9gr\\n9gs\\n9gt\\n9gu\\n9gæ\\n9hi\\n9gv\\n9gx\\n9gy\\n9gz\\n9gø\\n9ko\\n9iu\\n9fg\\n9fy\\n9fh\\n9ip\\n9hq\\n9hs\\n9ht\\n9iz\\n1nr\\n1ef\\n1eg\\n1eh\\n1ei\\n1gp\\n9hæ\\nFL\\nORASVEJ\\nINGERSVEJ\\nHOVEDVE\\nJE\\nNEDITHSVEJ\\nLOKALPLAN GL48.1KORTBILAG 2\\nGlostrup KommuneSØNDERVANGSSKOLENByggefelter Dato: 20. december 2010Mål: 1:1.500\\n¸LokalplangrænseMatrikelsskelBygning tagByggefelt - 1 etage/4,5 mByggefelt - 1 etage/9 mByggefelt - 2 etager/9 mByggefelt - 3 etager/12 mCopyright, Kort- og MatrikelstyrelsenLOKALPLAN GL48.1KORTBILAG 1\\nGlostrup KommuneSØNDERVANGSSKOLENLokalplanens område Dato: 20. december 2010Mål: 1:1.500\\n¸LokalplangrænseMatrikelsskelBygning tagCopyright, Kort- og Matrikelstyrelsen9fc\\n9lv\\n9ml\\n1ct\\n9hø\\n9hg\\n9hh\\n9hy\\n9hz\\n9kf\\n9ke\\n9ia\\n9kg\\n9ib\\n9go\\n9gp\\n9gq\\n9gr\\n9gs\\n9gt\\n9gu\\n9gæ\\n9hi\\n9gv\\n9gx\\n9gy\\n9gz\\n9gø\\n9ko\\n9iu\\n9fg\\n9fy\\n9fh\\n9ip\\n9hq\\n9hs\\n9ht\\n9iz\\n1nr\\n1ef\\n1eg\\n1eh\\n1ei\\n1gp\\n9hæ\\nFL\\nORASVEJ\\nINGERSVEJ\\nHOVEDVE\\nJE\\nNEDITHSVEJ\\n05.3019.3007.1516.4509.1014.1515.2508.402 etager (8,5 m)9fc\\n9lv\\n9ml\\n1ct\\n9hø\\n9hg\\n9hh\\n9hy\\n9hz\\n9kf\\n9ke\\n9ia\\n9kg\\n9ib\\n9go\\n9gp\\n9gq\\n9gr\\n9gs\\n9gt\\n9gu\\n9gæ\\n9hi\\n9gv\\n9gx\\n9gy\\n9gz\\n9gø\\n9ko\\n9iu\\n9fg\\n9fy\\n9fh\\n9ip\\n9hq\\n9hs\\n9ht\\n9iz\\n1nr\\n1ef\\n1eg\\n1eh\\n1ei\\n1gp\\n9hæ\\nFL\\nORASVEJ\\nINGERSVEJ\\nHOVEDVE\\nJE\\nNEDITHSVEJ\\n9fc\\n9lv\\n9ml\\n1ct\\n9hø\\n9hg\\n9hh\\n9hy\\n9hz\\n9kf\\n9ke\\n9ia\\n9kg\\n9ib\\n9go\\n9gp\\n9gq\\n9gr\\n9gs\\n9gt\\n9gu\\n9gæ\\n9hi\\n9gv\\n9gx\\n9gy\\n9gz\\n9gø\\n9ko\\n9iu\\n9fg\\n9fy\\n9fh\\n9ip\\n9hq\\n9hs\\n9ht\\n9iz\\n1nr\\n1ef\\n1eg\\n1eh\\n1ei\\n1gp\\n9hæ\\nFL\\nORASVEJ\\nINGERSVEJ\\nHOVEDVE\\nJE\\nNEDITHSVEJ\\nLOKALPLAN GL48.1KORTBILAG 3Glostrup KommuneSØNDERVANGSSKOLENVejadgang, stiadgang og parkeringDato: 20. december 2010Mål: 1:1.500\\n¸LokalplangrænseMatrikelsskelBygning tagStiadgangAdgangeUdlagt parkeringCopyright, Kort- og Matrikelstyrelsen9fc\\n9lv\\n9ml\\n1ct\\n9hø\\n9hg\\n9hh\\n9hy\\n9hz\\n9kf\\n9ke\\n9ia\\n9kg\\n9ib\\n9go\\n9gp\\n9gq\\n9gr\\n9gs\\n9gt\\n9gu\\n9gæ\\n9hi\\n9gv\\n9gx\\n9gy\\n9gz\\n9gø\\n9ko\\n9iu\\n9fg\\n9fy\\n9fh\\n9ip\\n9hq\\n9hs\\n9ht\\n9iz\\n1nr\\n1ef\\n1eg\\n1eh\\n1ei\\n1gp\\n9hæ\\nFL\\nORASVEJ\\nINGERSVEJ\\nHOVEDVE\\nJE\\nNEDITHSVEJ\\nLOKALPLAN GL48.1KORTBILAG 2B\\nGlostrup KommuneSØNDERVANGSSKOLENByggefelter - Alternativ 2 Dato: 20. december 2010Mål: 1:1.500\\n¸LokalplangrænseMatrikelsskelBygning tagCopyright, Kort- og MatrikelstyrelsenByggefelt - 1 etage/4 mByggefelt - 1 etage/8,5 mByggefelt - 2 etager/8,5 mByggefelt - 3 etager/12 m9fc\\n9lv\\n9ml\\n1ct\\n9hø\\n9hg\\n9hh\\n9hy\\n9hz\\n9kf\\n9ke\\n9ia\\n9kg\\n9ib\\n9go\\n9gp\\n9gq\\n9gr\\n9gs\\n9gt\\n9gu\\n9gæ\\n9hi\\n9gv\\n9gx\\n9gy\\n9gz\\n9gø\\n9ko\\n9iu\\n9fg\\n9fy\\n9fh\\n9ip\\n9hq\\n9hs\\n9ht\\n9iz\\n1nr\\n1ef\\n1eg\\n1eh\\n1ei\\n1gp\\n9hæ\\nFL\\nORASVEJ\\nINGERSVEJ\\nHOVEDVE\\nJE\\nNEDITHSVEJ\\nLOKALPLAN GL48.1KORTBILAG 2\\nGlostrup KommuneSØNDERVANGSSKOLENByggefelter Dato: 20. december 2010Mål: 1:1.500\\n¸LokalplangrænseMatrikelsskelBygning tagByggefelt - 1 etage/4,5 mByggefelt - 1 etage/9 mByggefelt - 2 etager/9 mByggefelt - 3 etager/12 mCopyright, Kort- og MatrikelstyrelsenLOKALPLAN GL48.1KORTBILAG 1\\nGlostrup KommuneSØNDERVANGSSKOLENLokalplanens område Dato: 20. december 2010Mål: 1:1.500\\n¸LokalplangrænseMatrikelsskelBygning tagCopyright, Kort- og Matrikelstyrelsen9fc\\n9lv\\n9ml\\n1ct\\n9hø\\n9hg\\n9hh\\n9hy\\n9hz\\n9kf\\n9ke\\n9ia\\n9kg\\n9ib\\n9go\\n9gp\\n9gq\\n9gr\\n9gs\\n9gt\\n9gu\\n9gæ\\n9hi\\n9gv\\n9gx\\n9gy\\n9gz\\n9gø\\n9ko\\n9iu\\n9fg\\n9fy\\n9fh\\n9ip\\n9hq\\n9hs\\n9ht\\n9iz\\n1nr\\n1ef\\n1eg\\n1eh\\n1ei\\n1gp\\n9hæ\\nFL\\nORASVEJ\\nINGERSVEJ\\nHOVEDVE\\nJE\\nNEDITHSVEJ\\nOVERSIGTSKORT\\nGLOSTRUP KOMMUNE\\nKRAKS FORLAG A/S\\n'}},\n",
       "   {'_index': 'plandata',\n",
       "    '_type': 'plan',\n",
       "    '_id': 'eWArZWYBpMqA1-ytBbtS',\n",
       "    '_score': 1.0,\n",
       "    '_source': {'planid': 1102789,\n",
       "     'dokument': 'Lokalplan GL 54.1  for et område ved Gl. Landevej til Kennedy Instituttet / Statens Øjenklinik   Indholdsfortegnelse:   PLANREDEGØRELSE  Lokalplanens baggrund side 2 Lokalplanens område side 2 Lokalplanens formål side 3 Lokalplanens indhold side 3 Lokalplanens forhold til anden planlægning side 4 Byøkologi og ressourcer side 9   LOKALPLANENS BESTEMMELSER   1. Lokalplanens formål side 10 2.  Lokalplanens område side 10 3.  Områdets anvendelse side 10 4.  Udstykninger side 11 5.  Vej-, sti- og parkeringsforhold side 11 6.  Bebyggelsens omfang og placering side 12 7.  Bebyggelsens ydre fremtræden side 12 8.  Ubebyggede arealer og hegning side 13 9.  Forudsætninger for ibrugtagning side 14  af ny bebyggelse 10. Ophævelse af ældre byplanvedtægter/lokalplaner side 14 11.  Lokalplanens retsvirkninger side 14  Vedtagelsespåtegning side 15   Kortbilag 1: Lokalplanens område Kortbilag 2: Lokalplanens anvendelse og byggefelter Kortbilag 3: Vej- og stiadgang og parkeringsforhold 1 PLANREDEGØRELSE   Lokalplanens baggrund  Baggrunden for lokalplanen er, at John F. Kennedy Instituttet og Statens Øjenklinik pr. 1.1.2003 er fusioneret og ønskes samlet på John F. Kennedy Instituttets adresse på Gl. Landevej 7 i Glostrup. Statens Øjenklinik flytter fra den hidtidige adresse på Rymarksvej i Hellerup. Begge institutioner er sektorforskningsinstitutioner under Socialministeriet med landsdækkende patientbehandling.  Lokalplanen og en efterfølgende arkitektkonkurrence skal muliggøre et samlet etageareal på i alt 4.600 m2, idet en del af de eksisterende bygninger dog forventes genbrugt. Byggeriet skal indeholde laboratorier, øjenklinik, behandlings- og rådgivningsfaciliteter, patienthotel/bohus, administration og lager, samt legeplads for patienter og udeopholdsarealer for patienter og personale.   Lokalplanens område  Lokalplanområdet omfatter matr. nr. 44 og matr. nr. 74 Glostrup By, Glo-strup, og har et grundareal på ca. 22.000  m2. Området rummer i dag John F. Kennedy Instituttet, som er en behandlings- og rådgivningsinstitution inden for medfødte handicap, især sygdomme der medfører mental retardering. Institutionen er i dag indrettet i flere bygninger i én etage. I lokalplanområ-det findes endvidere en mindre HNG-gasstation og en NESA-transformer. Inden for lokalplanområdet er udlagt en 6 m bred privat fællesvej langs med Gl. Landevej. Den private fællesvej fungerer også som vejadgang til HNG™s gasstation. Herfra er der via endnu en privat fællesvej mod lokalplanområ-dets vestskel tilslutning til Gl. Landevej. Denne direkte adgangsvej fra Gl. Landevej benyttes endvidere til Industriværkstedet tilhørende Københavns Amt og til Haveforeningen Hersted i Albertslund Kommune.  Lokalplanområdet er omkranset af en tæt lukket beplantning mod vej og mod naboskel, med en beplantet jordvold mod Gl. Landevej og til dels i skel mod øst. Den sydlige del henligger som park med en tæt træplantning mod skel mod syd. Terrænet er stort set plant med et svagt fald mod sydvest.  Lokalplanområdet støder mod øst op til et parcelhusområde (Stjernevangen) og mod syd og vest til institutioner under Københavns Amt (Amtssygehuset i Glostrup - Nordvang, beskæftigelsesværkstedet Industriværkstedet og bør-neinstitutionen Kirsebærhuset). Mod nord støder lokalplanområdet op til Gl. Landevej beliggende i Albertslund Kommune og nord for denne industriom-rådet Hersted Industripark.   2 Lokalplanens formål  Det er lokalplanens formål at fastlægge områdets anvendelse til offentlige formål, sygehus, klinik og forskning med tilhørende administration og ser-vicefunktioner, at give mulighed for en udbygning af bebyggelsen, at fast-lægge byggemulighederne i området, at forbedre vej- og stiadgange til om-rådet, og at give området en grøn karakter.   Lokalplanens indhold  Lokalplanen giver mulighed for at skabe et behandlings- og forskningsom-råde med en grøn karakter og med en overvejende lav bebyggelse. Vej- og stiadgangen til området forbedres og sker alene fra nord.  Lokalplanen fastholder områdets anvendelse til offentlige formål (sygehus og forskning) med mulighed for laboratorier/forskning, behandling, patient-hotel/bohus, administration og med mulighed for indretning af enkelte gæ-steboliger til brug for bl.a. gæsteforskere tilknyttet institutionen.  Der kan opføres ny bebyggelse inden for en bebyggelsesprocent på max. 40 for hver enkelt ejendom. Bebyggelsen skal placeres inden for byggefelter som vist på kortbilag 2 med en afstand på mindst 10 m fra naboskel mod vest og mindst 15 m fra naboskel mod øst, bortset fra enkelte mindre udhu-se, herunder affaldsskure, cykelskur o.lign. Bebyggelsen kan opføres i hen-holdsvis 1 etage i byggefelt A (mod øst), 2 etager i byggefelt B og 3 etager i byggefelt C (mod vest) og kan opføres med kælder. Teknik, ventilation m.v. må ikke placeres på taget, men skal placeres indvendigt i tagrummene. Be-byggelsen må opføres med en højde på henholdsvis max. 7,5 m i byggefelt A, max. 10 m i byggefelt B og max 14 m i byggefelt C.   Lokalplanen giver mulighed for at erstatte den nuværende uhensigtsmæssige og trafikfarlige vejadgang med en ny direkte vejadgang og en ny stiadgang fra Gl. Landevej placeret inden for en zone på 75 m. Den eksisterende vej-adgang langs Gl. Landevej kan opretholdes som vejadgang alene til HNG´s gasstation beliggende i området, eller den kan lukkes helt, og arealet udlæg-ges til sekundær parkeringsareal (P2). Parkering til personale, ambulante og indlagte patienter og pårørende/gæster skal indrettes inden for det primære parkeringsområde (P1), som fremgår af kortbilag 2. Såfremt det kan påvises, at der ikke er tilstrækkeligt areal til at dække parkeringsbehovet inden for P1, kan der anlægges parkeringspladser i P2.  Der kan anlægges en intern vej øst om byggefelt A til en vendeplads med højst 6 parkeringspladser alene til brug for bohuset. Herudover kan der ind-rettes 3 handicap-parkeringspladser umiddelbart nord for byggefeltet ved den nye adgangsvej.  Området skal fremtræde med en grøn, parkagtig karakter. En beplantnings-plan skal fastlægge indretningen af de ubebyggede arealer og beplantninger og belægninger efter kommunens nærmere godkendelse. Der skal oprethol-3 des eller etableres et beplantningsbælte i en bredde af mindst 5 m mod na-boskel samt mod en del af vejskellet mod Gl. Landevej som vist på kortbi-lag 2. Mod boligområdet ved Stjernevangen mod øst skal beplantningsbæl-tet etableres med en lav (ikke-skyggegivende) beplantning. Arealet mod Gl. Landevej skal have en grøn karakter med græs, buske og træer. Udendørs legeareal for børn må ikke placeres på de udendørs arealer øst for bebyggel-sen, men skal placeres mod syd eller vest eller inde i bebyggelsen, ligeledes af hensyn til boligområdet ved Stjernevangen.  Der er foretaget en screening af lokalplanens miljømæssige påvirkninger, hvoraf det vurderes, at der ikke er behov for at udarbejde en egentlig miljø-vurdering af lokalplanen.   Lokalplanens forhold til anden planlægning  Regionplan 2001 for Københavns Amt  Lokalplanområdets beliggenhed er ikke stationsnært. Lokalplanen giver alene mulighed for en modernisering af rammerne for de hidtidige aktivite-ter på John F. Kennedy Instituttet og for en begrænset udbygning med hen-blik på  indflytning af aktiviteterne fra Statens Øjenklinik for at realisere den gennemførte fusion. Lokalplanen vurderes derfor at være i overens-stemmelse med regionplanlægningen.   Kommuneplan 2003 - 2015  Lokalplanens område indgår i Glostrup Kommuneplan 2003-2015 i ramme-område GO5: K.A.S. Nordvang. Området umiddelbart øst for lokalplanom-rådet indgår i rammeområde GB6: Almindeligt parcelhusområde.  For rammeområde GO5 gælder følgende rammer for lokalplanlægningen:  a. at områdets anvendelse fastlægges til offentlige formål: sygehus og lig-nende,  b. at bebyggelsesprocenten for området under ét ikke overstiger 120,  c. at bebyggelse ikke opføres med mere end 3 etager, og at bygningshøjden ikke overstiger 14 m.  For naboområdet rammeområde GB6 gælder følgende rammer for lokal-planlægningen:  a. at områdets anvendelse fastlægges til boligformål, og at der kun må opfø-res åben-lav boligbebyggelse,  b. at grunde skal have en størrelse på mindst 700 m2, 4  c. at bebyggelsesprocenten for den enkelte grund ikke overstiger 35,  d. at bebyggelse ikke opføres med mere end 1 etage med udnyttet tagetage, og at bygningshøjden ikke overstiger 8,5 m.  Lokalplanen er således i overensstemmelse med Glostrup Kommuneplan.  Området umiddelbart nord for lokalplanområdet er beliggende i Albertslund Kommune og indgår i Albertslund Kommuneplan 2010 i rammeområde E1: Hersted Industripark og område E16: Randejendomme ved Smedeland/Gl. Landevej (over for Stjernevangen).  For område E1 i Albertslund Kommuneplan gælder følgende rammer for lokalplanlægningen: Området er udlagt til erhvervsområde med etagebe-byggelse med en maksimal bebyggelsestæthed på 1,5 m3 pr. m2 grundareal, maksimal bygningshøjde 3 etager og 12 m, dog med mulighed for at søge om indtil 30 m høje silobygninger og lignende anlæg.  For område E16 i Albertslund Kommuneplan gælder følgende rammer for lokalplanlægningen: Området er udlagt til erhvervsområde med etagebe-byggelse med en maksimal bebyggelsestæthed på 1,5 m3 pr. m2 grundareal, maksimal bygningshøjde 3 etager og 12 m, uden høje silobygninger og an-dre høje tekniske anlæg.   Byplanvedtægter og lokalplaner  Lokalplanområdet er omfattet af lokalplan GL 54. Denne lokalplan ophæves med den endelige vedtagelse af denne lokalplan.   Trafik  Vejadgangen til lokalplanområdet er i dag uhensigtsmæssig og trafiksikker-hedsmæssigt uheldig. Den skiltede stiadgang fra Gl. Landevej inviterer til uønsket parkering for aflæsning af varer. Stien langs Gl. Landevej er en ikke-delt fælles gang- og cykelsti, hvilket ikke er hensigtsmæssigt for blin-des færdsel. Vejadgangen fra Gl. Landevej krydser denne sti med et uover-skueligt og dermed usikkert forløb. Vejadgangen til Industriværkstedet be-nyttes til gennemkørsel for personale til Nordvang og for personale og for-ældrekørsel til børneinstitutionen Kirsebærhuset. Denne kørsel sker langs lokalplanområdets skel mod vest.  Lokalplanen giver mulighed for, at der etableres en ny direkte vejadgang fra Gl. Landevej til lokalplanområdet, herunder med vejadgang til HNG´s gas-station og til NESA´s transformer. Den eksisterende adgangsvej langs Gl. Landevej vil dermed kunne lukkes og udlægges til sekundært parkerings-areal for området som vist på kortbilag 2. 5 Parkering indrettes primært ved lokalplanområdets vestskel og sekundært ved den eksisterende vejadgang til området langs Gl. Landevej. Endvidere kan der indrettes en lille parkeringsplads til højst 6 biler øst for byggefelt A alene til brug for indlagte i bohuset. Endelig kan der indrettes 3 handicap-parkeringspladser umiddelbart nord for byggefeltet ved den nye direkte ad-gangsvej fra Gl. Landevej. Der etableres særskilt adgang for gående fra stien langs Gl. Landevej til området.  Dansk Center for Tilgængelighed har i maj 2004 udarbejdet en rapport om etablering af en tilgængelig rute for blinde og svagtseende fra Glostrup Sta-tion til Kennedy Instituttet / Statens Øjenklinik.  Inden for lokalplanområdet foreslås der i rapporten etableret en mindst 1,5 m bred sti fra Gl. Landevej med ledelinie, ramper og markering af ind-gangsparti. Uden for lokalplanområdet Œ i Albertslund Kommune - foreslås der i rapporten etableret forbedrede stiforløb frem til busstoppesteder på Smedeland og Nordre Ringvej/Mellemtoftevej med adskillelse af fortov og cykelsti, ledelinier og taktile felter og bedre krydsninger af veje med aku-stisk signal. Endvidere foreslås der Œ i Glostrup Kommune - en række for-bedringer af gangruten fra Banegårdspladsen ved Glostrup Station via Ba-negårdsvej, Nørre Allé og Mellemtoftevej.   Forsyning  Området skal tilsluttes naturgasnettet. Området skal endvidere tilsluttes Gstrup Kommunes vandforsyning og Albertslund Kommunes kloakforsyning.lo-   Miljøforhold  Støj: Eventuel støj fra ventilationsanlæg og lignende er omfattet af reglerne i mil-jølovgivningen. Med lokalplanen stilles der endvidere krav om, at udendørs legearealer støjmæssigt afskærmes med bebyggelse mod det eksisterende boligområde mod øst. Lokalplanen forventes således ikke at påføre naboom-råderne støjgener.  Skyggevirkninger: Som det fremgår af de bebyggelsesregulerende bestemmelser, må der i lo-kalplanområdets østlige del (Byggefelt A) ikke opføres bebyggelse med en større højde end 7,5 m. Herefter kan bebyggelsen trappes op således, at der i byggefelt B kan opføres bebyggelse i op til 10 m og i byggefelt C kan der opføres bebyggelse i op til 14 m. Bebyggelsen skal endvidere placeres mindst 15 m fra skel mod den eksisterende boligbebyggelse mod øst. Med udgangspunkt i at disse bestemmelser udnyttes fuldt ud, er der foretaget en vurdering af skyggevirkningerne i forhold til den eksisterende nabobebyg-6 gelse mod øst i juni måned og ved jævndøgn (se nedenstående principsnit, tegningen er ikke målfast). Skyggevirkningerne vurderes ikke at påføre na-boområderne væsentlige gener.     Jordforurening: Der er ikke kendskab til forurening på ejendommen. Der er fundamenter fra et tidligere drivhus på den vestlige del af ejendommen. Opdages jordforure-ning i forbindelse med byggeri og anlæg, skal gældende lovgivning for un-dersøgelse og bortskaffelse overholdes.  Udledning til omgivelserne: På laboratoriet modtages bold- og vævsprøver fra danske og udenlandske patienter, der udsættes for diverse undersøgelser. Der udledes ikke miljøfar-lige stoffer til omgivelserne og laboratoriearbejdet indebærer ingen risiko for omgivelserne.  Affald: Ud over almindeligt kontoraffald og husholdningsaffald produceres kemisk affald og hospitalsaffald samt radioaktivt affald i begrænsede mængder. Mængden af kemisk-, hospitals- og radioaktivt affald øges ikke i forhold til de nuværende begrænsede mængder. Affaldet opbevares og håndteres i hen-hold til Glostrup Kommunes affaldsregulativ. Der forventes således ikke en øget miljøpåvirkning som følge af affaldshåndteringen.   Transport: Trafikken til og fra lokalplanområdet planlægges afviklet som beskrevet ovenfor med etablering af en ny vejadgang til området samt en ny stiforbin-delse. Vej- og stiforbindelser er indarbejdet med baggrund i en rapport ud-arbejdet af Dansk Center for Tilgængelighed, hvori etableringen af en tilgængelig rute for blinde og svagtseende fra Glostrup Station til Kennedy 7 gængelig rute for blinde og svagtseende fra Glostrup Station til Kennedy Instituttet / Statens Øjenklinik behandles.  I relation til fusionen mellem Kennedy Instituttet og Statens Øjenklinik er der foretaget en vurdering af den fremtidige transport til og fra den sammen-lagte institution, se nedenstående skema.   Forhold i dag (2004) Forhold efter sammen-flytning (2007) Medarbejdere i bil 60 70 Medarbejdere på cykel 15 15 Medarbejdere som be-nytter offentlig trans-port 5 15 Patienter i bil pr. år. 1.150 2.800 Patienter med offentlig transport pr. år. 50 1.700 Vareleveringer pr. dag Ca. 10 10 Œ 15  Som det fremgår, forventes mindre stigninger i antallet af varetransporter og medarbejdere, der kommer i bil, mens antallet af patienter i bil forventes at stige ca. 2½ gang. Samlet set vurderes transporten til og fra institutionen dog ikke at have et omfang, der påvirker miljøet væsentligt.  Screening af miljøpåvirkninger: Der er endvidere foretaget en screening af lokalplanens miljøpåvirkninger. På baggrund heraf vurderes det, at der ikke er behov for at udarbejde en egentlig miljøvurdering af denne lokalplan.   Servitutter og deklarationer  Der er tinglyst deklaration af gasledninger på ejendommen med HNG som påtaleberettiget.  Der er tinglyst deklaration af elledninger og transformerstation med NESA som påtaleberettiget.   Museumsloven  Hvis der under jordarbejder findes spor af fortidsminder, skal arbejdet standses og anmeldes til Museum for Astronomi, Nyere tid, Arkæologi, An-tikvarisk enhed, Kroppedals Allé, 2630 Tåstrup ( Museumsloven Œ lov nr. 473 af 7. juni 2001, § 27 stk.2). Oplysninger kan evt. indhentes på Museet inden arbejdet påbegyndes.   8 Byøkologi og ressourcer  I Glostrup Kommunes Agenda 21 plan 2004-2008 indgår en målsætning om, at der i forbindelse med nybyggeri og byfornyelse skal overvejes, hvor-vidt økologiske holdninger om vandbesparelse, energibesparende klimazo-ner, kompostering m.m. skal indarbejdes.  Det er kommunalbestyrelsens hensigt i videst muligt omfang at søge gen-brug af materialer og øvrige byøkologiske tiltag indarbejdet ved nybyggeri og ved anlæg af nye veje, pladser, torve m.v.  Med hensyn til varme, el, affald, vandforsyning og spildevandsrensning er det kommunalbestyrelsens hensigt så vidt muligt at søge tekniske og organi-satoriske foranstaltninger til nedbringelse af ressourceforbruget indarbejdet ved nybyggeri. Der bør i den anledning ikke alene tages udgangspunkt i den nuværende situation, men også tages hensyn til fremtiden.  Det henstilles derfor, at der ved nybyggeri og anlægsarbejder sker en kon-kret vurdering af mulighederne for at indarbejde økologiske løsninger. 9 LOKALPLANENS BESTEMMELSER  Lokalplan GL 54.1  for et område ved Gl. Landevej til Kennedy Instituttet / Statens Øjenklinik    I henhold til planloven (lovbekendtgørelse nr. 883 af 18. august 2004) fast-sættes hermed følgende bestemmelser for det i pkt. 2 nævnte område.   1.  Lokalplanens formål  1.1 Det er lokalplanens formål: at fastlægge områdets anvendelse til offentlige formål, sygehus med pati-enthotel/bohus, klinik og forskning med tilhørende administration og ser-vicefunktioner, samt enkelte gæsteboliger med tilknytning hertil, at give mulighed for en udbygning af bebyggelsen, at fastlægge byggemulighederne i området, at forbedre vej- og stiadgange til området, og at give området en grøn karakter.   2. Lokalplanens område  2.1 Lokalplanområdet afgrænses som vist på kortbilag 1 og omfatter ejendom-men matr.nr. 44 og matr. nr. 74 af Glostrup by, Glostrup, samt alle parceller, der efter den 15. oktober 2004 udstykkes fra de nævnte ejendomme og vej-arealer.   3. Områdets anvendelse  3.1 Området må kun anvendes til offentlige formål, sygehus, klinik, laboratorier og forskning med tilhørende administration og servicefunktioner, herunder patienthotel/bohus, enkelte gæsteboliger og lignende formål, som efter kommunalbestyrelsens vurdering naturligt kan indpasses i området.  3.2 Et areal i en bredde af mindst 5 m fra naboskel samt fra en del af vejskellet mod Gl. Landevej må kun anvendes til beplantningsbælte jf. pkt. 8.4 og kortbilag 2.  10 3.3 Indenfor området kan der efter kommunalbestyrelsens nærmere godkendelse opføres de transformer-, regulator-, og vekslerstationer, der måtte være nød-vendige for at sikre områdets energiforsyning, under forudsætning af at dis-se bygningers ydre harmonerer med omgivelserne, at bygningshøjden ikke overstiger 2,6 m, og det bebyggede areal ikke er større end 9 m2.   4. Udstykninger  4.1 Indenfor lokalplanens område kan udstykninger ske efter kommunalbesty-relsens nærmere godkendelse.   5. Vej-, sti og parkeringsforhold  5.1 Der kan etableres én ny direkte vejadgang til området fra Gl. Landevej inden for en zone som vist på kortbilag 2 og med en udformning som vist principielt på kortbilag 3. Overkørsel og vej- og stiadgang skal udformes efter vejmyndigheden Albertslund Kommunes nærmere godkendelse.  5.2 Der kan etableres en ny stiforbindelse i en bredde af mindst 1,5 m til stien langs Gl. Landevej. Stiforbindelsen placeres øst for den nye vejadgang jf. pkt. 5.1 mellem mærket a og b som vist principielt på kortbilag 2 og 3.  5.3 Der kan opretholdes særskilt vejadgang til HNG´s gasstation med den hidtidige placering.  5.4 Såfremt HNG´s gasstation gives vejadgang fra en ny direkte vejadgang fra Gl. Landevej, kan den tidligere vejadgang langs Gl. Landevej lukkes, og det hidtidige vejareal kan udlægges til sekundært parkeringsareal (P2), som vist på kortbilag 2.  5.5 Inden for lokalplanens område skal der, jf. Parkeringspolitik for Glostrup Kommune, vedtaget den 15. marts 2000, udlægges mindst 1 parkeringsplads pr. påbegyndt 50m2 etageareal, hvoraf mindst 75% skal anlægges. Den øvri-ge del skal anlægges, når kommunalbestyrelsen forlanger det. Parkerings-pladser skal anlægges inden for det på kortbilag 2 viste primære parkerings-areal (P1). Såfremt det kan påvises, at der ikke er tilstrækkelig plads til at dække parkeringsbehovet inden for P1, kan der anlægges parkeringspladser i P2. Der kan endvidere til betjening af bohuset indrettes max. 6 parkerings-pladser ved vendepladsen V, som vist principielt på kortbilag 2. Herudover kan der indrettes 3 handicapparkeringspladser umiddelbart nord for bygge-feltet ved den nye adgangsvej.      11 6. Bebyggelsens omfang og placering  6.1 Inden for lokalplanområdet må bebyggelsesprocenten ikke overstige 40 for hver enkelt ejendom.  6.2 Ny bebyggelse skal placeres inden for byggefelt A i en afstand af mindst 15 m fra naboskel mod øst og inden for en afstand af mindst 50 m fra naboskel mod syd, indenfor byggefelt B i en afstand af mindst 50 m. fra naboskel mod syd eller inden for byggefelt C i en afstand af mindst 10 m fra naboskel mod vest og mod syd. Enkelte mindre udhuse, herunder affaldsskure, cykel-skure o.lign. med et samlet maksimalt grundareal på 60 m2 og en maksimal højde på 3 m kan dog placeres uden for disse byggefelter efter byggelovgiv-ningens regler, dog ikke i beplantningsbælter, jf. pkt. 8.4.  6.3 Bebyggelsen må ikke opføres med mere end 1 etage samt kælder inden for byggefelt A, 2 etager samt kælder inden for byggefelt B og 3 etager samt kælder inden for byggefelt C, som vist på kortbilag 2. Hertil kommer tagrum til tekniske installationer. Kommunalbestyrelsen kan dog tillade, at enkelte mindre bygningsdele opfø-res med en større højde, hvis det efter en samlet arkitektonisk vurdering kan indpasses i området.  6.4 Bebyggelse må ikke opføres med en større højde end 7,5 m i byggefelt A,  10 m i byggefelt B og 14 m i byggefelt C.   7. Bebyggelsens ydre fremtræden  7.1 Bebyggelsens form, facader, materialer og farver skal i hvert enkelt tilfælde godkendes af kommunalbestyrelsen.  7.2 Der må ikke opsættes udendørs antenner, herunder paraboler, hverken på bygninger eller master, uden kommunalbestyrelsens nærmere godkendelse.  7.3 Tekniske installationer som udluftningsanlæg, aftrækskanaler og lignende skal om muligt placeres i bygningernes tagrum, eller - hvis de etableres ud-vendigt - udformes som en integreret del af bygningens arkitektur.  7.4 Skiltning og reklamering må kun finde sted efter kommunalbestyrelsens godkendelse. Skiltning og reklamering skal overholde retningslinierne ﬂRetningslinier for facader og skilteﬂ udarbejdet af Glostrup Kommune oktober 1996.       12 8. Ubebyggede arealer og hegning  8.1 Ubebyggede arealer skal ved beplantning, befæstelse og belysning eller lignende gives et ordentligt udseende, ligesom en passende orden ved oplag-ring af materialer og lignende skal opretholdes.  8.2  Parkering og henstilling af både, uindregistrerede køretøjer og campingvog-ne, samt oplagring af materialer må ikke ske på de ubebyggede arealer.  8.3 Ubebyggede arealer må kun anvendes til park, opholds- og legearealer samt til vej-, sti- og parkeringsarealer. Disse arealer skal beplantes, befæstet og belyses efter én samlet plan godkendt af kommunalbestyrelsen. Legearealer må ikke placeres mellem bebyggelsen og naboskel mod øst.  8.4 Der skal opretholdes eller anlægges et mindst 5 m bredt beplantningsbælte mod naboskel samt mod en del af vejskellet mod Gl. Landevej, som vist på kortbilag 2. Mod øst må beplantningen kun bestå af ikke skyggegivende buske af arter, som opnår en højde på max. 3-4 m.  8.5 Friarealer skal plejes og vedligeholdes i overensstemmelse med de godkendte beplantningsplaner, således at de efter kommunalbestyrelsens vurdering til enhver tid fremstår vedligeholdte.  8.6 Ved anlæg, drift og vedligeholdelse af de ubebyggede arealer må der ikke anvendes pesticider/kemiske bekæmpelsesmidler.  8.7 Udendørs legeområder må ikke placeres øst for byggefelt A. Såfremt de placeres inden for byggefelt A, skal de være støjmæssigt afskærmet mod øst af bebyggelse.  8.8 Hegning med trådhegn eller lignende, der ikke kan skjules i beplantning, må kun etableres efter kommunalbestyrelsens nærmere godkendelse af place-ring, materialer og udformning.  8.9 Udendørs opholdsarealer, legeområder m.v. skal placeres og indrettes så de ikke belastes af trafikstøj, der overstiger 55 db(A).  8.10 Regnvand fra tage og belagte arealer skal føres til faskiner, medmindre det kan dokumenteres, at det ikke kan lade sig gøre.  8.11 Placering af opsamlingsmateriel til dagrenovation skal ske i overensstem-melse med Glostrup Kommunes regulativ for husholdningsaffald. 13  9. Forudsætninger for ibrugtagning af bebyggelse   Ny bebyggelse må ikke uden kommunalbestyrelses tilladelse tages i brug før:  9.1 - parkeringsarealer og øvrige ubebyggede arealer for den pågældende bebyggelse er anlagt i overensstemmelse med bestemmelserne i pkt. 5 og pkt. 8,  9.2 - bebyggelsen er tilsluttet et varmeforsyningsanlæg med naturgas,  9.3 - bebyggelsen er tilsluttet Glostrup Kommunes vandforsyning,  9.4 - bebyggelsen er tilsluttet Albertslund Kommunes kloakforsyning.   10. Ophævelse af ældre byplanvedtægter/lokalplaner  Lokalplan GL 54 vedtaget af kommunalbestyrelsen den 8. marts 1983 op-hæves med den endelige vedtagelse af nærværende lokalplan.   11. Lokalplanens retsvirkninger  Efter kommunalbestyrelsens endelige vedtagelse og offentliggørelse af lo-kalplanen må ejendomme, der er omfattet af planen, ifølge Planlovens § 18 kun udstykkes, bebygges eller i øvrigt anvendes i overensstemmelse med planens bestemmelser.  Den eksisterende lovlige anvendelse af en ejendom kan fortsætte som hidtil. Lokalplanen medfører heller ikke i sig selv krav om etablering af de anlæg m.v., der er indeholdt i planen.  Kommunalbestyrelsen kan meddele dispensation fra lokalplanens bestem-melser, hvis dispensationen ikke er i strid med principperne i planen. Vide-regående afvigelser fra lokalplanen kan kun gennemføres ved en ny lokal-plan.  Private byggeservitutter og andre tilstandsservitutter, der er uforenelige med lokalplanen, fortrænges af planen, jf. § 18 i Planloven.         14 15   Vedtagelsespåtegning  Lokalplanen er endeligt vedtaget af Glostrup Kommunalbestyrelse, den 15. \\njuni 2005.   GLOSTRUP KOMMUNALBESTYRELSE, den 19. juli 2005.     Søren Enemark \\nBorgmester \\n/ J.F. Hovmand \\nStadsingeniør  Gl Ladevej.nPrivat fællsveejetlndoeAlbrsu KmmunlostruommunGp KeHNGKennedy InstituttetStatens ØjenklinikAmtssygehuset iGlostrupNESAStjernvangeenNLokalplan GL 54.1Kennedy Instituttet - Statens ØjenklinikKortbilag 1Lokalplanens område\\nMål 1:1500Lokalplangrænse4p44744546474849505152535455564pSednkunær parkerig (P2)StiGl. LandevejZone for ejadganvg15 m0 1m10 mabACBPrmærparkeing (1)i rPV50 mNLokalplan GL 54.1Kennedy Instituttet - Statens ØjenklinikKortbilag 2 Lokalplanens anvendelse og byggefelter\\nMål 1:1500                      Rev. 14.4.2005LokalplangrænseByggefelt 1 etagerByggefelt 3 etagerNy vejadgangNy stiadgangParkeringByggefelt 2 etagerBeplantningsbælteGl. LandevejGræsEksisterende stiopdeles eventueltJordvold med beplantningSkel og kom-munegrænseOverkørsel i chausséstenyN vejadgangNy stiadgngaOversigtslinier fastlægges nærmere Lokalplan GL 54.1Kennedy Instituttet - Statens ØjenklinikKortbilag 3Principskitse- ny vejadgang fra Gl. Landevej\\nMål 1:200'}}]}}"
      ]
     },
     "execution_count": 189,
     "metadata": {},
     "output_type": "execute_result"
    }
   ],
   "source": [
    "search_documents('plandata', 'støj')"
   ]
  },
  {
   "cell_type": "markdown",
   "metadata": {},
   "source": [
    "# Delete data"
   ]
  },
  {
   "cell_type": "code",
   "execution_count": 186,
   "metadata": {},
   "outputs": [],
   "source": [
    "#es.indices.delete(index='plandata', ignore=[400, 404])"
   ]
  },
  {
   "cell_type": "markdown",
   "metadata": {},
   "source": [
    "# Sandkasse"
   ]
  },
  {
   "cell_type": "code",
   "execution_count": 1,
   "metadata": {},
   "outputs": [],
   "source": [
    "import pdfminer"
   ]
  },
  {
   "cell_type": "code",
   "execution_count": null,
   "metadata": {},
   "outputs": [],
   "source": [
    "with open('/tmp/metadata.pdf', 'wb') as f:\n",
    "    f.write(response.content)"
   ]
  }
 ],
 "metadata": {
  "kernelspec": {
   "display_name": "Python 3",
   "language": "python",
   "name": "python3"
  },
  "language_info": {
   "codemirror_mode": {
    "name": "ipython",
    "version": 3
   },
   "file_extension": ".py",
   "mimetype": "text/x-python",
   "name": "python",
   "nbconvert_exporter": "python",
   "pygments_lexer": "ipython3",
<<<<<<< HEAD
   "version": "3.6.5"
=======
   "version": "3.6.6"
>>>>>>> 3ad46f3e01a644e08a379089bb6fcf655b82c167
  }
 },
 "nbformat": 4,
 "nbformat_minor": 2
}
