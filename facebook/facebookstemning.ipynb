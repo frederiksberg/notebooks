{
 "cells": [
  {
   "cell_type": "markdown",
   "metadata": {},
   "source": [
    "# Stemningsanalyse i Facebookgrupper\n",
    "\n",
    "Denne notesbog kan hjælpe med at holde styr på stemmingen i Facebookgrupper. [AFINN](https://github.com/fnielsen/afinn) bruges til sentimentanalyse af beskeder, kommentarer og vedhæftninger i en gruppe. Herved er det muligt at veje stemningen i gruppen over tid og fordelt på forskellige kategorier som f.eks. gadelygter og affald. Klassifikationen af kategorier sker ved at søge efter beskeder som indeholder udvalgte ord som har relation til kategorien.\n",
    "\n",
    "## Indhold\n",
    "1. [Input](#Input)\n",
    "2. [Tilretning](#Tilretning)\n",
    "3. [Berigelse](#Berigelse)\n",
    "4. [Analyse](#Analyse)\n",
    "5. [Output](#Output)"
   ]
  },
  {
   "cell_type": "code",
   "execution_count": null,
   "metadata": {
    "collapsed": true
   },
   "outputs": [],
   "source": [
    "import numpy as np\n",
    "import pandas as pd\n",
    "import requests\n",
    "from afinn import Afinn\n",
    "from IPython.display import HTML\n",
    "import psycopg2\n",
    "from sqlalchemy import create_engine\n",
    "\n",
    "pd.set_option('display.max_colwidth', -1)\n",
    "pd.set_option('display.max_rows', 100)\n",
    "#pd.reset_option('display.max_colwidth')"
   ]
  },
  {
   "cell_type": "markdown",
   "metadata": {},
   "source": [
    "# Input \n",
    "## Hent data og lav dataframe"
   ]
  },
  {
   "cell_type": "code",
   "execution_count": null,
   "metadata": {},
   "outputs": [],
   "source": [
    "# Angiv de grupper der skal hentes feeds fra ( Slå gruppe id op http://lookup-id.com/ )\n",
    "groups = {\n",
    "    \"Mit Ballerup\": '241841222854414', # Denne gruppe er nu lukket\n",
    "    \"Vores by Skovlunde\": '725746707539505',\n",
    "    \"Mit Måløv\": '272828512895426'\n",
    "}\n",
    "access_token = 'xxx|yyy'\n",
    "limit = 500 # facebook har max limit på 500 \n",
    "feeds = []\n",
    "\n",
    "for group, group_id in groups.items(): \n",
    "    url = \"https://graph.facebook.com/v2.10/{}/feed?fields=reactions,comments,message, created_time,attachments&limit={}&access_token={}\".format(group_id, limit, access_token)\n",
    "    try:\n",
    "        r = requests.get(url)\n",
    "        data = r.json()\n",
    "        df_data = data['data']\n",
    "        df = pd.DataFrame(df_data)\n",
    "        df['kilde'] = group\n",
    "        feeds.append(df)\n",
    "        \n",
    "    except Exception as e:\n",
    "        print('Exception:',e)"
   ]
  },
  {
   "cell_type": "code",
   "execution_count": null,
   "metadata": {
    "collapsed": true
   },
   "outputs": [],
   "source": [
    "# Samler feeds fra grupperne i en DF\n",
    "df = pd.concat(feeds, ignore_index=True)"
   ]
  },
  {
   "cell_type": "markdown",
   "metadata": {},
   "source": [
    "# Tilretning\n",
    "Tilretter DF med udfra de eksisterende oplysninger"
   ]
  },
  {
   "cell_type": "code",
   "execution_count": null,
   "metadata": {
    "collapsed": true
   },
   "outputs": [],
   "source": [
    "#dato laves til datatype datetime\n",
    "df['created_time'] = pd.to_datetime(df['created_time'])"
   ]
  },
  {
   "cell_type": "code",
   "execution_count": null,
   "metadata": {
    "collapsed": true
   },
   "outputs": [],
   "source": [
    "df['link'] = df['id'].apply(lambda x: 'https://www.facebook.com/' + x)\n",
    "#df['link'] = df['id'].apply(lambda x: '<a href=\"https://www.facebook.com/{0}\" target=\"_blank\">link</a>'.format(x))"
   ]
  },
  {
   "cell_type": "code",
   "execution_count": null,
   "metadata": {
    "collapsed": true,
    "scrolled": true
   },
   "outputs": [],
   "source": [
    "# Tittel og beskrivelse fra vedhæftelser som f.eks. billeder tilføjes\n",
    "def att_text(series):\n",
    "    try:\n",
    "        return series['data'][0]['title'] + ' - ' + series['data'][0]['description']\n",
    "    except:\n",
    "        pass\n",
    "     \n",
    "df['attachments'] = df['attachments'].apply(att_text)"
   ]
  },
  {
   "cell_type": "code",
   "execution_count": null,
   "metadata": {
    "collapsed": true
   },
   "outputs": [],
   "source": [
    "def comment_list(col):\n",
    "    if pd.notnull(col):\n",
    "        return [ x['message'] for x in col['data']]\n",
    "    else:\n",
    "        None\n",
    "\n",
    "df['kommentarer'] = df['comments'].apply(comment_list)"
   ]
  },
  {
   "cell_type": "markdown",
   "metadata": {},
   "source": [
    "#### Reaktioner på FB"
   ]
  },
  {
   "cell_type": "code",
   "execution_count": null,
   "metadata": {
    "collapsed": true
   },
   "outputs": [],
   "source": [
    "def reaction(col, mood):\n",
    "    if pd.notnull(col):\n",
    "        return [ x['type'] for x in col['data']].count(mood)\n",
    "    else:\n",
    "        None\n",
    "\n",
    "df['likes'] = df['reactions'].apply(lambda x: reaction(x, 'LIKE'))\n",
    "df['angry'] = df['reactions'].apply(lambda x: reaction(x, 'ANGRY'))\n",
    "df['love'] = df['reactions'].apply(lambda x: reaction(x, 'LOVE'))\n",
    "df['total_reactions'] =  df['reactions'].apply(lambda x: len(x['data']) if pd.notnull(x) else None)"
   ]
  },
  {
   "cell_type": "markdown",
   "metadata": {},
   "source": [
    "# Berigelse\n",
    "Beriger DF med stemning og klassifikation"
   ]
  },
  {
   "cell_type": "markdown",
   "metadata": {},
   "source": [
    "## Stemning\n",
    "AFINN bruges til at bestemme stemningen i besked og kommentar"
   ]
  },
  {
   "cell_type": "code",
   "execution_count": null,
   "metadata": {
    "collapsed": true
   },
   "outputs": [],
   "source": [
    "afinn = Afinn(language='da', emoticons=True)"
   ]
  },
  {
   "cell_type": "code",
   "execution_count": null,
   "metadata": {
    "collapsed": true
   },
   "outputs": [],
   "source": [
    "# Beskedstemning\n",
    "df['beskedstemning'] = df['message'].apply(lambda x: afinn.score(str(x)))"
   ]
  },
  {
   "cell_type": "code",
   "execution_count": null,
   "metadata": {
    "collapsed": true
   },
   "outputs": [],
   "source": [
    "# Kommentarstemning\n",
    "def comment_rating(series):\n",
    "    if pd.notnull(series):\n",
    "        return sum([ afinn.score(x['message']) for x in series['data'] ])\n",
    "    else:\n",
    "        None\n",
    "\n",
    "df['kommentarstemning'] = df['comments'].apply(comment_rating)"
   ]
  },
  {
   "cell_type": "code",
   "execution_count": null,
   "metadata": {
    "collapsed": true
   },
   "outputs": [],
   "source": [
    "# Attachment stemning\n",
    "df['attachmentstemning'] = df['attachments'].apply(lambda x: afinn.score(str(x)))"
   ]
  },
  {
   "cell_type": "markdown",
   "metadata": {},
   "source": [
    "## Klassifikation\n",
    "Beskeder klassificeres afhængigt af kategori"
   ]
  },
  {
   "cell_type": "code",
   "execution_count": null,
   "metadata": {
    "collapsed": true
   },
   "outputs": [],
   "source": [
    "keywords = {\n",
    "    'belysning': 'lys lyset lyser belysning belysningen lampe lamper lamperne gadelampe gadelamper gadelamperne lygte lygter lygterne gadelygte gadelygter gadelygterne gadebelysning mørkt mørke lyskryds lyskrydset lyssignal'.split(' '),\n",
    "    'skrald': 'skrald affald skraldespand renovation affaldscontainer container affaldsspand affaldsbeholder beholder skraldebeholder affaldskube skraldesortering'.split(' '),\n",
    "    'valg': 'kommunevalg, kommunevalget, stemmeseddel, stemmesedlen, stemmesedler, kv17'.split(' '),\n",
    "}"
   ]
  },
  {
   "cell_type": "code",
   "execution_count": null,
   "metadata": {
    "collapsed": true
   },
   "outputs": [],
   "source": [
    "def classify(msg, keywords):\n",
    "    '''\n",
    "    Klassificerer tekst udfra kategorier med tilhørende nøgleord. \n",
    "    Er afhængig af AFINN split til at konvertere besked til liste med ord\n",
    "    \n",
    "    Parameters\n",
    "    ----------\n",
    "    msg:\n",
    "        besked som ønskes klassificeres\n",
    "    keywords:\n",
    "        dictionaty med kategori som key liste med nøgleord som value \n",
    "    '''\n",
    "    \n",
    "    categories = []\n",
    "    \n",
    "    if pd.notnull(msg):\n",
    "        for cat, words in keywords.items():\n",
    "            if any(word.lower() in afinn.split(msg.lower()) for word in words):\n",
    "                categories.append( cat )\n",
    "            else:\n",
    "                None\n",
    "    else:\n",
    "        None\n",
    "        \n",
    "    return categories"
   ]
  },
  {
   "cell_type": "code",
   "execution_count": null,
   "metadata": {
    "collapsed": true
   },
   "outputs": [],
   "source": [
    "df['kategori'] = df['message'].apply(lambda x: ', '.join(classify(x, keywords)))"
   ]
  },
  {
   "cell_type": "markdown",
   "metadata": {},
   "source": [
    "## Endelig dataframe"
   ]
  },
  {
   "cell_type": "code",
   "execution_count": null,
   "metadata": {
    "collapsed": true
   },
   "outputs": [],
   "source": [
    "bal = df[['created_time','kilde','message','attachments','beskedstemning','kommentarstemning', 'attachmentstemning', 'total_reactions', 'likes','angry','love', 'kategori', 'link']]\n",
    "#HTML(bal.to_html (escape=False))"
   ]
  },
  {
   "cell_type": "code",
   "execution_count": null,
   "metadata": {},
   "outputs": [],
   "source": [
    "bal.info()"
   ]
  },
  {
   "cell_type": "code",
   "execution_count": null,
   "metadata": {},
   "outputs": [],
   "source": [
    "bal[bal['kategori'] == 'belysning'].shape"
   ]
  },
  {
   "cell_type": "markdown",
   "metadata": {},
   "source": [
    "# Analyse"
   ]
  },
  {
   "cell_type": "code",
   "execution_count": null,
   "metadata": {},
   "outputs": [],
   "source": [
    "bal = df[['created_time','kilde','message','attachments','beskedstemning','kommentarstemning', 'attachmentstemning', 'total_reactions', 'likes','angry','love', 'kategori', 'link']]\n",
    "HTML(bal.to_html (escape=False))"
   ]
  },
  {
   "cell_type": "markdown",
   "metadata": {},
   "source": [
    "## Samlet stemning i de sidste 500 beskeder om belysning på Facebook\n",
    "Man kunne evt kigge på at lave et stemningsindex:<br>\n",
    "```stemningsindex = (stemning + kommentarstemning) * (likes + angry)```"
   ]
  },
  {
   "cell_type": "code",
   "execution_count": null,
   "metadata": {},
   "outputs": [],
   "source": [
    "bal['kommentarstemning'].sum() + bal['beskedstemning'].sum()"
   ]
  },
  {
   "cell_type": "code",
   "execution_count": null,
   "metadata": {},
   "outputs": [],
   "source": [
    "bal.groupby('kilde')['beskedstemning'].describe()"
   ]
  },
  {
   "cell_type": "markdown",
   "metadata": {},
   "source": [
    "## Visualisering"
   ]
  },
  {
   "cell_type": "code",
   "execution_count": null,
   "metadata": {
    "collapsed": true
   },
   "outputs": [],
   "source": [
    "import matplotlib.pyplot as plt\n",
    "import seaborn as sns\n",
    "%matplotlib inline"
   ]
  },
  {
   "cell_type": "code",
   "execution_count": null,
   "metadata": {
    "collapsed": true
   },
   "outputs": [],
   "source": [
    "belysning"
   ]
  },
  {
   "cell_type": "code",
   "execution_count": null,
   "metadata": {
    "collapsed": true
   },
   "outputs": [],
   "source": [
    "#sns.tsplot(belysning, time='created_time', value='beskedstemning', condition='kilde')\n",
    "\n",
    "test = belysning.set_index('created_time')['beskedstemning']\n",
    "sns.tsplot(test)"
   ]
  },
  {
   "cell_type": "code",
   "execution_count": null,
   "metadata": {
    "collapsed": true
   },
   "outputs": [],
   "source": [
    "sns.distplot(test)\n"
   ]
  },
  {
   "cell_type": "code",
   "execution_count": null,
   "metadata": {
    "collapsed": true
   },
   "outputs": [],
   "source": [
    "plt.figure(figsize=(10, 7))\n",
    "sns.barplot(x='kilde', y='beskedstemning', data=belysning.groupby('kilde').sum().reset_index())"
   ]
  },
  {
   "cell_type": "markdown",
   "metadata": {},
   "source": [
    "# Output\n",
    "Data sendes til PostgreSQL"
   ]
  },
  {
   "cell_type": "code",
   "execution_count": null,
   "metadata": {
    "collapsed": true
   },
   "outputs": [],
   "source": [
    "user = 'xx'\n",
    "pw = 'xx'\n",
    "port = 5432\n",
    "host = 'xx'\n",
    "db = 'xx'\n",
    "schema = 'xx'\n",
    "table = 'xx''"
   ]
  },
  {
   "cell_type": "code",
   "execution_count": null,
   "metadata": {
    "collapsed": true
   },
   "outputs": [],
   "source": [
    "con = create_engine('postgresql://{0}:{1}@{2}:{3}/{4}'.format(user, pw, host, port, db))"
   ]
  },
  {
   "cell_type": "code",
   "execution_count": null,
   "metadata": {
    "collapsed": true
   },
   "outputs": [],
   "source": [
    "bal.to_sql(table, con, schema=schema, if_exists='replace', index_label='gid')"
   ]
  },
  {
   "cell_type": "code",
   "execution_count": null,
   "metadata": {
    "collapsed": true
   },
   "outputs": [],
   "source": [
    "import sqlalchemy"
   ]
  },
  {
   "cell_type": "code",
   "execution_count": null,
   "metadata": {
    "collapsed": true
   },
   "outputs": [],
   "source": [
    "dtype = {\n",
    "    'attachments': sqlalchemy.JSON(), \n",
    "    'comments': sqlalchemy.JSON(), \n",
    "    'created_time': sqlalchemy.TIMESTAMP(), \n",
    "    'id': sqlalchemy.TEXT(), \n",
    "    'message': sqlalchemy.TEXT(), \n",
    "    'reactions': sqlalchemy.JSON(),\n",
    "    'kilde': sqlalchemy.VARCHAR()\n",
    "}"
   ]
  },
  {
   "cell_type": "code",
   "execution_count": null,
   "metadata": {
    "collapsed": true
   },
   "outputs": [],
   "source": [
    "df.to_sql('ballerup_raw', con, schema=schema, if_exists='replace', index_label='gid', dtype=dtype)"
   ]
  },
  {
   "cell_type": "markdown",
   "metadata": {},
   "source": [
    "# Sandkasse"
   ]
  },
  {
   "cell_type": "code",
   "execution_count": null,
   "metadata": {
    "scrolled": true
   },
   "outputs": [],
   "source": [
    "afinn.split('Hej med Dig!!!'.lower())"
   ]
  },
  {
   "cell_type": "code",
   "execution_count": null,
   "metadata": {
    "collapsed": true
   },
   "outputs": [],
   "source": [
    "import string\n",
    "import nltk"
   ]
  },
  {
   "cell_type": "markdown",
   "metadata": {},
   "source": [
    "## Stopwords"
   ]
  },
  {
   "cell_type": "code",
   "execution_count": null,
   "metadata": {},
   "outputs": [],
   "source": [
    "nltk.download('stopwords')"
   ]
  },
  {
   "cell_type": "code",
   "execution_count": null,
   "metadata": {
    "collapsed": true
   },
   "outputs": [],
   "source": [
    "from nltk.corpus import stopwords"
   ]
  },
  {
   "cell_type": "code",
   "execution_count": null,
   "metadata": {
    "collapsed": true
   },
   "outputs": [],
   "source": [
    "#stopwords.words('danish')"
   ]
  },
  {
   "cell_type": "markdown",
   "metadata": {},
   "source": [
    "## Stemming"
   ]
  },
  {
   "cell_type": "code",
   "execution_count": null,
   "metadata": {
    "collapsed": true
   },
   "outputs": [],
   "source": [
    "from nltk.stem.snowball import DanishStemmer"
   ]
  },
  {
   "cell_type": "code",
   "execution_count": null,
   "metadata": {
    "collapsed": true
   },
   "outputs": [],
   "source": [
    "stemmer = DanishStemmer()"
   ]
  },
  {
   "cell_type": "code",
   "execution_count": null,
   "metadata": {},
   "outputs": [],
   "source": [
    "test = 'Bilerne kørte mod højre i går morges og i morges'\n",
    "[stemmer.stem(word) for word in afinn.split(test.lower())]"
   ]
  },
  {
   "cell_type": "markdown",
   "metadata": {},
   "source": [
    "## Frequency Distribution"
   ]
  },
  {
   "cell_type": "code",
   "execution_count": null,
   "metadata": {
    "collapsed": true
   },
   "outputs": [],
   "source": [
    "from nltk import FreqDist"
   ]
  },
  {
   "cell_type": "code",
   "execution_count": null,
   "metadata": {
    "collapsed": true
   },
   "outputs": [],
   "source": [
    "freqdist = FreqDist()"
   ]
  },
  {
   "cell_type": "code",
   "execution_count": null,
   "metadata": {},
   "outputs": [],
   "source": [
    "freqdist.freq(test)"
   ]
  },
  {
   "cell_type": "markdown",
   "metadata": {},
   "source": [
    "## Maskinelæring"
   ]
  },
  {
   "cell_type": "code",
   "execution_count": null,
   "metadata": {
    "collapsed": true
   },
   "outputs": [],
   "source": [
    "from sklearn.feature_extraction.text import CountVectorizer\n",
    "import nltk\n",
    "#nltk.download('stopwords')"
   ]
  },
  {
   "cell_type": "code",
   "execution_count": null,
   "metadata": {
    "collapsed": true
   },
   "outputs": [],
   "source": [
    "from nltk.corpus import stopwords\n",
    "\n",
    "def text_process(message):\n",
    "    '''\n",
    "    Beskederne bliver renset fra stopord og tegn og fyldt i liste. Afhængig af NLTK Stopwords og AFINN split.\n",
    "    '''\n",
    "    if pd.notnull(message):\n",
    "        splt_msg = afinn.split(message)\n",
    "        return [word for word in splt_msg if word.lower() not in stopwords.words('danish')]\n",
    "    else:\n",
    "        pass"
   ]
  },
  {
   "cell_type": "code",
   "execution_count": null,
   "metadata": {
    "collapsed": true
   },
   "outputs": [],
   "source": [
    "tags = '''lys lyset lyser belysning belysningen lampe lamper lamperne gadelampe gadelamper gadelamperne \n",
    "lygte lygter lygterne gadelygte gadelygter gadelygterne gadebelysning mørkt mørke'''.split(' ')"
   ]
  },
  {
   "cell_type": "code",
   "execution_count": null,
   "metadata": {
    "collapsed": true
   },
   "outputs": [],
   "source": [
    "bow_transformer = CountVectorizer(analyzer=text_process).fit(df['message'].fillna(''))\n",
    "vectorizer = CountVectorizer(analyzer=text_process, vocabulary=tags)\n",
    "words_matrix = vectorizer.fit_transform(df['message'].fillna(''))\n",
    "\n",
    "test = pd.DataFrame(data=words_matrix.todense(), columns=vectorizer.get_feature_names())"
   ]
  },
  {
   "cell_type": "code",
   "execution_count": null,
   "metadata": {},
   "outputs": [],
   "source": [
    "test"
   ]
  },
  {
   "cell_type": "code",
   "execution_count": null,
   "metadata": {},
   "outputs": [],
   "source": [
    "# Print total number of vocab words\n",
    "print(len(bow_transformer.vocabulary_))"
   ]
  },
  {
   "cell_type": "markdown",
   "metadata": {},
   "source": [
    "https://stackoverflow.com/a/40686775/3914186"
   ]
  }
 ],
 "metadata": {
  "kernelspec": {
   "display_name": "Python 3",
   "language": "python",
   "name": "python3"
  },
  "language_info": {
   "codemirror_mode": {
    "name": "ipython",
    "version": 3
   },
   "file_extension": ".py",
   "mimetype": "text/x-python",
   "name": "python",
   "nbconvert_exporter": "python",
   "pygments_lexer": "ipython3",
   "version": "3.6.5"
  }
 },
 "nbformat": 4,
 "nbformat_minor": 2
}
