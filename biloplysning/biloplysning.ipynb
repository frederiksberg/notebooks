{
 "cells": [
  {
   "cell_type": "code",
   "execution_count": null,
   "metadata": {},
   "outputs": [],
   "source": [
    "import pandas as pd\n",
    "import numpy as np\n",
    "import requests\n",
    "import psycopg2\n",
    "import sqlalchemy\n",
    "from sqlalchemy import create_engine"
   ]
  },
  {
   "cell_type": "markdown",
   "metadata": {},
   "source": [
    "# Input \n",
    "### PostgreSQL\n",
    "Henter bilernes registreringsnummer fra flådestyrings tabel"
   ]
  },
  {
   "cell_type": "code",
   "execution_count": null,
   "metadata": {},
   "outputs": [],
   "source": [
    "user = 'xx'\n",
    "pw = 'xx'\n",
    "port = 5432\n",
    "host = 'xx'\n",
    "db = 'xx'"
   ]
  },
  {
   "cell_type": "code",
   "execution_count": null,
   "metadata": {},
   "outputs": [],
   "source": [
    "con = create_engine('postgresql://{0}:{1}@{2}:{3}/{4}'.format(user, pw, host, port, db))"
   ]
  },
  {
   "cell_type": "code",
   "execution_count": null,
   "metadata": {},
   "outputs": [],
   "source": [
    "query = \"\"\"\n",
    "    SELECT bilreg \n",
    "    FROM lora_flaadestyring.bil_bilreg_euid \n",
    "    WHERE bilreg <> '*mangler*'\n",
    "    \"\"\"\n",
    "\n",
    "insert = \"\"\"\n",
    "    SELECT a.bilreg\n",
    "    FROM lora_flaadestyring.bil_bilreg_euid a\n",
    "    LEFT JOIN lora_flaadestyring.biler b\n",
    "    ON trim(upper(a.bilreg)) = trim(upper(b.\"LicensePlateNumber\"))\n",
    "    WHERE b.\"LicensePlateNumber\" is null and a.bilreg <> '*mangler*'\n",
    "\"\"\"\n",
    "\n",
    "delete = \"\"\"\n",
    "    SELECT b.\"LicensePlateNumber\"\n",
    "    FROM lora_flaadestyring.bil_bilreg_euid a\n",
    "    RIGHT JOIN lora_flaadestyring.biler b\n",
    "    ON trim(upper(a.bilreg)) = trim(upper(b.\"LicensePlateNumber\"))\n",
    "    WHERE a.bilreg is null\n",
    "\"\"\""
   ]
  },
  {
   "cell_type": "code",
   "execution_count": null,
   "metadata": {},
   "outputs": [],
   "source": [
    "bilreg = pd.read_sql_query(insert,con=con)"
   ]
  },
  {
   "cell_type": "code",
   "execution_count": null,
   "metadata": {},
   "outputs": [],
   "source": [
    "plader = bilreg.bilreg.values"
   ]
  },
  {
   "cell_type": "code",
   "execution_count": null,
   "metadata": {},
   "outputs": [],
   "source": [
    "plader"
   ]
  },
  {
   "cell_type": "markdown",
   "metadata": {},
   "source": [
    "# Berig\n",
    "### Motorregister API\n",
    "Henter biloplysninger fra https://motorregisterapi.com/"
   ]
  },
  {
   "cell_type": "code",
   "execution_count": null,
   "metadata": {},
   "outputs": [],
   "source": [
    "auth = ''\n",
    "url = 'https://motorregisterapi.com/api/vehicles/get/'"
   ]
  },
  {
   "cell_type": "code",
   "execution_count": null,
   "metadata": {},
   "outputs": [],
   "source": [
    "data = []\n",
    "for plade in plader:\n",
    "    url = 'https://motorregisterapi.com/api/vehicles/get/{}'.format(plade)\n",
    "    r = requests.get(url, auth=(auth, auth))\n",
    "    d = r.json()\n",
    "    data.append(d)"
   ]
  },
  {
   "cell_type": "code",
   "execution_count": null,
   "metadata": {},
   "outputs": [],
   "source": [
    "df = pd.DataFrame(data)"
   ]
  },
  {
   "cell_type": "markdown",
   "metadata": {},
   "source": [
    "Fjerner rækker hvor der ikke blev fundet oplysninger på nummerpladen "
   ]
  },
  {
   "cell_type": "code",
   "execution_count": null,
   "metadata": {},
   "outputs": [],
   "source": [
    "df.dropna(axis=0, subset=['LicensePlateNumber'], inplace=True)"
   ]
  },
  {
   "cell_type": "code",
   "execution_count": null,
   "metadata": {},
   "outputs": [],
   "source": [
    "df.set_index('LicensePlateNumber', inplace=True)"
   ]
  },
  {
   "cell_type": "code",
   "execution_count": null,
   "metadata": {},
   "outputs": [],
   "source": [
    "df"
   ]
  },
  {
   "cell_type": "markdown",
   "metadata": {},
   "source": [
    "# Output\n",
    "Gemmer i PostgreSQL database"
   ]
  },
  {
   "cell_type": "code",
   "execution_count": null,
   "metadata": {},
   "outputs": [],
   "source": [
    "table = 'biler'\n",
    "schema = 'lora_flaadestyring'"
   ]
  },
  {
   "cell_type": "code",
   "execution_count": null,
   "metadata": {},
   "outputs": [],
   "source": [
    "df.to_sql(table, con, schema=schema, if_exists='replace')"
   ]
  },
  {
   "cell_type": "markdown",
   "metadata": {},
   "source": [
    "# Gammelt\n",
    "\n",
    "### T Hansen API"
   ]
  },
  {
   "cell_type": "code",
   "execution_count": null,
   "metadata": {},
   "outputs": [],
   "source": [
    "token = '18506180474'\n",
    "plader = 'ZM37183 BT60163 BS15899 BL55280 BR93131 BV14903 BS15898 BV14900 BV14901 BZ55107 BZ55115 BZ55106'.split(' ')"
   ]
  },
  {
   "cell_type": "code",
   "execution_count": null,
   "metadata": {},
   "outputs": [],
   "source": [
    "data = []"
   ]
  },
  {
   "cell_type": "code",
   "execution_count": null,
   "metadata": {},
   "outputs": [],
   "source": [
    "for plade in plader:\n",
    "    url = 'https://dmr.thg.dk/importoer/api/Koeretoejekst/GetTekniskData?token={}&plade={}'.format(token, plade)\n",
    "    r = requests.get(url)\n",
    "    d = r.json()\n",
    "    data.append(d)"
   ]
  },
  {
   "cell_type": "code",
   "execution_count": null,
   "metadata": {},
   "outputs": [],
   "source": [
    "df = pd.DataFrame(data)"
   ]
  },
  {
   "cell_type": "code",
   "execution_count": null,
   "metadata": {},
   "outputs": [],
   "source": [
    "df.set_index('RegNr', inplace=True)"
   ]
  },
  {
   "cell_type": "markdown",
   "metadata": {},
   "source": [
    "# SQLALCHEMY"
   ]
  },
  {
   "cell_type": "code",
   "execution_count": null,
   "metadata": {},
   "outputs": [],
   "source": [
    "import sqlalchemy\n",
    "from sqlalchemy import create_engine\n",
    "import psycopg2"
   ]
  },
  {
   "cell_type": "code",
   "execution_count": null,
   "metadata": {},
   "outputs": [],
   "source": [
    "user = 'xx'\n",
    "pw = 'xx'\n",
    "port = 5432\n",
    "host = 'xxx'\n",
    "db = 'xx'"
   ]
  },
  {
   "cell_type": "code",
   "execution_count": null,
   "metadata": {},
   "outputs": [],
   "source": [
    "engine = create_engine('postgresql://{0}:{1}@{2}:{3}/{4}'.format(user, pw, host, port, db))"
   ]
  },
  {
   "cell_type": "code",
   "execution_count": null,
   "metadata": {},
   "outputs": [],
   "source": [
    "insert = engine.execute(insert)"
   ]
  },
  {
   "cell_type": "code",
   "execution_count": null,
   "metadata": {},
   "outputs": [],
   "source": [
    "for row in insert:\n",
    "   print(row['bilreg'])"
   ]
  },
  {
   "cell_type": "code",
   "execution_count": null,
   "metadata": {},
   "outputs": [],
   "source": [
    "query = \"\"\"\n",
    "    SELECT bilreg \n",
    "    FROM lora_flaadestyring.bil_bilreg_euid \n",
    "    WHERE bilreg <> '*mangler*'\n",
    "\"\"\"\n",
    "\n",
    "insert = \"\"\"\n",
    "    SELECT a.bilreg\n",
    "    FROM lora_flaadestyring.bil_bilreg_euid a\n",
    "    LEFT JOIN lora_flaadestyring.biler b\n",
    "    ON trim(upper(a.bilreg)) = trim(upper(b.\"LicensePlateNumber\"))\n",
    "    WHERE b.\"LicensePlateNumber\" is null and a.bilreg <> '*mangler*'\n",
    "\"\"\"\n",
    "\n",
    "delete = \"\"\"\n",
    "    SELECT b.\"LicensePlateNumber\"\n",
    "    FROM lora_flaadestyring.bil_bilreg_euid a\n",
    "    RIGHT JOIN lora_flaadestyring.biler b\n",
    "    ON trim(upper(a.bilreg)) = trim(upper(b.\"LicensePlateNumber\"))\n",
    "    WHERE a.bilreg is null\n",
    "\"\"\""
   ]
  }
 ],
 "metadata": {
  "kernelspec": {
   "display_name": "Python 3",
   "language": "python",
   "name": "python3"
  },
  "language_info": {
   "codemirror_mode": {
    "name": "ipython",
    "version": 3
   },
   "file_extension": ".py",
   "mimetype": "text/x-python",
   "name": "python",
   "nbconvert_exporter": "python",
   "pygments_lexer": "ipython3",
   "version": "3.6.6"
  }
 },
 "nbformat": 4,
 "nbformat_minor": 2
}
